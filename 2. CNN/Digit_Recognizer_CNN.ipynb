{
  "nbformat": 4,
  "nbformat_minor": 0,
  "metadata": {
    "colab": {
      "provenance": [],
      "gpuType": "T4"
    },
    "kernelspec": {
      "name": "python3",
      "display_name": "Python 3"
    },
    "language_info": {
      "name": "python"
    },
    "accelerator": "GPU"
  },
  "cells": [
    {
      "cell_type": "markdown",
      "source": [
        "# Digit Recognizer 🔢\n",
        "\n",
        "Dataset : MNIST data"
      ],
      "metadata": {
        "id": "22CFBvMxbcnk"
      }
    },
    {
      "cell_type": "code",
      "source": [
        "import tensorflow as tf\n",
        "import numpy as np\n",
        "import pandas as pd\n",
        "import matplotlib.pyplot as plt"
      ],
      "metadata": {
        "id": "rJlS8FoQIUfb"
      },
      "execution_count": 1,
      "outputs": []
    },
    {
      "cell_type": "code",
      "source": [
        "train = pd.read_csv('/content/train.csv')"
      ],
      "metadata": {
        "id": "0ziHR565Ic9E"
      },
      "execution_count": 2,
      "outputs": []
    },
    {
      "cell_type": "code",
      "source": [
        "train.head(1)"
      ],
      "metadata": {
        "colab": {
          "base_uri": "https://localhost:8080/",
          "height": 129
        },
        "id": "a27voqDwI7zu",
        "outputId": "e143396e-3933-4dcc-bed6-3e36739fc102"
      },
      "execution_count": 3,
      "outputs": [
        {
          "output_type": "execute_result",
          "data": {
            "text/plain": [
              "   label  pixel0  pixel1  pixel2  pixel3  pixel4  pixel5  pixel6  pixel7  \\\n",
              "0      1       0       0       0       0       0       0       0       0   \n",
              "\n",
              "   pixel8  ...  pixel774  pixel775  pixel776  pixel777  pixel778  pixel779  \\\n",
              "0       0  ...         0         0         0         0         0         0   \n",
              "\n",
              "   pixel780  pixel781  pixel782  pixel783  \n",
              "0         0         0         0         0  \n",
              "\n",
              "[1 rows x 785 columns]"
            ],
            "text/html": [
              "\n",
              "  <div id=\"df-4b4612d3-d241-4ac8-b658-e2c07ccbdfc1\" class=\"colab-df-container\">\n",
              "    <div>\n",
              "<style scoped>\n",
              "    .dataframe tbody tr th:only-of-type {\n",
              "        vertical-align: middle;\n",
              "    }\n",
              "\n",
              "    .dataframe tbody tr th {\n",
              "        vertical-align: top;\n",
              "    }\n",
              "\n",
              "    .dataframe thead th {\n",
              "        text-align: right;\n",
              "    }\n",
              "</style>\n",
              "<table border=\"1\" class=\"dataframe\">\n",
              "  <thead>\n",
              "    <tr style=\"text-align: right;\">\n",
              "      <th></th>\n",
              "      <th>label</th>\n",
              "      <th>pixel0</th>\n",
              "      <th>pixel1</th>\n",
              "      <th>pixel2</th>\n",
              "      <th>pixel3</th>\n",
              "      <th>pixel4</th>\n",
              "      <th>pixel5</th>\n",
              "      <th>pixel6</th>\n",
              "      <th>pixel7</th>\n",
              "      <th>pixel8</th>\n",
              "      <th>...</th>\n",
              "      <th>pixel774</th>\n",
              "      <th>pixel775</th>\n",
              "      <th>pixel776</th>\n",
              "      <th>pixel777</th>\n",
              "      <th>pixel778</th>\n",
              "      <th>pixel779</th>\n",
              "      <th>pixel780</th>\n",
              "      <th>pixel781</th>\n",
              "      <th>pixel782</th>\n",
              "      <th>pixel783</th>\n",
              "    </tr>\n",
              "  </thead>\n",
              "  <tbody>\n",
              "    <tr>\n",
              "      <th>0</th>\n",
              "      <td>1</td>\n",
              "      <td>0</td>\n",
              "      <td>0</td>\n",
              "      <td>0</td>\n",
              "      <td>0</td>\n",
              "      <td>0</td>\n",
              "      <td>0</td>\n",
              "      <td>0</td>\n",
              "      <td>0</td>\n",
              "      <td>0</td>\n",
              "      <td>...</td>\n",
              "      <td>0</td>\n",
              "      <td>0</td>\n",
              "      <td>0</td>\n",
              "      <td>0</td>\n",
              "      <td>0</td>\n",
              "      <td>0</td>\n",
              "      <td>0</td>\n",
              "      <td>0</td>\n",
              "      <td>0</td>\n",
              "      <td>0</td>\n",
              "    </tr>\n",
              "  </tbody>\n",
              "</table>\n",
              "<p>1 rows × 785 columns</p>\n",
              "</div>\n",
              "    <div class=\"colab-df-buttons\">\n",
              "\n",
              "  <div class=\"colab-df-container\">\n",
              "    <button class=\"colab-df-convert\" onclick=\"convertToInteractive('df-4b4612d3-d241-4ac8-b658-e2c07ccbdfc1')\"\n",
              "            title=\"Convert this dataframe to an interactive table.\"\n",
              "            style=\"display:none;\">\n",
              "\n",
              "  <svg xmlns=\"http://www.w3.org/2000/svg\" height=\"24px\" viewBox=\"0 -960 960 960\">\n",
              "    <path d=\"M120-120v-720h720v720H120Zm60-500h600v-160H180v160Zm220 220h160v-160H400v160Zm0 220h160v-160H400v160ZM180-400h160v-160H180v160Zm440 0h160v-160H620v160ZM180-180h160v-160H180v160Zm440 0h160v-160H620v160Z\"/>\n",
              "  </svg>\n",
              "    </button>\n",
              "\n",
              "  <style>\n",
              "    .colab-df-container {\n",
              "      display:flex;\n",
              "      gap: 12px;\n",
              "    }\n",
              "\n",
              "    .colab-df-convert {\n",
              "      background-color: #E8F0FE;\n",
              "      border: none;\n",
              "      border-radius: 50%;\n",
              "      cursor: pointer;\n",
              "      display: none;\n",
              "      fill: #1967D2;\n",
              "      height: 32px;\n",
              "      padding: 0 0 0 0;\n",
              "      width: 32px;\n",
              "    }\n",
              "\n",
              "    .colab-df-convert:hover {\n",
              "      background-color: #E2EBFA;\n",
              "      box-shadow: 0px 1px 2px rgba(60, 64, 67, 0.3), 0px 1px 3px 1px rgba(60, 64, 67, 0.15);\n",
              "      fill: #174EA6;\n",
              "    }\n",
              "\n",
              "    .colab-df-buttons div {\n",
              "      margin-bottom: 4px;\n",
              "    }\n",
              "\n",
              "    [theme=dark] .colab-df-convert {\n",
              "      background-color: #3B4455;\n",
              "      fill: #D2E3FC;\n",
              "    }\n",
              "\n",
              "    [theme=dark] .colab-df-convert:hover {\n",
              "      background-color: #434B5C;\n",
              "      box-shadow: 0px 1px 3px 1px rgba(0, 0, 0, 0.15);\n",
              "      filter: drop-shadow(0px 1px 2px rgba(0, 0, 0, 0.3));\n",
              "      fill: #FFFFFF;\n",
              "    }\n",
              "  </style>\n",
              "\n",
              "    <script>\n",
              "      const buttonEl =\n",
              "        document.querySelector('#df-4b4612d3-d241-4ac8-b658-e2c07ccbdfc1 button.colab-df-convert');\n",
              "      buttonEl.style.display =\n",
              "        google.colab.kernel.accessAllowed ? 'block' : 'none';\n",
              "\n",
              "      async function convertToInteractive(key) {\n",
              "        const element = document.querySelector('#df-4b4612d3-d241-4ac8-b658-e2c07ccbdfc1');\n",
              "        const dataTable =\n",
              "          await google.colab.kernel.invokeFunction('convertToInteractive',\n",
              "                                                    [key], {});\n",
              "        if (!dataTable) return;\n",
              "\n",
              "        const docLinkHtml = 'Like what you see? Visit the ' +\n",
              "          '<a target=\"_blank\" href=https://colab.research.google.com/notebooks/data_table.ipynb>data table notebook</a>'\n",
              "          + ' to learn more about interactive tables.';\n",
              "        element.innerHTML = '';\n",
              "        dataTable['output_type'] = 'display_data';\n",
              "        await google.colab.output.renderOutput(dataTable, element);\n",
              "        const docLink = document.createElement('div');\n",
              "        docLink.innerHTML = docLinkHtml;\n",
              "        element.appendChild(docLink);\n",
              "      }\n",
              "    </script>\n",
              "  </div>\n",
              "\n",
              "    </div>\n",
              "  </div>\n"
            ],
            "application/vnd.google.colaboratory.intrinsic+json": {
              "type": "dataframe",
              "variable_name": "train"
            }
          },
          "metadata": {},
          "execution_count": 3
        }
      ]
    },
    {
      "cell_type": "code",
      "source": [
        "X = train.iloc[:, 1:].values.reshape((len(train), 28, 28))\n",
        "y = train.iloc[:, 0].values"
      ],
      "metadata": {
        "id": "ESH_NU39JLXu"
      },
      "execution_count": 4,
      "outputs": []
    },
    {
      "cell_type": "code",
      "source": [
        "len(X)"
      ],
      "metadata": {
        "colab": {
          "base_uri": "https://localhost:8080/"
        },
        "id": "mkZQQQ9BKU_w",
        "outputId": "e7445969-b3a6-4fa3-86d3-83fc39dfe6cf"
      },
      "execution_count": 5,
      "outputs": [
        {
          "output_type": "execute_result",
          "data": {
            "text/plain": [
              "42000"
            ]
          },
          "metadata": {},
          "execution_count": 5
        }
      ]
    },
    {
      "cell_type": "code",
      "source": [
        "random_num = np.random.randint(0,42000)\n",
        "sample = X[random_num, :]\n",
        "sample_label = y[random_num]\n",
        "\n",
        "plt.imshow(sample)\n",
        "plt.title(f\"Label: {sample_label}\")\n",
        "plt.show()"
      ],
      "metadata": {
        "colab": {
          "base_uri": "https://localhost:8080/",
          "height": 452
        },
        "id": "gfuP48oHJny_",
        "outputId": "ff2787c0-e7e6-4d6e-9c63-8b3ffaa5e815"
      },
      "execution_count": 6,
      "outputs": [
        {
          "output_type": "display_data",
          "data": {
            "text/plain": [
              "<Figure size 640x480 with 1 Axes>"
            ],
            "image/png": "[encoded data removed]"
          },
          "metadata": {}
        }
      ]
    },
    {
      "cell_type": "code",
      "source": [
        "from sklearn.model_selection import train_test_split\n",
        "\n",
        "X = X / 255.0\n",
        "\n",
        "X = np.expand_dims(X, axis=-1)\n",
        "\n",
        "X_train, X_test, y_train, y_test = train_test_split(X,\n",
        "                                                    y,\n",
        "                                                    test_size=0.2,\n",
        "                                                    random_state=42)"
      ],
      "metadata": {
        "id": "yHEbzMbQJ8N1"
      },
      "execution_count": 7,
      "outputs": []
    },
    {
      "cell_type": "code",
      "source": [
        "inputs = tf.keras.layers.Input(shape=X_train[0].shape)\n",
        "\n",
        "x = tf.keras.layers.Conv2D(32, 3, padding='same')(inputs)\n",
        "x = tf.keras.layers.BatchNormalization()(x)\n",
        "x = tf.keras.layers.Activation('relu')(x)\n",
        "x = tf.keras.layers.Conv2D(32, 3, padding='same')(x)\n",
        "x = tf.keras.layers.BatchNormalization()(x)\n",
        "x = tf.keras.layers.Activation('relu')(x)\n",
        "x = tf.keras.layers.MaxPooling2D()(x)\n",
        "x = tf.keras.layers.Dropout(0.25)(x)\n",
        "\n",
        "x = tf.keras.layers.Conv2D(64, 3, padding='same')(x)\n",
        "x = tf.keras.layers.BatchNormalization()(x)\n",
        "x = tf.keras.layers.Activation('relu')(x)\n",
        "x = tf.keras.layers.Conv2D(64, 3, padding='same')(x)\n",
        "x = tf.keras.layers.BatchNormalization()(x)\n",
        "x = tf.keras.layers.Activation('relu')(x)\n",
        "x = tf.keras.layers.MaxPooling2D()(x)\n",
        "x = tf.keras.layers.Dropout(0.25)(x)\n",
        "\n",
        "x = tf.keras.layers.Flatten()(x)\n",
        "x = tf.keras.layers.Dense(256, activation='relu', kernel_regularizer=tf.keras.regularizers.l2(0.001))(x)\n",
        "x = tf.keras.layers.Dropout(0.5)(x)\n",
        "outputs = tf.keras.layers.Dense(10, activation='softmax')(x)\n",
        "\n",
        "model = tf.keras.models.Model(inputs=inputs, outputs=outputs)"
      ],
      "metadata": {
        "id": "Ij_7N0iEQD7X"
      },
      "execution_count": 50,
      "outputs": []
    },
    {
      "cell_type": "code",
      "source": [
        "model.compile(optimizer=tf.keras.optimizers.Adam(0.003),\n",
        "              loss=tf.keras.losses.sparse_categorical_crossentropy,\n",
        "              metrics=['accuracy'])"
      ],
      "metadata": {
        "id": "Gelq3DHeTEp1"
      },
      "execution_count": 51,
      "outputs": []
    },
    {
      "cell_type": "code",
      "source": [
        "model.fit(X_train, y_train, epochs=10)"
      ],
      "metadata": {
        "colab": {
          "base_uri": "https://localhost:8080/"
        },
        "id": "Bb15OQ0fTyxf",
        "outputId": "1ad48e9d-5558-400a-9712-fa67f43376e1"
      },
      "execution_count": 52,
      "outputs": [
        {
          "output_type": "stream",
          "name": "stdout",
          "text": [
            "Epoch 1/10\n",
            "1050/1050 [==============================] - 10s 7ms/step - loss: 0.7882 - accuracy: 0.8256\n",
            "Epoch 2/10\n",
            "1050/1050 [==============================] - 6s 6ms/step - loss: 0.3635 - accuracy: 0.9259\n",
            "Epoch 3/10\n",
            "1050/1050 [==============================] - 7s 7ms/step - loss: 0.2936 - accuracy: 0.9488\n",
            "Epoch 4/10\n",
            "1050/1050 [==============================] - 6s 6ms/step - loss: 0.2569 - accuracy: 0.9580\n",
            "Epoch 5/10\n",
            "1050/1050 [==============================] - 7s 6ms/step - loss: 0.2465 - accuracy: 0.9614\n",
            "Epoch 6/10\n",
            "1050/1050 [==============================] - 6s 6ms/step - loss: 0.2303 - accuracy: 0.9663\n",
            "Epoch 7/10\n",
            "1050/1050 [==============================] - 7s 7ms/step - loss: 0.2165 - accuracy: 0.9687\n",
            "Epoch 8/10\n",
            "1050/1050 [==============================] - 6s 6ms/step - loss: 0.2222 - accuracy: 0.9692\n",
            "Epoch 9/10\n",
            "1050/1050 [==============================] - 7s 7ms/step - loss: 0.2089 - accuracy: 0.9706\n",
            "Epoch 10/10\n",
            "1050/1050 [==============================] - 6s 6ms/step - loss: 0.1933 - accuracy: 0.9733\n"
          ]
        },
        {
          "output_type": "execute_result",
          "data": {
            "text/plain": [
              "<keras.src.callbacks.History at 0x7a17466a4400>"
            ]
          },
          "metadata": {},
          "execution_count": 52
        }
      ]
    },
    {
      "cell_type": "code",
      "source": [
        "y_pred = model.predict(X_test)"
      ],
      "metadata": {
        "colab": {
          "base_uri": "https://localhost:8080/"
        },
        "id": "8D87o-doWThO",
        "outputId": "b2f5c15c-149c-4151-9b2d-1da8d5109683"
      },
      "execution_count": 53,
      "outputs": [
        {
          "output_type": "stream",
          "name": "stdout",
          "text": [
            "263/263 [==============================] - 1s 2ms/step\n"
          ]
        }
      ]
    },
    {
      "cell_type": "code",
      "source": [
        "y_pred"
      ],
      "metadata": {
        "colab": {
          "base_uri": "https://localhost:8080/"
        },
        "id": "FP1uxwBOXweV",
        "outputId": "1ddccf29-fa84-4a20-d974-d6bbf097de57"
      },
      "execution_count": 54,
      "outputs": [
        {
          "output_type": "execute_result",
          "data": {
            "text/plain": [
              "array([[6.6610500e-10, 5.2012333e-14, 8.7688212e-10, ..., 5.3719710e-14,\n",
              "        1.0000000e+00, 1.9472495e-08],\n",
              "       [9.4603177e-13, 9.9999642e-01, 9.9574420e-09, ..., 6.4619184e-07,\n",
              "        1.9982944e-10, 2.7778441e-08],\n",
              "       [2.4166698e-11, 1.6047531e-12, 6.2518691e-13, ..., 3.9999968e-06,\n",
              "        3.2329153e-09, 9.9997842e-01],\n",
              "       ...,\n",
              "       [9.0423473e-24, 7.3945510e-16, 1.4626614e-13, ..., 6.1980902e-12,\n",
              "        8.5458137e-14, 3.2941457e-14],\n",
              "       [9.9975783e-01, 4.3622200e-10, 2.2908503e-06, ..., 5.3880362e-06,\n",
              "        1.2895488e-06, 2.3120346e-04],\n",
              "       [1.8148516e-08, 7.4595833e-12, 5.5117738e-10, ..., 1.7260143e-06,\n",
              "        1.7057876e-07, 9.9999189e-01]], dtype=float32)"
            ]
          },
          "metadata": {},
          "execution_count": 54
        }
      ]
    },
    {
      "cell_type": "code",
      "source": [
        "y_pred = np.argmax(y_pred, axis=1)"
      ],
      "metadata": {
        "id": "NOGxoxJeXzVG"
      },
      "execution_count": 55,
      "outputs": []
    },
    {
      "cell_type": "code",
      "source": [
        "from sklearn.metrics import r2_score\n",
        "\n",
        "\n",
        "r2_score(y_test, y_pred)"
      ],
      "metadata": {
        "colab": {
          "base_uri": "https://localhost:8080/"
        },
        "id": "s9nFLxBLXeXn",
        "outputId": "3a2b889e-8d02-4908-b07d-504c256854ed"
      },
      "execution_count": 56,
      "outputs": [
        {
          "output_type": "execute_result",
          "data": {
            "text/plain": [
              "0.9856085947211789"
            ]
          },
          "metadata": {},
          "execution_count": 56
        }
      ]
    },
    {
      "cell_type": "code",
      "source": [
        "rand_num = np.random.randint(0, 8400)\n",
        "\n",
        "guess = np.reshape(X_test[rand_num, :], (28, 28))\n",
        "\n",
        "prediction = model.predict(np.expand_dims(X_test[rand_num], axis=0))\n",
        "guess_label = np.argmax(prediction, axis=1)\n",
        "actual_label = y_test[rand_num]\n",
        "\n",
        "title_color = 'green' if guess_label[0] == actual_label else 'red'\n",
        "\n",
        "plt.imshow(guess)\n",
        "plt.title(f\"Guess Label: {guess_label[0]} | Actual Label: {actual_label}\", color=title_color)\n",
        "plt.show()"
      ],
      "metadata": {
        "colab": {
          "base_uri": "https://localhost:8080/",
          "height": 469
        },
        "id": "LYrQcew4Xq2f",
        "outputId": "f624ca98-e2c9-42bb-b511-fc73d6a16008"
      },
      "execution_count": 57,
      "outputs": [
        {
          "output_type": "stream",
          "name": "stdout",
          "text": [
            "1/1 [==============================] - 1s 560ms/step\n"
          ]
        },
        {
          "output_type": "display_data",
          "data": {
            "text/plain": [
              "<Figure size 640x480 with 1 Axes>"
            ],
            "image/png": "[encoded data removed]"
          },
          "metadata": {}
        }
      ]
    }
  ]
}