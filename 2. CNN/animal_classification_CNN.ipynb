{
  "metadata": {
    "kernelspec": {
      "name": "python3",
      "display_name": "Python 3",
      "language": "python"
    },
    "language_info": {
      "name": "python",
      "version": "3.10.13",
      "mimetype": "text/x-python",
      "codemirror_mode": {
        "name": "ipython",
        "version": 3
      },
      "pygments_lexer": "ipython3",
      "nbconvert_exporter": "python",
      "file_extension": ".py"
    },
    "kaggle": {
      "accelerator": "nvidiaTeslaT4",
      "dataSources": [
        {
          "sourceId": 7345877,
          "sourceType": "datasetVersion",
          "datasetId": 4261490
        }
      ],
      "dockerImageVersionId": 30665,
      "isInternetEnabled": true,
      "language": "python",
      "sourceType": "notebook",
      "isGpuEnabled": true
    },
    "colab": {
      "provenance": []
    }
  },
  "nbformat_minor": 5,
  "nbformat": 4,
  "cells": [
    {
      "cell_type": "markdown",
      "source": [
        "# Animal Classification 🦁\n",
        "\n",
        "dataset : https://www.kaggle.com/datasets/antobenedetti/animals"
      ],
      "metadata": {
        "id": "xlxt3zArNa1j"
      },
      "id": "xlxt3zArNa1j"
    },
    {
      "cell_type": "markdown",
      "source": [
        "## Importing Libraries"
      ],
      "metadata": {
        "id": "dSvt5DyHNZ9t"
      },
      "id": "dSvt5DyHNZ9t"
    },
    {
      "cell_type": "code",
      "source": [
        "import numpy as np\n",
        "import tensorflow as tf\n",
        "import matplotlib.pyplot as plt"
      ],
      "metadata": {
        "trusted": true,
        "id": "ebjcS98lNZ9v"
      },
      "execution_count": null,
      "outputs": [],
      "id": "ebjcS98lNZ9v"
    },
    {
      "cell_type": "markdown",
      "source": [
        "## Image Data Preprocessing"
      ],
      "metadata": {
        "id": "R4G9ik4UNZ9v"
      },
      "id": "R4G9ik4UNZ9v"
    },
    {
      "cell_type": "code",
      "source": [
        "target_size = (128, 128)\n",
        "\n",
        "# creating an image data generator object and doing some data augmuntation on training set\n",
        "train_datagen = tf.keras.preprocessing.image.ImageDataGenerator(rescale=1./255, #scaling each pixel to 0 to 1\n",
        "                                                                shear_range=0.2,\n",
        "                                                                zoom_range=0.2,\n",
        "                                                                horizontal_flip=True)\n",
        "\n",
        "# now connecting the object we just created above to train directory\n",
        "train_generator = train_datagen.flow_from_directory('/kaggle/input/animals/animals/train', # traingset path directory\n",
        "                                                    target_size=target_size, # images will become 128x128\n",
        "                                                    batch_size=32,\n",
        "                                                    class_mode='categorical') # because target is binary and not categorical\n",
        "\n",
        "# creating another image data generator object, we dont use data augumnetation on val set!\n",
        "val_datagen = tf.keras.preprocessing.image.ImageDataGenerator(rescale=1./255)\n",
        "\n",
        "# connecting it to test directory\n",
        "valid_generator = val_datagen.flow_from_directory('/kaggle/input/animals/animals/val',\n",
        "                                                   target_size=target_size,\n",
        "                                                   batch_size=32,\n",
        "                                                   class_mode='categorical')"
      ],
      "metadata": {
        "trusted": true,
        "id": "cQPtXj0FNZ9w"
      },
      "execution_count": null,
      "outputs": [],
      "id": "cQPtXj0FNZ9w"
    },
    {
      "cell_type": "markdown",
      "source": [
        "**Checking Data and labels**"
      ],
      "metadata": {
        "id": "3gpzjdfCNZ9w"
      },
      "id": "3gpzjdfCNZ9w"
    },
    {
      "cell_type": "code",
      "source": [
        "class_indices = train_generator.class_indices\n",
        "\n",
        "# Print class indices and labels\n",
        "for class_index, class_label in class_indices.items():\n",
        "    print(f'Class Index: {class_index}, Class Label: {class_label}')"
      ],
      "metadata": {
        "trusted": true,
        "id": "N_22jDcLNZ9w"
      },
      "execution_count": null,
      "outputs": [],
      "id": "N_22jDcLNZ9w"
    },
    {
      "cell_type": "markdown",
      "source": [
        "## Building CNN"
      ],
      "metadata": {
        "id": "302CfIu1NZ9x"
      },
      "id": "302CfIu1NZ9x"
    },
    {
      "cell_type": "code",
      "source": [
        "model = tf.keras.Sequential([\n",
        "    tf.keras.layers.Conv2D(32, 3, activation=tf.keras.activations.relu, input_shape=(128, 128, 3)),\n",
        "    tf.keras.layers.Conv2D(64, 3, activation=tf.keras.activations.relu),\n",
        "    tf.keras.layers.MaxPooling2D(),\n",
        "    tf.keras.layers.Dropout(0.3),\n",
        "    tf.keras.layers.Conv2D(64, 3, activation=tf.keras.activations.relu),\n",
        "    tf.keras.layers.Conv2D(128, 3, activation=tf.keras.activations.relu),\n",
        "    tf.keras.layers.MaxPooling2D(),\n",
        "    tf.keras.layers.Dropout(0.3),\n",
        "    tf.keras.layers.Conv2D(128, 3, activation=tf.keras.activations.relu),\n",
        "    tf.keras.layers.Conv2D(256, 3, activation=tf.keras.activations.relu),\n",
        "    tf.keras.layers.MaxPooling2D(),\n",
        "    tf.keras.layers.Dropout(0.3),\n",
        "    tf.keras.layers.Flatten(),\n",
        "    tf.keras.layers.Dense(units=512, activation=tf.keras.activations.relu, kernel_regularizer=tf.keras.regularizers.l2(0.001)),\n",
        "    tf.keras.layers.Dropout(0.4),\n",
        "    tf.keras.layers.Dense(units=256, activation=tf.keras.activations.relu, kernel_regularizer=tf.keras.regularizers.l2(0.001)),\n",
        "    tf.keras.layers.Dropout(0.4),\n",
        "    tf.keras.layers.Dense(units=5, activation=tf.keras.activations.softmax)\n",
        "])"
      ],
      "metadata": {
        "scrolled": true,
        "trusted": true,
        "id": "9fsE4obgNZ9x"
      },
      "execution_count": null,
      "outputs": [],
      "id": "9fsE4obgNZ9x"
    },
    {
      "cell_type": "markdown",
      "source": [
        "## Compile the model"
      ],
      "metadata": {
        "id": "SES_sWJ_NZ9x"
      },
      "id": "SES_sWJ_NZ9x"
    },
    {
      "cell_type": "code",
      "source": [
        "model.compile(loss=tf.keras.losses.categorical_crossentropy,\n",
        "              optimizer=tf.keras.optimizers.RMSprop(learning_rate=0.003),\n",
        "              metrics=['accuracy'])"
      ],
      "metadata": {
        "trusted": true,
        "id": "VnYX8Wh-NZ9y"
      },
      "execution_count": null,
      "outputs": [],
      "id": "VnYX8Wh-NZ9y"
    },
    {
      "cell_type": "markdown",
      "source": [
        "## Training the model"
      ],
      "metadata": {
        "id": "HgnbGZyJNZ9y"
      },
      "id": "HgnbGZyJNZ9y"
    },
    {
      "cell_type": "code",
      "source": [
        "model.fit(train_generator,\n",
        "          validation_data=valid_generator,\n",
        "          epochs=30)"
      ],
      "metadata": {
        "trusted": true,
        "id": "UM97D2MaNZ9z"
      },
      "execution_count": null,
      "outputs": [],
      "id": "UM97D2MaNZ9z"
    },
    {
      "cell_type": "markdown",
      "source": [
        "## Using our model to see how it performs"
      ],
      "metadata": {
        "id": "A4FYq_1eNZ9z"
      },
      "id": "A4FYq_1eNZ9z"
    },
    {
      "cell_type": "code",
      "source": [
        "image_path = '/kaggle/input/animals/animals/inf/elephant.jpg'\n",
        "\n",
        "test_image = tf.keras.preprocessing.image.load_img(image_path, target_size=target_size)\n",
        "test_array = tf.keras.preprocessing.image.img_to_array(test_image)\n",
        "test_array = np.expand_dims(test_array, axis=0)\n",
        "\n",
        "# Make prediction using our trained\n",
        "result = model.predict(test_array)\n",
        "\n",
        "# Create a reverse mapping from indices to labels\n",
        "index_to_label = {index: label for label, index in class_indices.items()}\n",
        "\n",
        "# Now, you can access the label using train_generator[result.argmax()]\n",
        "print(f'Predicted Class Label: {index_to_label[np.argmax(result)]}')\n",
        "\n",
        "# Check if the predicted class is the one you're interested in\n",
        "predicted_class_index = np.argmax(result)\n",
        "\n",
        "if predicted_class_index == 2: # 2 because elephent index is 2\n",
        "    color='green'\n",
        "else:\n",
        "    color='red'\n",
        "\n",
        "# Visualize the image with the prediction as the title\n",
        "plt.imshow(test_image)\n",
        "plt.title(f'Prediction: {index_to_label[np.argmax(result)]}', color=color, fontsize=14, fontweight='bold')\n",
        "plt.axis('off')\n",
        "plt.show()"
      ],
      "metadata": {
        "trusted": true,
        "id": "tbqU5_fHNZ9z"
      },
      "execution_count": null,
      "outputs": [],
      "id": "tbqU5_fHNZ9z"
    }
  ]
}