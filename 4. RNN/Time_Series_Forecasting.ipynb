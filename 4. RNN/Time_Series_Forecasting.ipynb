{
 "cells": [
  {
   "cell_type": "markdown",
   "metadata": {
    "id": "CdfewX_4f41e"
   },
   "source": [
    "# Time-Series : (seq2seq)"
   ]
  },
  {
   "cell_type": "code",
   "execution_count": 1,
   "metadata": {
    "id": "q8TkMqzvf4lY"
   },
   "outputs": [],
   "source": [
    "import numpy as np\n",
    "import pandas as pd\n",
    "import tensorflow as tf\n",
    "import matplotlib.pyplot as plt"
   ]
  },
  {
   "cell_type": "code",
   "execution_count": 2,
   "metadata": {
    "colab": {
     "base_uri": "https://localhost:8080/",
     "height": 551
    },
    "id": "wxTMFQIkeh-0",
    "outputId": "fcb0ab7a-388e-4d60-c463-33e82d74ff8a"
   },
   "outputs": [
    {
     "data": {
      "text/html": [
       "<div>\n",
       "<style scoped>\n",
       "    .dataframe tbody tr th:only-of-type {\n",
       "        vertical-align: middle;\n",
       "    }\n",
       "\n",
       "    .dataframe tbody tr th {\n",
       "        vertical-align: top;\n",
       "    }\n",
       "\n",
       "    .dataframe thead th {\n",
       "        text-align: right;\n",
       "    }\n",
       "</style>\n",
       "<table border=\"1\" class=\"dataframe\">\n",
       "  <thead>\n",
       "    <tr style=\"text-align: right;\">\n",
       "      <th></th>\n",
       "      <th>Open</th>\n",
       "      <th>High</th>\n",
       "      <th>Low</th>\n",
       "      <th>Close</th>\n",
       "      <th>Adj Close</th>\n",
       "      <th>Volume</th>\n",
       "    </tr>\n",
       "    <tr>\n",
       "      <th>Date</th>\n",
       "      <th></th>\n",
       "      <th></th>\n",
       "      <th></th>\n",
       "      <th></th>\n",
       "      <th></th>\n",
       "      <th></th>\n",
       "    </tr>\n",
       "  </thead>\n",
       "  <tbody>\n",
       "    <tr>\n",
       "      <th>2014-12-09</th>\n",
       "      <td>361.894989</td>\n",
       "      <td>363.066986</td>\n",
       "      <td>344.950989</td>\n",
       "      <td>352.218994</td>\n",
       "      <td>352.218994</td>\n",
       "      <td>32915500</td>\n",
       "    </tr>\n",
       "    <tr>\n",
       "      <th>2014-12-10</th>\n",
       "      <td>352.204987</td>\n",
       "      <td>352.384003</td>\n",
       "      <td>346.364990</td>\n",
       "      <td>346.364990</td>\n",
       "      <td>346.364990</td>\n",
       "      <td>16427700</td>\n",
       "    </tr>\n",
       "    <tr>\n",
       "      <th>2014-12-11</th>\n",
       "      <td>344.339996</td>\n",
       "      <td>361.356995</td>\n",
       "      <td>338.763000</td>\n",
       "      <td>350.506012</td>\n",
       "      <td>350.506012</td>\n",
       "      <td>32431300</td>\n",
       "    </tr>\n",
       "    <tr>\n",
       "      <th>2014-12-12</th>\n",
       "      <td>350.833008</td>\n",
       "      <td>352.983002</td>\n",
       "      <td>349.290985</td>\n",
       "      <td>352.541992</td>\n",
       "      <td>352.541992</td>\n",
       "      <td>16989800</td>\n",
       "    </tr>\n",
       "    <tr>\n",
       "      <th>2014-12-13</th>\n",
       "      <td>352.381012</td>\n",
       "      <td>352.381012</td>\n",
       "      <td>346.588013</td>\n",
       "      <td>347.376007</td>\n",
       "      <td>347.376007</td>\n",
       "      <td>11675900</td>\n",
       "    </tr>\n",
       "    <tr>\n",
       "      <th>2014-12-14</th>\n",
       "      <td>346.726990</td>\n",
       "      <td>353.316010</td>\n",
       "      <td>345.417999</td>\n",
       "      <td>351.631989</td>\n",
       "      <td>351.631989</td>\n",
       "      <td>12415200</td>\n",
       "    </tr>\n",
       "    <tr>\n",
       "      <th>2014-12-15</th>\n",
       "      <td>351.360992</td>\n",
       "      <td>351.815002</td>\n",
       "      <td>344.933990</td>\n",
       "      <td>345.345001</td>\n",
       "      <td>345.345001</td>\n",
       "      <td>17264200</td>\n",
       "    </tr>\n",
       "    <tr>\n",
       "      <th>2014-12-16</th>\n",
       "      <td>345.673004</td>\n",
       "      <td>345.859009</td>\n",
       "      <td>327.062012</td>\n",
       "      <td>327.062012</td>\n",
       "      <td>327.062012</td>\n",
       "      <td>30864900</td>\n",
       "    </tr>\n",
       "    <tr>\n",
       "      <th>2014-12-17</th>\n",
       "      <td>326.855011</td>\n",
       "      <td>333.954010</td>\n",
       "      <td>315.152008</td>\n",
       "      <td>319.776001</td>\n",
       "      <td>319.776001</td>\n",
       "      <td>37567900</td>\n",
       "    </tr>\n",
       "    <tr>\n",
       "      <th>2014-12-18</th>\n",
       "      <td>319.785004</td>\n",
       "      <td>323.709015</td>\n",
       "      <td>304.231995</td>\n",
       "      <td>311.395996</td>\n",
       "      <td>311.395996</td>\n",
       "      <td>39173000</td>\n",
       "    </tr>\n",
       "    <tr>\n",
       "      <th>2014-12-19</th>\n",
       "      <td>311.178986</td>\n",
       "      <td>318.532990</td>\n",
       "      <td>306.769012</td>\n",
       "      <td>317.842987</td>\n",
       "      <td>317.842987</td>\n",
       "      <td>23823100</td>\n",
       "    </tr>\n",
       "    <tr>\n",
       "      <th>2014-12-20</th>\n",
       "      <td>317.618988</td>\n",
       "      <td>330.325012</td>\n",
       "      <td>316.044006</td>\n",
       "      <td>329.955994</td>\n",
       "      <td>329.955994</td>\n",
       "      <td>20856700</td>\n",
       "    </tr>\n",
       "    <tr>\n",
       "      <th>2014-12-21</th>\n",
       "      <td>329.542999</td>\n",
       "      <td>329.628998</td>\n",
       "      <td>318.903015</td>\n",
       "      <td>320.842987</td>\n",
       "      <td>320.842987</td>\n",
       "      <td>15207600</td>\n",
       "    </tr>\n",
       "    <tr>\n",
       "      <th>2014-12-22</th>\n",
       "      <td>321.067993</td>\n",
       "      <td>334.117004</td>\n",
       "      <td>320.424988</td>\n",
       "      <td>331.885986</td>\n",
       "      <td>331.885986</td>\n",
       "      <td>22315100</td>\n",
       "    </tr>\n",
       "    <tr>\n",
       "      <th>2014-12-23</th>\n",
       "      <td>332.016998</td>\n",
       "      <td>336.286987</td>\n",
       "      <td>329.601990</td>\n",
       "      <td>334.571991</td>\n",
       "      <td>334.571991</td>\n",
       "      <td>16574200</td>\n",
       "    </tr>\n",
       "  </tbody>\n",
       "</table>\n",
       "</div>"
      ],
      "text/plain": [
       "                  Open        High         Low       Close   Adj Close  \\\n",
       "Date                                                                     \n",
       "2014-12-09  361.894989  363.066986  344.950989  352.218994  352.218994   \n",
       "2014-12-10  352.204987  352.384003  346.364990  346.364990  346.364990   \n",
       "2014-12-11  344.339996  361.356995  338.763000  350.506012  350.506012   \n",
       "2014-12-12  350.833008  352.983002  349.290985  352.541992  352.541992   \n",
       "2014-12-13  352.381012  352.381012  346.588013  347.376007  347.376007   \n",
       "2014-12-14  346.726990  353.316010  345.417999  351.631989  351.631989   \n",
       "2014-12-15  351.360992  351.815002  344.933990  345.345001  345.345001   \n",
       "2014-12-16  345.673004  345.859009  327.062012  327.062012  327.062012   \n",
       "2014-12-17  326.855011  333.954010  315.152008  319.776001  319.776001   \n",
       "2014-12-18  319.785004  323.709015  304.231995  311.395996  311.395996   \n",
       "2014-12-19  311.178986  318.532990  306.769012  317.842987  317.842987   \n",
       "2014-12-20  317.618988  330.325012  316.044006  329.955994  329.955994   \n",
       "2014-12-21  329.542999  329.628998  318.903015  320.842987  320.842987   \n",
       "2014-12-22  321.067993  334.117004  320.424988  331.885986  331.885986   \n",
       "2014-12-23  332.016998  336.286987  329.601990  334.571991  334.571991   \n",
       "\n",
       "              Volume  \n",
       "Date                  \n",
       "2014-12-09  32915500  \n",
       "2014-12-10  16427700  \n",
       "2014-12-11  32431300  \n",
       "2014-12-12  16989800  \n",
       "2014-12-13  11675900  \n",
       "2014-12-14  12415200  \n",
       "2014-12-15  17264200  \n",
       "2014-12-16  30864900  \n",
       "2014-12-17  37567900  \n",
       "2014-12-18  39173000  \n",
       "2014-12-19  23823100  \n",
       "2014-12-20  20856700  \n",
       "2014-12-21  15207600  \n",
       "2014-12-22  22315100  \n",
       "2014-12-23  16574200  "
      ]
     },
     "execution_count": 2,
     "metadata": {},
     "output_type": "execute_result"
    }
   ],
   "source": [
    "df = pd.read_csv('BTC.csv',\n",
    "                 parse_dates=['Date'],\n",
    "                 index_col=['Date'])\n",
    "df.head(15)"
   ]
  },
  {
   "cell_type": "code",
   "execution_count": 3,
   "metadata": {
    "colab": {
     "base_uri": "https://localhost:8080/",
     "height": 175
    },
    "id": "to1v2b0QlN2Q",
    "outputId": "66850666-da0a-436c-e970-10679760ef01"
   },
   "outputs": [
    {
     "data": {
      "text/html": [
       "<div>\n",
       "<style scoped>\n",
       "    .dataframe tbody tr th:only-of-type {\n",
       "        vertical-align: middle;\n",
       "    }\n",
       "\n",
       "    .dataframe tbody tr th {\n",
       "        vertical-align: top;\n",
       "    }\n",
       "\n",
       "    .dataframe thead th {\n",
       "        text-align: right;\n",
       "    }\n",
       "</style>\n",
       "<table border=\"1\" class=\"dataframe\">\n",
       "  <thead>\n",
       "    <tr style=\"text-align: right;\">\n",
       "      <th></th>\n",
       "      <th>Open</th>\n",
       "      <th>High</th>\n",
       "      <th>Low</th>\n",
       "      <th>Close</th>\n",
       "      <th>Adj Close</th>\n",
       "      <th>Volume</th>\n",
       "    </tr>\n",
       "    <tr>\n",
       "      <th>Date</th>\n",
       "      <th></th>\n",
       "      <th></th>\n",
       "      <th></th>\n",
       "      <th></th>\n",
       "      <th></th>\n",
       "      <th></th>\n",
       "    </tr>\n",
       "  </thead>\n",
       "  <tbody>\n",
       "    <tr>\n",
       "      <th>2024-04-11</th>\n",
       "      <td>70575.734375</td>\n",
       "      <td>71256.234375</td>\n",
       "      <td>69571.812500</td>\n",
       "      <td>70060.609375</td>\n",
       "      <td>70060.609375</td>\n",
       "      <td>30153382941</td>\n",
       "    </tr>\n",
       "    <tr>\n",
       "      <th>2024-04-12</th>\n",
       "      <td>70061.382813</td>\n",
       "      <td>71222.742188</td>\n",
       "      <td>65254.835938</td>\n",
       "      <td>67195.867188</td>\n",
       "      <td>67195.867188</td>\n",
       "      <td>44129299406</td>\n",
       "    </tr>\n",
       "    <tr>\n",
       "      <th>2024-04-13</th>\n",
       "      <td>67147.718750</td>\n",
       "      <td>67888.078125</td>\n",
       "      <td>65898.859375</td>\n",
       "      <td>66972.726563</td>\n",
       "      <td>66972.726563</td>\n",
       "      <td>35151609856</td>\n",
       "    </tr>\n",
       "  </tbody>\n",
       "</table>\n",
       "</div>"
      ],
      "text/plain": [
       "                    Open          High           Low         Close  \\\n",
       "Date                                                                 \n",
       "2024-04-11  70575.734375  71256.234375  69571.812500  70060.609375   \n",
       "2024-04-12  70061.382813  71222.742188  65254.835938  67195.867188   \n",
       "2024-04-13  67147.718750  67888.078125  65898.859375  66972.726563   \n",
       "\n",
       "               Adj Close       Volume  \n",
       "Date                                   \n",
       "2024-04-11  70060.609375  30153382941  \n",
       "2024-04-12  67195.867188  44129299406  \n",
       "2024-04-13  66972.726563  35151609856  "
      ]
     },
     "execution_count": 3,
     "metadata": {},
     "output_type": "execute_result"
    }
   ],
   "source": [
    "df.tail(3)"
   ]
  },
  {
   "cell_type": "code",
   "execution_count": 4,
   "metadata": {
    "colab": {
     "base_uri": "https://localhost:8080/"
    },
    "id": "iSyh-j6olalf",
    "outputId": "2cebb7ba-3ca7-4af6-e65f-5fddf5f0c892"
   },
   "outputs": [
    {
     "data": {
      "text/plain": [
       "3414"
      ]
     },
     "execution_count": 4,
     "metadata": {},
     "output_type": "execute_result"
    }
   ],
   "source": [
    "len(df)"
   ]
  },
  {
   "cell_type": "code",
   "execution_count": 5,
   "metadata": {
    "colab": {
     "base_uri": "https://localhost:8080/",
     "height": 585
    },
    "id": "6Y5uMFlfgPGt",
    "outputId": "82cea821-5c2f-4389-b467-9717652c3919"
   },
   "outputs": [
    {
     "data": {
      "image/png": "[encoded data removed]",
      "text/plain": [
       "<Figure size 1500x600 with 1 Axes>"
      ]
     },
     "metadata": {},
     "output_type": "display_data"
    }
   ],
   "source": [
    "plt.figure(figsize=(15, 6))\n",
    "\n",
    "plt.plot(df.index, df['Close'], color='red')\n",
    "\n",
    "plt.xticks(rotation=45)\n",
    "plt.xlabel('Date')\n",
    "plt.ylabel('Price')\n",
    "\n",
    "plt.grid(True)\n",
    "plt.title('BTC-USD')\n",
    "\n",
    "plt.show()"
   ]
  },
  {
   "cell_type": "code",
   "execution_count": 6,
   "metadata": {
    "colab": {
     "base_uri": "https://localhost:8080/"
    },
    "id": "WAJkOdUHit9G",
    "outputId": "c73bbf7c-f5cd-4ad7-a5e3-7cd4ec4b7768"
   },
   "outputs": [
    {
     "data": {
      "text/plain": [
       "Index(['Open', 'High', 'Low', 'Close', 'Adj Close', 'Volume'], dtype='object')"
      ]
     },
     "execution_count": 6,
     "metadata": {},
     "output_type": "execute_result"
    }
   ],
   "source": [
    "df.columns"
   ]
  },
  {
   "cell_type": "code",
   "execution_count": 7,
   "metadata": {
    "id": "UsEPS4WhjUy5"
   },
   "outputs": [],
   "source": [
    "df = df.drop(['Open', 'High', 'Low', 'Adj Close', 'Volume'], axis=1)"
   ]
  },
  {
   "cell_type": "code",
   "execution_count": 8,
   "metadata": {
    "colab": {
     "base_uri": "https://localhost:8080/",
     "height": 206
    },
    "id": "IgKs20W4i3jM",
    "outputId": "bf83c787-0384-4e25-b71b-4467a56a08b3"
   },
   "outputs": [
    {
     "data": {
      "text/html": [
       "<div>\n",
       "<style scoped>\n",
       "    .dataframe tbody tr th:only-of-type {\n",
       "        vertical-align: middle;\n",
       "    }\n",
       "\n",
       "    .dataframe tbody tr th {\n",
       "        vertical-align: top;\n",
       "    }\n",
       "\n",
       "    .dataframe thead th {\n",
       "        text-align: right;\n",
       "    }\n",
       "</style>\n",
       "<table border=\"1\" class=\"dataframe\">\n",
       "  <thead>\n",
       "    <tr style=\"text-align: right;\">\n",
       "      <th></th>\n",
       "      <th>Close</th>\n",
       "    </tr>\n",
       "    <tr>\n",
       "      <th>Date</th>\n",
       "      <th></th>\n",
       "    </tr>\n",
       "  </thead>\n",
       "  <tbody>\n",
       "    <tr>\n",
       "      <th>2014-12-09</th>\n",
       "      <td>352.218994</td>\n",
       "    </tr>\n",
       "    <tr>\n",
       "      <th>2014-12-10</th>\n",
       "      <td>346.364990</td>\n",
       "    </tr>\n",
       "    <tr>\n",
       "      <th>2014-12-11</th>\n",
       "      <td>350.506012</td>\n",
       "    </tr>\n",
       "    <tr>\n",
       "      <th>2014-12-12</th>\n",
       "      <td>352.541992</td>\n",
       "    </tr>\n",
       "  </tbody>\n",
       "</table>\n",
       "</div>"
      ],
      "text/plain": [
       "                 Close\n",
       "Date                  \n",
       "2014-12-09  352.218994\n",
       "2014-12-10  346.364990\n",
       "2014-12-11  350.506012\n",
       "2014-12-12  352.541992"
      ]
     },
     "execution_count": 8,
     "metadata": {},
     "output_type": "execute_result"
    }
   ],
   "source": [
    "df.head(4)"
   ]
  },
  {
   "cell_type": "code",
   "execution_count": 9,
   "metadata": {
    "id": "hs_jHiabklRG"
   },
   "outputs": [],
   "source": [
    "date = df.index.to_numpy()\n",
    "prices = df.Close.to_numpy()"
   ]
  },
  {
   "cell_type": "code",
   "execution_count": 10,
   "metadata": {
    "colab": {
     "base_uri": "https://localhost:8080/"
    },
    "id": "DK-0-SrJi7Eo",
    "outputId": "b4ae3ea4-1f1d-44dc-be33-9cc9142558e4"
   },
   "outputs": [
    {
     "data": {
      "text/plain": [
       "array([352.218994, 346.36499 , 350.506012, 352.541992])"
      ]
     },
     "execution_count": 10,
     "metadata": {},
     "output_type": "execute_result"
    }
   ],
   "source": [
    "prices[:4]"
   ]
  },
  {
   "cell_type": "markdown",
   "metadata": {
    "id": "t_QkB7SuY8-8"
   },
   "source": [
    "## Splitting Data into Train/Test set"
   ]
  },
  {
   "cell_type": "code",
   "execution_count": 11,
   "metadata": {
    "id": "7dtkwqhlku-i"
   },
   "outputs": [],
   "source": [
    "SPLIT_SIZE = int((0.95)*len(prices))"
   ]
  },
  {
   "cell_type": "code",
   "execution_count": 12,
   "metadata": {
    "id": "RwVkny8MmdmI"
   },
   "outputs": [],
   "source": [
    "# creating train sets\n",
    "X_train = date[:SPLIT_SIZE]\n",
    "y_train = prices[:SPLIT_SIZE]\n",
    "\n",
    "# creating test sets\n",
    "X_test = date[SPLIT_SIZE:]\n",
    "y_test = prices[SPLIT_SIZE:]"
   ]
  },
  {
   "cell_type": "code",
   "execution_count": 13,
   "metadata": {
    "colab": {
     "base_uri": "https://localhost:8080/"
    },
    "id": "BhSHE1mKnblG",
    "outputId": "4c3e166d-93e1-4545-f4b6-668e35d1c994"
   },
   "outputs": [
    {
     "data": {
      "text/plain": [
       "(3243, 171)"
      ]
     },
     "execution_count": 13,
     "metadata": {},
     "output_type": "execute_result"
    }
   ],
   "source": [
    "len(X_train), len(X_test)"
   ]
  },
  {
   "cell_type": "code",
   "execution_count": 14,
   "metadata": {
    "colab": {
     "base_uri": "https://localhost:8080/",
     "height": 585
    },
    "id": "wISCbyr1nfoM",
    "outputId": "41aa530e-9b6a-480e-f19d-bd947d7effbf"
   },
   "outputs": [
    {
     "data": {
      "image/png": "[encoded data removed]",
      "text/plain": [
       "<Figure size 1500x600 with 1 Axes>"
      ]
     },
     "metadata": {},
     "output_type": "display_data"
    }
   ],
   "source": [
    "plt.figure(figsize=(15, 6))\n",
    "plt.plot(X_train, y_train, color='blue', label='Train Set')\n",
    "plt.plot(X_test, y_test, color='red', label='Test Set')\n",
    "plt.xticks(rotation=45)\n",
    "plt.xlabel('Date')\n",
    "plt.ylabel('Price')\n",
    "plt.grid(True)\n",
    "plt.title('BTC-USD')\n",
    "plt.legend()\n",
    "plt.show()"
   ]
  },
  {
   "cell_type": "markdown",
   "metadata": {
    "id": "zYdR_EmWZC-8"
   },
   "source": [
    "## Windowing Our Data\n",
    "**Horizon**: The number of steps we aim to predict in the future.\n",
    "\n",
    "**Window**: The number of steps we intend to use for prediction."
   ]
  },
  {
   "cell_type": "code",
   "execution_count": 15,
   "metadata": {
    "id": "wKBRrXhJzW56"
   },
   "outputs": [],
   "source": [
    "HORIZON = 1\n",
    "WINDOW = 7"
   ]
  },
  {
   "cell_type": "markdown",
   "metadata": {
    "id": "ZZw3AiZ0nq1u"
   },
   "source": [
    "#### Using `For`"
   ]
  },
  {
   "cell_type": "code",
   "execution_count": 16,
   "metadata": {
    "id": "ZTdZyn0CfAHo"
   },
   "outputs": [],
   "source": [
    "def create_windowed_dataset(data, horizon=HORIZON, window=WINDOW):\n",
    "    \"\"\"\n",
    "    Creates a sliding window dataset from the given data.\n",
    "\n",
    "    Parameters:\n",
    "        data (array_like): The input data.\n",
    "        horizon (int): The number of steps to predict into the future.\n",
    "        window (int): The size of the window used for prediction.\n",
    "\n",
    "    Returns:\n",
    "        tuple: A tuple containing NumPy arrays of features and corresponding targets.\n",
    "    \"\"\"\n",
    "    features = []\n",
    "    targets = []\n",
    "\n",
    "    for i in range(len(data) - window - horizon + 1):\n",
    "        feature_window = data[i:i+window]\n",
    "        target_window = data[i+window:i+window+horizon]\n",
    "\n",
    "        features.append(feature_window)\n",
    "        targets.append(target_window)\n",
    "\n",
    "    return np.array(features), np.array(targets)\n"
   ]
  },
  {
   "cell_type": "code",
   "execution_count": 17,
   "metadata": {
    "id": "0Ki283VmhHfj"
   },
   "outputs": [],
   "source": [
    "windows, labels = create_windowed_dataset(y_train, horizon=1, window=7)"
   ]
  },
  {
   "cell_type": "code",
   "execution_count": 18,
   "metadata": {
    "colab": {
     "base_uri": "https://localhost:8080/"
    },
    "id": "xls9knU4hULm",
    "outputId": "2667d84f-7972-4f3d-b58b-b022bc0e1beb"
   },
   "outputs": [
    {
     "data": {
      "text/plain": [
       "((3236, 7), (3236, 1))"
      ]
     },
     "execution_count": 18,
     "metadata": {},
     "output_type": "execute_result"
    }
   ],
   "source": [
    "windows.shape, labels.shape"
   ]
  },
  {
   "cell_type": "code",
   "execution_count": 19,
   "metadata": {
    "colab": {
     "base_uri": "https://localhost:8080/"
    },
    "id": "AwET0Ruyhr9y",
    "outputId": "9a794a18-ecce-4e95-a508-d3837ae097a4"
   },
   "outputs": [
    {
     "data": {
      "text/plain": [
       "(array([[352.218994, 346.36499 , 350.506012, 352.541992, 347.376007,\n",
       "         351.631989, 345.345001],\n",
       "        [346.36499 , 350.506012, 352.541992, 347.376007, 351.631989,\n",
       "         345.345001, 327.062012],\n",
       "        [350.506012, 352.541992, 347.376007, 351.631989, 345.345001,\n",
       "         327.062012, 319.776001]]),\n",
       " array([[327.062012],\n",
       "        [319.776001],\n",
       "        [311.395996]]))"
      ]
     },
     "execution_count": 19,
     "metadata": {},
     "output_type": "execute_result"
    }
   ],
   "source": [
    "windows[:3], labels[:3]"
   ]
  },
  {
   "cell_type": "code",
   "execution_count": 20,
   "metadata": {
    "id": "QBvU_h_wnhFc"
   },
   "outputs": [],
   "source": [
    "#tf.keras.preprocessing.timeseries_dataset_from_array()"
   ]
  },
  {
   "cell_type": "code",
   "execution_count": 21,
   "metadata": {
    "id": "8M98Duuc81jh"
   },
   "outputs": [],
   "source": [
    "def window_train_test_split(windows, labels, test_split=0.1):\n",
    "\n",
    "  split_size = int(len(windows) * (1-test_split))\n",
    "\n",
    "  train_windows = windows[:split_size]\n",
    "  train_labels = labels[:split_size]\n",
    "\n",
    "  test_windows = windows[split_size:]\n",
    "  test_labels = labels[split_size:]\n",
    "\n",
    "  return train_windows, test_windows, train_labels, test_labels"
   ]
  },
  {
   "cell_type": "code",
   "execution_count": 22,
   "metadata": {
    "id": "eYrTFMpM-atY"
   },
   "outputs": [],
   "source": [
    "train_windows, test_windows, train_labels, test_labels = window_train_test_split(windows=windows, labels=labels)"
   ]
  },
  {
   "cell_type": "markdown",
   "metadata": {
    "id": "6Vg3VI0U_hNx"
   },
   "source": [
    "## Dense Model\n",
    "> Window = 7 , Horizon = 1"
   ]
  },
  {
   "cell_type": "code",
   "execution_count": 23,
   "metadata": {
    "id": "J1VbGAs6AXwO"
   },
   "outputs": [],
   "source": [
    "input_shape = train_windows.shape[1:]"
   ]
  },
  {
   "cell_type": "code",
   "execution_count": 24,
   "metadata": {
    "id": "wRjlVm9_-9XR"
   },
   "outputs": [],
   "source": [
    "inputs = tf.keras.layers.Input(shape=input_shape, batch_size=128)\n",
    "x = tf.keras.layers.Dense(units=128, activation=tf.keras.activations.relu)(inputs)\n",
    "outputs = tf.keras.layers.Dense(units=HORIZON, activation=tf.keras.activations.linear)(x)\n",
    "\n",
    "model_1 = tf.keras.Model(inputs, outputs)"
   ]
  },
  {
   "cell_type": "code",
   "execution_count": 25,
   "metadata": {
    "id": "H5OK0-eeBEAm"
   },
   "outputs": [],
   "source": [
    "model_1.compile(loss=tf.keras.losses.MAE,\n",
    "                optimizer=tf.keras.optimizers.Adam(),\n",
    "                metrics=['mae'])"
   ]
  },
  {
   "cell_type": "code",
   "execution_count": 26,
   "metadata": {
    "colab": {
     "base_uri": "https://localhost:8080/"
    },
    "id": "-UCi1q_HCKDr",
    "outputId": "d996bd89-5cc6-41e0-841a-4eb7d40d6218",
    "scrolled": true
   },
   "outputs": [
    {
     "name": "stdout",
     "output_type": "stream",
     "text": [
      "Epoch 1/100\n",
      "\u001b[1m23/23\u001b[0m \u001b[32m━━━━━━━━━━━━━━━━━━━━\u001b[0m\u001b[37m\u001b[0m \u001b[1m1s\u001b[0m 10ms/step - loss: 8525.7197 - mae: 8529.2188 - val_loss: 4005.3633 - val_mae: 3983.3411\n",
      "Epoch 2/100\n",
      "\u001b[1m23/23\u001b[0m \u001b[32m━━━━━━━━━━━━━━━━━━━━\u001b[0m\u001b[37m\u001b[0m \u001b[1m0s\u001b[0m 3ms/step - loss: 1422.3033 - mae: 1422.4956 - val_loss: 1365.3387 - val_mae: 1366.1825\n",
      "Epoch 3/100\n",
      "\u001b[1m23/23\u001b[0m \u001b[32m━━━━━━━━━━━━━━━━━━━━\u001b[0m\u001b[37m\u001b[0m \u001b[1m0s\u001b[0m 3ms/step - loss: 722.9579 - mae: 722.7292 - val_loss: 938.5534 - val_mae: 928.2714\n",
      "Epoch 4/100\n",
      "\u001b[1m23/23\u001b[0m \u001b[32m━━━━━━━━━━━━━━━━━━━━\u001b[0m\u001b[37m\u001b[0m \u001b[1m0s\u001b[0m 3ms/step - loss: 685.6740 - mae: 685.6990 - val_loss: 777.1533 - val_mae: 779.1819\n",
      "Epoch 5/100\n",
      "\u001b[1m23/23\u001b[0m \u001b[32m━━━━━━━━━━━━━━━━━━━━\u001b[0m\u001b[37m\u001b[0m \u001b[1m0s\u001b[0m 3ms/step - loss: 647.0510 - mae: 647.1799 - val_loss: 668.2627 - val_mae: 661.1265\n",
      "Epoch 6/100\n",
      "\u001b[1m23/23\u001b[0m \u001b[32m━━━━━━━━━━━━━━━━━━━━\u001b[0m\u001b[37m\u001b[0m \u001b[1m0s\u001b[0m 8ms/step - loss: 598.4989 - mae: 598.4427 - val_loss: 687.9767 - val_mae: 680.1250\n",
      "Epoch 7/100\n",
      "\u001b[1m23/23\u001b[0m \u001b[32m━━━━━━━━━━━━━━━━━━━━\u001b[0m\u001b[37m\u001b[0m \u001b[1m0s\u001b[0m 3ms/step - loss: 607.0895 - mae: 607.2286 - val_loss: 689.3262 - val_mae: 681.7611\n",
      "Epoch 8/100\n",
      "\u001b[1m23/23\u001b[0m \u001b[32m━━━━━━━━━━━━━━━━━━━━\u001b[0m\u001b[37m\u001b[0m \u001b[1m0s\u001b[0m 3ms/step - loss: 580.0237 - mae: 579.9756 - val_loss: 606.6861 - val_mae: 600.2720\n",
      "Epoch 9/100\n",
      "\u001b[1m23/23\u001b[0m \u001b[32m━━━━━━━━━━━━━━━━━━━━\u001b[0m\u001b[37m\u001b[0m \u001b[1m0s\u001b[0m 4ms/step - loss: 541.3929 - mae: 541.4033 - val_loss: 580.6232 - val_mae: 574.8233\n",
      "Epoch 10/100\n",
      "\u001b[1m23/23\u001b[0m \u001b[32m━━━━━━━━━━━━━━━━━━━━\u001b[0m\u001b[37m\u001b[0m \u001b[1m0s\u001b[0m 5ms/step - loss: 525.0607 - mae: 525.1172 - val_loss: 636.1755 - val_mae: 636.9264\n",
      "Epoch 11/100\n",
      "\u001b[1m23/23\u001b[0m \u001b[32m━━━━━━━━━━━━━━━━━━━━\u001b[0m\u001b[37m\u001b[0m \u001b[1m0s\u001b[0m 4ms/step - loss: 565.4306 - mae: 565.4301 - val_loss: 651.2935 - val_mae: 653.1390\n",
      "Epoch 12/100\n",
      "\u001b[1m23/23\u001b[0m \u001b[32m━━━━━━━━━━━━━━━━━━━━\u001b[0m\u001b[37m\u001b[0m \u001b[1m0s\u001b[0m 3ms/step - loss: 546.8247 - mae: 546.8097 - val_loss: 544.1644 - val_mae: 539.1557\n",
      "Epoch 13/100\n",
      "\u001b[1m23/23\u001b[0m \u001b[32m━━━━━━━━━━━━━━━━━━━━\u001b[0m\u001b[37m\u001b[0m \u001b[1m0s\u001b[0m 3ms/step - loss: 505.9698 - mae: 505.8310 - val_loss: 500.4727 - val_mae: 496.9977\n",
      "Epoch 14/100\n",
      "\u001b[1m23/23\u001b[0m \u001b[32m━━━━━━━━━━━━━━━━━━━━\u001b[0m\u001b[37m\u001b[0m \u001b[1m0s\u001b[0m 3ms/step - loss: 469.4070 - mae: 469.2896 - val_loss: 487.3405 - val_mae: 483.6116\n",
      "Epoch 15/100\n",
      "\u001b[1m23/23\u001b[0m \u001b[32m━━━━━━━━━━━━━━━━━━━━\u001b[0m\u001b[37m\u001b[0m \u001b[1m0s\u001b[0m 3ms/step - loss: 466.6180 - mae: 466.5803 - val_loss: 471.5766 - val_mae: 469.0522\n",
      "Epoch 16/100\n",
      "\u001b[1m23/23\u001b[0m \u001b[32m━━━━━━━━━━━━━━━━━━━━\u001b[0m\u001b[37m\u001b[0m \u001b[1m0s\u001b[0m 4ms/step - loss: 469.4541 - mae: 469.4785 - val_loss: 581.4170 - val_mae: 584.3666\n",
      "Epoch 17/100\n",
      "\u001b[1m23/23\u001b[0m \u001b[32m━━━━━━━━━━━━━━━━━━━━\u001b[0m\u001b[37m\u001b[0m \u001b[1m0s\u001b[0m 3ms/step - loss: 471.0187 - mae: 470.9835 - val_loss: 750.3314 - val_mae: 755.8336\n",
      "Epoch 18/100\n",
      "\u001b[1m23/23\u001b[0m \u001b[32m━━━━━━━━━━━━━━━━━━━━\u001b[0m\u001b[37m\u001b[0m \u001b[1m0s\u001b[0m 3ms/step - loss: 477.8179 - mae: 477.7824 - val_loss: 556.0381 - val_mae: 548.8633\n",
      "Epoch 19/100\n",
      "\u001b[1m23/23\u001b[0m \u001b[32m━━━━━━━━━━━━━━━━━━━━\u001b[0m\u001b[37m\u001b[0m \u001b[1m0s\u001b[0m 3ms/step - loss: 446.7972 - mae: 446.8695 - val_loss: 444.1393 - val_mae: 442.5217\n",
      "Epoch 20/100\n",
      "\u001b[1m23/23\u001b[0m \u001b[32m━━━━━━━━━━━━━━━━━━━━\u001b[0m\u001b[37m\u001b[0m \u001b[1m0s\u001b[0m 4ms/step - loss: 432.6771 - mae: 432.7058 - val_loss: 453.7266 - val_mae: 453.7825\n",
      "Epoch 21/100\n",
      "\u001b[1m23/23\u001b[0m \u001b[32m━━━━━━━━━━━━━━━━━━━━\u001b[0m\u001b[37m\u001b[0m \u001b[1m0s\u001b[0m 4ms/step - loss: 419.2773 - mae: 419.3211 - val_loss: 607.7739 - val_mae: 612.9894\n",
      "Epoch 22/100\n",
      "\u001b[1m23/23\u001b[0m \u001b[32m━━━━━━━━━━━━━━━━━━━━\u001b[0m\u001b[37m\u001b[0m \u001b[1m0s\u001b[0m 4ms/step - loss: 462.2881 - mae: 462.2470 - val_loss: 742.1247 - val_mae: 728.3900\n",
      "Epoch 23/100\n",
      "\u001b[1m23/23\u001b[0m \u001b[32m━━━━━━━━━━━━━━━━━━━━\u001b[0m\u001b[37m\u001b[0m \u001b[1m0s\u001b[0m 4ms/step - loss: 457.6548 - mae: 457.5960 - val_loss: 428.7021 - val_mae: 426.8267\n",
      "Epoch 24/100\n",
      "\u001b[1m23/23\u001b[0m \u001b[32m━━━━━━━━━━━━━━━━━━━━\u001b[0m\u001b[37m\u001b[0m \u001b[1m0s\u001b[0m 3ms/step - loss: 409.9008 - mae: 409.8249 - val_loss: 448.9741 - val_mae: 450.5619\n",
      "Epoch 25/100\n",
      "\u001b[1m23/23\u001b[0m \u001b[32m━━━━━━━━━━━━━━━━━━━━\u001b[0m\u001b[37m\u001b[0m \u001b[1m0s\u001b[0m 3ms/step - loss: 431.2183 - mae: 431.1920 - val_loss: 465.6090 - val_mae: 462.9145\n",
      "Epoch 26/100\n",
      "\u001b[1m23/23\u001b[0m \u001b[32m━━━━━━━━━━━━━━━━━━━━\u001b[0m\u001b[37m\u001b[0m \u001b[1m0s\u001b[0m 3ms/step - loss: 406.7362 - mae: 406.8277 - val_loss: 488.2216 - val_mae: 484.8530\n",
      "Epoch 27/100\n",
      "\u001b[1m23/23\u001b[0m \u001b[32m━━━━━━━━━━━━━━━━━━━━\u001b[0m\u001b[37m\u001b[0m \u001b[1m0s\u001b[0m 3ms/step - loss: 413.9420 - mae: 413.7929 - val_loss: 694.4549 - val_mae: 682.6063\n",
      "Epoch 28/100\n",
      "\u001b[1m23/23\u001b[0m \u001b[32m━━━━━━━━━━━━━━━━━━━━\u001b[0m\u001b[37m\u001b[0m \u001b[1m0s\u001b[0m 4ms/step - loss: 431.8213 - mae: 431.8133 - val_loss: 507.5818 - val_mae: 511.3267\n",
      "Epoch 29/100\n",
      "\u001b[1m23/23\u001b[0m \u001b[32m━━━━━━━━━━━━━━━━━━━━\u001b[0m\u001b[37m\u001b[0m \u001b[1m0s\u001b[0m 4ms/step - loss: 407.9253 - mae: 408.0755 - val_loss: 540.1920 - val_mae: 534.9328\n",
      "Epoch 30/100\n",
      "\u001b[1m23/23\u001b[0m \u001b[32m━━━━━━━━━━━━━━━━━━━━\u001b[0m\u001b[37m\u001b[0m \u001b[1m0s\u001b[0m 4ms/step - loss: 446.3752 - mae: 446.4527 - val_loss: 403.1478 - val_mae: 403.0734\n",
      "Epoch 31/100\n",
      "\u001b[1m23/23\u001b[0m \u001b[32m━━━━━━━━━━━━━━━━━━━━\u001b[0m\u001b[37m\u001b[0m \u001b[1m0s\u001b[0m 3ms/step - loss: 395.4464 - mae: 395.5002 - val_loss: 413.5551 - val_mae: 415.4236\n",
      "Epoch 32/100\n",
      "\u001b[1m23/23\u001b[0m \u001b[32m━━━━━━━━━━━━━━━━━━━━\u001b[0m\u001b[37m\u001b[0m \u001b[1m0s\u001b[0m 3ms/step - loss: 403.0042 - mae: 403.0149 - val_loss: 540.9599 - val_mae: 535.3320\n",
      "Epoch 33/100\n",
      "\u001b[1m23/23\u001b[0m \u001b[32m━━━━━━━━━━━━━━━━━━━━\u001b[0m\u001b[37m\u001b[0m \u001b[1m0s\u001b[0m 3ms/step - loss: 430.0118 - mae: 430.0468 - val_loss: 452.5228 - val_mae: 451.2180\n",
      "Epoch 34/100\n",
      "\u001b[1m23/23\u001b[0m \u001b[32m━━━━━━━━━━━━━━━━━━━━\u001b[0m\u001b[37m\u001b[0m \u001b[1m0s\u001b[0m 3ms/step - loss: 399.9724 - mae: 399.9079 - val_loss: 417.2613 - val_mae: 419.8714\n",
      "Epoch 35/100\n",
      "\u001b[1m23/23\u001b[0m \u001b[32m━━━━━━━━━━━━━━━━━━━━\u001b[0m\u001b[37m\u001b[0m \u001b[1m0s\u001b[0m 4ms/step - loss: 422.2480 - mae: 422.2519 - val_loss: 431.6886 - val_mae: 435.4151\n",
      "Epoch 36/100\n",
      "\u001b[1m23/23\u001b[0m \u001b[32m━━━━━━━━━━━━━━━━━━━━\u001b[0m\u001b[37m\u001b[0m \u001b[1m0s\u001b[0m 4ms/step - loss: 394.8048 - mae: 394.8394 - val_loss: 397.9713 - val_mae: 399.9761\n",
      "Epoch 37/100\n",
      "\u001b[1m23/23\u001b[0m \u001b[32m━━━━━━━━━━━━━━━━━━━━\u001b[0m\u001b[37m\u001b[0m \u001b[1m0s\u001b[0m 4ms/step - loss: 391.6827 - mae: 391.6971 - val_loss: 392.3498 - val_mae: 393.2897\n",
      "Epoch 38/100\n",
      "\u001b[1m23/23\u001b[0m \u001b[32m━━━━━━━━━━━━━━━━━━━━\u001b[0m\u001b[37m\u001b[0m \u001b[1m0s\u001b[0m 4ms/step - loss: 370.7262 - mae: 370.7359 - val_loss: 437.1178 - val_mae: 441.3079\n",
      "Epoch 39/100\n",
      "\u001b[1m23/23\u001b[0m \u001b[32m━━━━━━━━━━━━━━━━━━━━\u001b[0m\u001b[37m\u001b[0m \u001b[1m0s\u001b[0m 3ms/step - loss: 391.8522 - mae: 391.7622 - val_loss: 422.9908 - val_mae: 423.0977\n",
      "Epoch 40/100\n",
      "\u001b[1m23/23\u001b[0m \u001b[32m━━━━━━━━━━━━━━━━━━━━\u001b[0m\u001b[37m\u001b[0m \u001b[1m0s\u001b[0m 3ms/step - loss: 412.8524 - mae: 412.9082 - val_loss: 551.4064 - val_mae: 545.5674\n",
      "Epoch 41/100\n",
      "\u001b[1m23/23\u001b[0m \u001b[32m━━━━━━━━━━━━━━━━━━━━\u001b[0m\u001b[37m\u001b[0m \u001b[1m0s\u001b[0m 3ms/step - loss: 400.7141 - mae: 400.6970 - val_loss: 388.9635 - val_mae: 390.2472\n",
      "Epoch 42/100\n",
      "\u001b[1m23/23\u001b[0m \u001b[32m━━━━━━━━━━━━━━━━━━━━\u001b[0m\u001b[37m\u001b[0m \u001b[1m0s\u001b[0m 3ms/step - loss: 383.1282 - mae: 383.0436 - val_loss: 388.6638 - val_mae: 391.1636\n",
      "Epoch 43/100\n",
      "\u001b[1m23/23\u001b[0m \u001b[32m━━━━━━━━━━━━━━━━━━━━\u001b[0m\u001b[37m\u001b[0m \u001b[1m0s\u001b[0m 5ms/step - loss: 411.9886 - mae: 412.0376 - val_loss: 427.3056 - val_mae: 431.4707\n",
      "Epoch 44/100\n",
      "\u001b[1m23/23\u001b[0m \u001b[32m━━━━━━━━━━━━━━━━━━━━\u001b[0m\u001b[37m\u001b[0m \u001b[1m0s\u001b[0m 10ms/step - loss: 387.2682 - mae: 387.2749 - val_loss: 668.3914 - val_mae: 658.1988\n",
      "Epoch 45/100\n",
      "\u001b[1m23/23\u001b[0m \u001b[32m━━━━━━━━━━━━━━━━━━━━\u001b[0m\u001b[37m\u001b[0m \u001b[1m0s\u001b[0m 3ms/step - loss: 395.0248 - mae: 395.0126 - val_loss: 675.1999 - val_mae: 680.0742\n",
      "Epoch 46/100\n",
      "\u001b[1m23/23\u001b[0m \u001b[32m━━━━━━━━━━━━━━━━━━━━\u001b[0m\u001b[37m\u001b[0m \u001b[1m0s\u001b[0m 3ms/step - loss: 414.9015 - mae: 414.9731 - val_loss: 384.0593 - val_mae: 386.2721\n",
      "Epoch 47/100\n",
      "\u001b[1m23/23\u001b[0m \u001b[32m━━━━━━━━━━━━━━━━━━━━\u001b[0m\u001b[37m\u001b[0m \u001b[1m0s\u001b[0m 3ms/step - loss: 369.7918 - mae: 369.7725 - val_loss: 495.5964 - val_mae: 500.1573\n",
      "Epoch 48/100\n",
      "\u001b[1m23/23\u001b[0m \u001b[32m━━━━━━━━━━━━━━━━━━━━\u001b[0m\u001b[37m\u001b[0m \u001b[1m0s\u001b[0m 3ms/step - loss: 431.9588 - mae: 431.9685 - val_loss: 546.7434 - val_mae: 551.5035\n",
      "Epoch 49/100\n",
      "\u001b[1m23/23\u001b[0m \u001b[32m━━━━━━━━━━━━━━━━━━━━\u001b[0m\u001b[37m\u001b[0m \u001b[1m0s\u001b[0m 3ms/step - loss: 439.4886 - mae: 439.5665 - val_loss: 464.4408 - val_mae: 468.8672\n",
      "Epoch 50/100\n",
      "\u001b[1m23/23\u001b[0m \u001b[32m━━━━━━━━━━━━━━━━━━━━\u001b[0m\u001b[37m\u001b[0m \u001b[1m0s\u001b[0m 3ms/step - loss: 409.5213 - mae: 409.5840 - val_loss: 504.6511 - val_mae: 509.3207\n",
      "Epoch 51/100\n",
      "\u001b[1m23/23\u001b[0m \u001b[32m━━━━━━━━━━━━━━━━━━━━\u001b[0m\u001b[37m\u001b[0m \u001b[1m0s\u001b[0m 3ms/step - loss: 383.9500 - mae: 384.0109 - val_loss: 559.5933 - val_mae: 553.7779\n",
      "Epoch 52/100\n",
      "\u001b[1m23/23\u001b[0m \u001b[32m━━━━━━━━━━━━━━━━━━━━\u001b[0m\u001b[37m\u001b[0m \u001b[1m0s\u001b[0m 3ms/step - loss: 406.6133 - mae: 406.6197 - val_loss: 380.0547 - val_mae: 382.9969\n",
      "Epoch 53/100\n",
      "\u001b[1m23/23\u001b[0m \u001b[32m━━━━━━━━━━━━━━━━━━━━\u001b[0m\u001b[37m\u001b[0m \u001b[1m0s\u001b[0m 3ms/step - loss: 406.3468 - mae: 406.4331 - val_loss: 389.1194 - val_mae: 392.7927\n",
      "Epoch 54/100\n",
      "\u001b[1m23/23\u001b[0m \u001b[32m━━━━━━━━━━━━━━━━━━━━\u001b[0m\u001b[37m\u001b[0m \u001b[1m0s\u001b[0m 4ms/step - loss: 389.2406 - mae: 389.2712 - val_loss: 568.3489 - val_mae: 562.2402\n",
      "Epoch 55/100\n",
      "\u001b[1m23/23\u001b[0m \u001b[32m━━━━━━━━━━━━━━━━━━━━\u001b[0m\u001b[37m\u001b[0m \u001b[1m0s\u001b[0m 4ms/step - loss: 414.1062 - mae: 414.2652 - val_loss: 555.1074 - val_mae: 549.6232\n",
      "Epoch 56/100\n",
      "\u001b[1m23/23\u001b[0m \u001b[32m━━━━━━━━━━━━━━━━━━━━\u001b[0m\u001b[37m\u001b[0m \u001b[1m0s\u001b[0m 3ms/step - loss: 398.9061 - mae: 398.9351 - val_loss: 444.6891 - val_mae: 449.2741\n",
      "Epoch 57/100\n",
      "\u001b[1m23/23\u001b[0m \u001b[32m━━━━━━━━━━━━━━━━━━━━\u001b[0m\u001b[37m\u001b[0m \u001b[1m0s\u001b[0m 3ms/step - loss: 412.3641 - mae: 412.4227 - val_loss: 435.0050 - val_mae: 439.4543\n",
      "Epoch 58/100\n",
      "\u001b[1m23/23\u001b[0m \u001b[32m━━━━━━━━━━━━━━━━━━━━\u001b[0m\u001b[37m\u001b[0m \u001b[1m0s\u001b[0m 3ms/step - loss: 397.4408 - mae: 397.4634 - val_loss: 467.1173 - val_mae: 465.7133\n",
      "Epoch 59/100\n",
      "\u001b[1m23/23\u001b[0m \u001b[32m━━━━━━━━━━━━━━━━━━━━\u001b[0m\u001b[37m\u001b[0m \u001b[1m0s\u001b[0m 3ms/step - loss: 395.3250 - mae: 395.4011 - val_loss: 415.1840 - val_mae: 415.9053\n",
      "Epoch 60/100\n",
      "\u001b[1m23/23\u001b[0m \u001b[32m━━━━━━━━━━━━━━━━━━━━\u001b[0m\u001b[37m\u001b[0m \u001b[1m0s\u001b[0m 3ms/step - loss: 396.6633 - mae: 396.6126 - val_loss: 394.9094 - val_mae: 396.8590\n",
      "Epoch 61/100\n",
      "\u001b[1m23/23\u001b[0m \u001b[32m━━━━━━━━━━━━━━━━━━━━\u001b[0m\u001b[37m\u001b[0m \u001b[1m0s\u001b[0m 3ms/step - loss: 400.6951 - mae: 400.6576 - val_loss: 421.4275 - val_mae: 421.8606\n",
      "Epoch 62/100\n",
      "\u001b[1m23/23\u001b[0m \u001b[32m━━━━━━━━━━━━━━━━━━━━\u001b[0m\u001b[37m\u001b[0m \u001b[1m0s\u001b[0m 3ms/step - loss: 438.1773 - mae: 438.0711 - val_loss: 553.8792 - val_mae: 558.5867\n",
      "Epoch 63/100\n",
      "\u001b[1m23/23\u001b[0m \u001b[32m━━━━━━━━━━━━━━━━━━━━\u001b[0m\u001b[37m\u001b[0m \u001b[1m0s\u001b[0m 3ms/step - loss: 377.3726 - mae: 377.2946 - val_loss: 399.6861 - val_mae: 404.0020\n",
      "Epoch 64/100\n",
      "\u001b[1m23/23\u001b[0m \u001b[32m━━━━━━━━━━━━━━━━━━━━\u001b[0m\u001b[37m\u001b[0m \u001b[1m0s\u001b[0m 3ms/step - loss: 397.5527 - mae: 397.5981 - val_loss: 542.0291 - val_mae: 537.3680\n",
      "Epoch 65/100\n",
      "\u001b[1m23/23\u001b[0m \u001b[32m━━━━━━━━━━━━━━━━━━━━\u001b[0m\u001b[37m\u001b[0m \u001b[1m0s\u001b[0m 5ms/step - loss: 390.9840 - mae: 390.9590 - val_loss: 407.9064 - val_mae: 412.3929\n",
      "Epoch 66/100\n",
      "\u001b[1m23/23\u001b[0m \u001b[32m━━━━━━━━━━━━━━━━━━━━\u001b[0m\u001b[37m\u001b[0m \u001b[1m0s\u001b[0m 5ms/step - loss: 391.5754 - mae: 391.5498 - val_loss: 451.6806 - val_mae: 456.3360\n",
      "Epoch 67/100\n",
      "\u001b[1m23/23\u001b[0m \u001b[32m━━━━━━━━━━━━━━━━━━━━\u001b[0m\u001b[37m\u001b[0m \u001b[1m0s\u001b[0m 4ms/step - loss: 371.4156 - mae: 371.4387 - val_loss: 375.3699 - val_mae: 379.1731\n",
      "Epoch 68/100\n",
      "\u001b[1m23/23\u001b[0m \u001b[32m━━━━━━━━━━━━━━━━━━━━\u001b[0m\u001b[37m\u001b[0m \u001b[1m0s\u001b[0m 5ms/step - loss: 387.5356 - mae: 387.6076 - val_loss: 429.2499 - val_mae: 429.4070\n",
      "Epoch 69/100\n",
      "\u001b[1m23/23\u001b[0m \u001b[32m━━━━━━━━━━━━━━━━━━━━\u001b[0m\u001b[37m\u001b[0m \u001b[1m0s\u001b[0m 4ms/step - loss: 374.9568 - mae: 375.0144 - val_loss: 557.2007 - val_mae: 562.0835\n",
      "Epoch 70/100\n",
      "\u001b[1m23/23\u001b[0m \u001b[32m━━━━━━━━━━━━━━━━━━━━\u001b[0m\u001b[37m\u001b[0m \u001b[1m0s\u001b[0m 3ms/step - loss: 361.9289 - mae: 361.9384 - val_loss: 397.7246 - val_mae: 399.4800\n",
      "Epoch 71/100\n",
      "\u001b[1m23/23\u001b[0m \u001b[32m━━━━━━━━━━━━━━━━━━━━\u001b[0m\u001b[37m\u001b[0m \u001b[1m0s\u001b[0m 3ms/step - loss: 390.0712 - mae: 390.0727 - val_loss: 427.9798 - val_mae: 428.2015\n",
      "Epoch 72/100\n",
      "\u001b[1m23/23\u001b[0m \u001b[32m━━━━━━━━━━━━━━━━━━━━\u001b[0m\u001b[37m\u001b[0m \u001b[1m0s\u001b[0m 3ms/step - loss: 393.8772 - mae: 393.9062 - val_loss: 423.7379 - val_mae: 424.1833\n",
      "Epoch 73/100\n",
      "\u001b[1m23/23\u001b[0m \u001b[32m━━━━━━━━━━━━━━━━━━━━\u001b[0m\u001b[37m\u001b[0m \u001b[1m0s\u001b[0m 3ms/step - loss: 384.8245 - mae: 384.6655 - val_loss: 387.8523 - val_mae: 392.3015\n",
      "Epoch 74/100\n",
      "\u001b[1m23/23\u001b[0m \u001b[32m━━━━━━━━━━━━━━━━━━━━\u001b[0m\u001b[37m\u001b[0m \u001b[1m0s\u001b[0m 3ms/step - loss: 376.2518 - mae: 376.0613 - val_loss: 393.4895 - val_mae: 398.2518\n",
      "Epoch 75/100\n",
      "\u001b[1m23/23\u001b[0m \u001b[32m━━━━━━━━━━━━━━━━━━━━\u001b[0m\u001b[37m\u001b[0m \u001b[1m0s\u001b[0m 3ms/step - loss: 389.5557 - mae: 389.6669 - val_loss: 505.6012 - val_mae: 502.7699\n",
      "Epoch 76/100\n",
      "\u001b[1m23/23\u001b[0m \u001b[32m━━━━━━━━━━━━━━━━━━━━\u001b[0m\u001b[37m\u001b[0m \u001b[1m0s\u001b[0m 5ms/step - loss: 395.7250 - mae: 395.7034 - val_loss: 456.0975 - val_mae: 460.8767\n",
      "Epoch 77/100\n",
      "\u001b[1m23/23\u001b[0m \u001b[32m━━━━━━━━━━━━━━━━━━━━\u001b[0m\u001b[37m\u001b[0m \u001b[1m0s\u001b[0m 4ms/step - loss: 407.2773 - mae: 407.2589 - val_loss: 404.7558 - val_mae: 406.2257\n",
      "Epoch 78/100\n",
      "\u001b[1m23/23\u001b[0m \u001b[32m━━━━━━━━━━━━━━━━━━━━\u001b[0m\u001b[37m\u001b[0m \u001b[1m0s\u001b[0m 5ms/step - loss: 381.7214 - mae: 381.7407 - val_loss: 427.2334 - val_mae: 431.9708\n",
      "Epoch 79/100\n",
      "\u001b[1m23/23\u001b[0m \u001b[32m━━━━━━━━━━━━━━━━━━━━\u001b[0m\u001b[37m\u001b[0m \u001b[1m0s\u001b[0m 3ms/step - loss: 371.5843 - mae: 371.5259 - val_loss: 451.1633 - val_mae: 455.8980\n",
      "Epoch 80/100\n",
      "\u001b[1m23/23\u001b[0m \u001b[32m━━━━━━━━━━━━━━━━━━━━\u001b[0m\u001b[37m\u001b[0m \u001b[1m0s\u001b[0m 3ms/step - loss: 368.4487 - mae: 368.5173 - val_loss: 467.4579 - val_mae: 472.3816\n",
      "Epoch 81/100\n",
      "\u001b[1m23/23\u001b[0m \u001b[32m━━━━━━━━━━━━━━━━━━━━\u001b[0m\u001b[37m\u001b[0m \u001b[1m0s\u001b[0m 3ms/step - loss: 400.0238 - mae: 399.9840 - val_loss: 429.2417 - val_mae: 433.9157\n",
      "Epoch 82/100\n",
      "\u001b[1m23/23\u001b[0m \u001b[32m━━━━━━━━━━━━━━━━━━━━\u001b[0m\u001b[37m\u001b[0m \u001b[1m0s\u001b[0m 3ms/step - loss: 420.7733 - mae: 420.7496 - val_loss: 542.8500 - val_mae: 547.8782\n",
      "Epoch 83/100\n",
      "\u001b[1m23/23\u001b[0m \u001b[32m━━━━━━━━━━━━━━━━━━━━\u001b[0m\u001b[37m\u001b[0m \u001b[1m0s\u001b[0m 3ms/step - loss: 397.5212 - mae: 397.4745 - val_loss: 458.2275 - val_mae: 463.0378\n",
      "Epoch 84/100\n",
      "\u001b[1m23/23\u001b[0m \u001b[32m━━━━━━━━━━━━━━━━━━━━\u001b[0m\u001b[37m\u001b[0m \u001b[1m0s\u001b[0m 3ms/step - loss: 388.3967 - mae: 388.3978 - val_loss: 376.1997 - val_mae: 380.1797\n",
      "Epoch 85/100\n",
      "\u001b[1m23/23\u001b[0m \u001b[32m━━━━━━━━━━━━━━━━━━━━\u001b[0m\u001b[37m\u001b[0m \u001b[1m0s\u001b[0m 4ms/step - loss: 368.8684 - mae: 368.8087 - val_loss: 377.0197 - val_mae: 380.9858\n",
      "Epoch 86/100\n",
      "\u001b[1m23/23\u001b[0m \u001b[32m━━━━━━━━━━━━━━━━━━━━\u001b[0m\u001b[37m\u001b[0m \u001b[1m0s\u001b[0m 5ms/step - loss: 366.2185 - mae: 366.1863 - val_loss: 395.9086 - val_mae: 400.8445\n",
      "Epoch 87/100\n",
      "\u001b[1m23/23\u001b[0m \u001b[32m━━━━━━━━━━━━━━━━━━━━\u001b[0m\u001b[37m\u001b[0m \u001b[1m0s\u001b[0m 5ms/step - loss: 379.7602 - mae: 379.7348 - val_loss: 582.4365 - val_mae: 587.5284\n",
      "Epoch 88/100\n",
      "\u001b[1m23/23\u001b[0m \u001b[32m━━━━━━━━━━━━━━━━━━━━\u001b[0m\u001b[37m\u001b[0m \u001b[1m0s\u001b[0m 3ms/step - loss: 389.6953 - mae: 389.6098 - val_loss: 435.8413 - val_mae: 440.5922\n",
      "Epoch 89/100\n",
      "\u001b[1m23/23\u001b[0m \u001b[32m━━━━━━━━━━━━━━━━━━━━\u001b[0m\u001b[37m\u001b[0m \u001b[1m0s\u001b[0m 3ms/step - loss: 380.5785 - mae: 380.5338 - val_loss: 458.0013 - val_mae: 462.7986\n",
      "Epoch 90/100\n",
      "\u001b[1m23/23\u001b[0m \u001b[32m━━━━━━━━━━━━━━━━━━━━\u001b[0m\u001b[37m\u001b[0m \u001b[1m0s\u001b[0m 3ms/step - loss: 375.6088 - mae: 375.5277 - val_loss: 393.4050 - val_mae: 398.3524\n",
      "Epoch 91/100\n",
      "\u001b[1m23/23\u001b[0m \u001b[32m━━━━━━━━━━━━━━━━━━━━\u001b[0m\u001b[37m\u001b[0m \u001b[1m0s\u001b[0m 3ms/step - loss: 370.1944 - mae: 370.1376 - val_loss: 383.9174 - val_mae: 387.1993\n",
      "Epoch 92/100\n",
      "\u001b[1m23/23\u001b[0m \u001b[32m━━━━━━━━━━━━━━━━━━━━\u001b[0m\u001b[37m\u001b[0m \u001b[1m0s\u001b[0m 3ms/step - loss: 393.4347 - mae: 393.4035 - val_loss: 391.2604 - val_mae: 393.7744\n",
      "Epoch 93/100\n",
      "\u001b[1m23/23\u001b[0m \u001b[32m━━━━━━━━━━━━━━━━━━━━\u001b[0m\u001b[37m\u001b[0m \u001b[1m0s\u001b[0m 4ms/step - loss: 362.9810 - mae: 362.9793 - val_loss: 391.2390 - val_mae: 396.2206\n",
      "Epoch 94/100\n",
      "\u001b[1m23/23\u001b[0m \u001b[32m━━━━━━━━━━━━━━━━━━━━\u001b[0m\u001b[37m\u001b[0m \u001b[1m0s\u001b[0m 3ms/step - loss: 373.2900 - mae: 373.3582 - val_loss: 491.7979 - val_mae: 489.8055\n",
      "Epoch 95/100\n",
      "\u001b[1m23/23\u001b[0m \u001b[32m━━━━━━━━━━━━━━━━━━━━\u001b[0m\u001b[37m\u001b[0m \u001b[1m0s\u001b[0m 3ms/step - loss: 385.5798 - mae: 385.6656 - val_loss: 443.2094 - val_mae: 443.0040\n",
      "Epoch 96/100\n",
      "\u001b[1m23/23\u001b[0m \u001b[32m━━━━━━━━━━━━━━━━━━━━\u001b[0m\u001b[37m\u001b[0m \u001b[1m0s\u001b[0m 5ms/step - loss: 375.8084 - mae: 375.9380 - val_loss: 502.6823 - val_mae: 507.7092\n",
      "Epoch 97/100\n",
      "\u001b[1m23/23\u001b[0m \u001b[32m━━━━━━━━━━━━━━━━━━━━\u001b[0m\u001b[37m\u001b[0m \u001b[1m0s\u001b[0m 5ms/step - loss: 386.0732 - mae: 386.0820 - val_loss: 477.5797 - val_mae: 482.6858\n",
      "Epoch 98/100\n",
      "\u001b[1m23/23\u001b[0m \u001b[32m━━━━━━━━━━━━━━━━━━━━\u001b[0m\u001b[37m\u001b[0m \u001b[1m0s\u001b[0m 4ms/step - loss: 386.6174 - mae: 386.6648 - val_loss: 407.1276 - val_mae: 412.0126\n",
      "Epoch 99/100\n",
      "\u001b[1m23/23\u001b[0m \u001b[32m━━━━━━━━━━━━━━━━━━━━\u001b[0m\u001b[37m\u001b[0m \u001b[1m0s\u001b[0m 5ms/step - loss: 365.8123 - mae: 365.8648 - val_loss: 406.8230 - val_mae: 408.4117\n",
      "Epoch 100/100\n",
      "\u001b[1m23/23\u001b[0m \u001b[32m━━━━━━━━━━━━━━━━━━━━\u001b[0m\u001b[37m\u001b[0m \u001b[1m0s\u001b[0m 3ms/step - loss: 354.9237 - mae: 354.9308 - val_loss: 373.3032 - val_mae: 378.0002\n"
     ]
    },
    {
     "data": {
      "text/plain": [
       "<keras.src.callbacks.history.History at 0x245086fb110>"
      ]
     },
     "execution_count": 26,
     "metadata": {},
     "output_type": "execute_result"
    }
   ],
   "source": [
    "model_1.fit(train_windows, train_labels, epochs=100, batch_size=128, validation_data=(test_windows, test_labels))"
   ]
  },
  {
   "cell_type": "code",
   "execution_count": 28,
   "metadata": {
    "colab": {
     "base_uri": "https://localhost:8080/"
    },
    "id": "4Smb7WhPCuGK",
    "outputId": "8255a4ee-aab7-4295-e2fc-375e12c1e6ba"
   },
   "outputs": [
    {
     "name": "stdout",
     "output_type": "stream",
     "text": [
      "\u001b[1m11/11\u001b[0m \u001b[32m━━━━━━━━━━━━━━━━━━━━\u001b[0m\u001b[37m\u001b[0m \u001b[1m0s\u001b[0m 2ms/step - loss: 364.2878 - mae: 353.1629 \n"
     ]
    },
    {
     "data": {
      "text/plain": [
       "[444.7496337890625, 378.00018310546875]"
      ]
     },
     "execution_count": 28,
     "metadata": {},
     "output_type": "execute_result"
    }
   ],
   "source": [
    "model_1.evaluate(test_windows, test_labels)"
   ]
  },
  {
   "cell_type": "markdown",
   "metadata": {
    "id": "K0pVOTLtaigD"
   },
   "source": [
    "## Dense Model 2\n",
    "> Windwos : 30, horizon : 1"
   ]
  },
  {
   "cell_type": "code",
   "execution_count": 29,
   "metadata": {
    "id": "zDjaRF8VZs2U"
   },
   "outputs": [],
   "source": [
    "windows_30, labels_30 = create_windowed_dataset(y_train, horizon=1, window=30)"
   ]
  },
  {
   "cell_type": "code",
   "execution_count": 30,
   "metadata": {
    "id": "1ho54FxmfCnb"
   },
   "outputs": [],
   "source": [
    "train_windows_30, test_windows_30, train_labels_30, test_labels_30 = window_train_test_split(windows=windows_30, labels=labels_30)"
   ]
  },
  {
   "cell_type": "code",
   "execution_count": 31,
   "metadata": {
    "id": "__C4syT4fbkx"
   },
   "outputs": [],
   "source": [
    "input_shape = train_windows_30.shape[1:]"
   ]
  },
  {
   "cell_type": "code",
   "execution_count": 32,
   "metadata": {
    "id": "4IVDtByOfRX3"
   },
   "outputs": [],
   "source": [
    "inputs = tf.keras.layers.Input(shape=input_shape, batch_size=128)\n",
    "\n",
    "x = tfx = tf.keras.layers.Dense(units=128, activation=tf.keras.activations.relu)(inputs)\n",
    "outputs = tf.keras.layers.Dense(units=1, activation=tf.keras.activations.linear)(x) #units = horizon = 1\n",
    "\n",
    "model_2 = tf.keras.Model(inputs, outputs)"
   ]
  },
  {
   "cell_type": "code",
   "execution_count": 33,
   "metadata": {
    "id": "x7OX1_UafyEM"
   },
   "outputs": [],
   "source": [
    "model_2.compile(loss=tf.keras.losses.MAE,\n",
    "                optimizer=tf.keras.optimizers.Adam(),\n",
    "                metrics=['mae'])"
   ]
  },
  {
   "cell_type": "code",
   "execution_count": 34,
   "metadata": {
    "colab": {
     "base_uri": "https://localhost:8080/"
    },
    "id": "Ot9PDOxHf2Rg",
    "outputId": "b533f903-b508-4419-9e4f-26cea7bfd1aa",
    "scrolled": true
   },
   "outputs": [
    {
     "name": "stdout",
     "output_type": "stream",
     "text": [
      "Epoch 1/100\n",
      "\u001b[1m23/23\u001b[0m \u001b[32m━━━━━━━━━━━━━━━━━━━━\u001b[0m\u001b[37m\u001b[0m \u001b[1m1s\u001b[0m 11ms/step - loss: 1273.8295 - mae: 1274.0365 - val_loss: 878.7769 - val_mae: 908.0773\n",
      "Epoch 2/100\n",
      "\u001b[1m23/23\u001b[0m \u001b[32m━━━━━━━━━━━━━━━━━━━━\u001b[0m\u001b[37m\u001b[0m \u001b[1m0s\u001b[0m 3ms/step - loss: 754.2179 - mae: 754.2378 - val_loss: 743.5143 - val_mae: 751.8890\n",
      "Epoch 3/100\n",
      "\u001b[1m23/23\u001b[0m \u001b[32m━━━━━━━━━━━━━━━━━━━━\u001b[0m\u001b[37m\u001b[0m \u001b[1m0s\u001b[0m 3ms/step - loss: 736.8690 - mae: 736.8054 - val_loss: 997.1945 - val_mae: 976.8972\n",
      "Epoch 4/100\n",
      "\u001b[1m23/23\u001b[0m \u001b[32m━━━━━━━━━━━━━━━━━━━━\u001b[0m\u001b[37m\u001b[0m \u001b[1m0s\u001b[0m 3ms/step - loss: 713.9769 - mae: 714.0818 - val_loss: 831.4173 - val_mae: 815.1469\n",
      "Epoch 5/100\n",
      "\u001b[1m23/23\u001b[0m \u001b[32m━━━━━━━━━━━━━━━━━━━━\u001b[0m\u001b[37m\u001b[0m \u001b[1m0s\u001b[0m 3ms/step - loss: 610.1713 - mae: 610.0714 - val_loss: 681.5037 - val_mae: 677.3051\n",
      "Epoch 6/100\n",
      "\u001b[1m23/23\u001b[0m \u001b[32m━━━━━━━━━━━━━━━━━━━━\u001b[0m\u001b[37m\u001b[0m \u001b[1m0s\u001b[0m 3ms/step - loss: 618.5485 - mae: 618.4772 - val_loss: 630.1872 - val_mae: 633.4237\n",
      "Epoch 7/100\n",
      "\u001b[1m23/23\u001b[0m \u001b[32m━━━━━━━━━━━━━━━━━━━━\u001b[0m\u001b[37m\u001b[0m \u001b[1m0s\u001b[0m 5ms/step - loss: 622.8093 - mae: 622.5466 - val_loss: 618.5500 - val_mae: 625.0049\n",
      "Epoch 8/100\n",
      "\u001b[1m23/23\u001b[0m \u001b[32m━━━━━━━━━━━━━━━━━━━━\u001b[0m\u001b[37m\u001b[0m \u001b[1m0s\u001b[0m 5ms/step - loss: 601.5323 - mae: 601.6274 - val_loss: 715.0366 - val_mae: 699.5357\n",
      "Epoch 9/100\n",
      "\u001b[1m23/23\u001b[0m \u001b[32m━━━━━━━━━━━━━━━━━━━━\u001b[0m\u001b[37m\u001b[0m \u001b[1m0s\u001b[0m 3ms/step - loss: 600.2897 - mae: 600.6048 - val_loss: 578.7072 - val_mae: 580.6016\n",
      "Epoch 10/100\n",
      "\u001b[1m23/23\u001b[0m \u001b[32m━━━━━━━━━━━━━━━━━━━━\u001b[0m\u001b[37m\u001b[0m \u001b[1m0s\u001b[0m 3ms/step - loss: 613.2830 - mae: 612.9761 - val_loss: 723.3475 - val_mae: 706.0491\n",
      "Epoch 11/100\n",
      "\u001b[1m23/23\u001b[0m \u001b[32m━━━━━━━━━━━━━━━━━━━━\u001b[0m\u001b[37m\u001b[0m \u001b[1m0s\u001b[0m 3ms/step - loss: 595.1885 - mae: 595.3431 - val_loss: 566.1218 - val_mae: 571.4114\n",
      "Epoch 12/100\n",
      "\u001b[1m23/23\u001b[0m \u001b[32m━━━━━━━━━━━━━━━━━━━━\u001b[0m\u001b[37m\u001b[0m \u001b[1m0s\u001b[0m 3ms/step - loss: 572.0684 - mae: 571.9787 - val_loss: 556.9142 - val_mae: 554.9635\n",
      "Epoch 13/100\n",
      "\u001b[1m23/23\u001b[0m \u001b[32m━━━━━━━━━━━━━━━━━━━━\u001b[0m\u001b[37m\u001b[0m \u001b[1m0s\u001b[0m 5ms/step - loss: 561.3652 - mae: 561.4388 - val_loss: 664.1953 - val_mae: 650.0227\n",
      "Epoch 14/100\n",
      "\u001b[1m23/23\u001b[0m \u001b[32m━━━━━━━━━━━━━━━━━━━━\u001b[0m\u001b[37m\u001b[0m \u001b[1m0s\u001b[0m 10ms/step - loss: 549.7681 - mae: 549.9169 - val_loss: 700.0706 - val_mae: 712.8987\n",
      "Epoch 15/100\n",
      "\u001b[1m23/23\u001b[0m \u001b[32m━━━━━━━━━━━━━━━━━━━━\u001b[0m\u001b[37m\u001b[0m \u001b[1m0s\u001b[0m 4ms/step - loss: 526.1451 - mae: 526.2479 - val_loss: 709.4376 - val_mae: 692.4076\n",
      "Epoch 16/100\n",
      "\u001b[1m23/23\u001b[0m \u001b[32m━━━━━━━━━━━━━━━━━━━━\u001b[0m\u001b[37m\u001b[0m \u001b[1m0s\u001b[0m 3ms/step - loss: 541.0655 - mae: 540.9843 - val_loss: 529.2618 - val_mae: 534.2217\n",
      "Epoch 17/100\n",
      "\u001b[1m23/23\u001b[0m \u001b[32m━━━━━━━━━━━━━━━━━━━━\u001b[0m\u001b[37m\u001b[0m \u001b[1m0s\u001b[0m 3ms/step - loss: 525.1538 - mae: 525.0687 - val_loss: 618.8148 - val_mae: 606.6774\n",
      "Epoch 18/100\n",
      "\u001b[1m23/23\u001b[0m \u001b[32m━━━━━━━━━━━━━━━━━━━━\u001b[0m\u001b[37m\u001b[0m \u001b[1m0s\u001b[0m 3ms/step - loss: 514.3083 - mae: 514.2854 - val_loss: 547.2208 - val_mae: 556.5838\n",
      "Epoch 19/100\n",
      "\u001b[1m23/23\u001b[0m \u001b[32m━━━━━━━━━━━━━━━━━━━━\u001b[0m\u001b[37m\u001b[0m \u001b[1m0s\u001b[0m 3ms/step - loss: 475.0457 - mae: 474.6785 - val_loss: 951.1231 - val_mae: 961.2094\n",
      "Epoch 20/100\n",
      "\u001b[1m23/23\u001b[0m \u001b[32m━━━━━━━━━━━━━━━━━━━━\u001b[0m\u001b[37m\u001b[0m \u001b[1m0s\u001b[0m 3ms/step - loss: 579.3180 - mae: 579.2927 - val_loss: 527.2388 - val_mae: 522.9915\n",
      "Epoch 21/100\n",
      "\u001b[1m23/23\u001b[0m \u001b[32m━━━━━━━━━━━━━━━━━━━━\u001b[0m\u001b[37m\u001b[0m \u001b[1m0s\u001b[0m 3ms/step - loss: 488.9283 - mae: 488.8171 - val_loss: 538.9753 - val_mae: 532.2165\n",
      "Epoch 22/100\n",
      "\u001b[1m23/23\u001b[0m \u001b[32m━━━━━━━━━━━━━━━━━━━━\u001b[0m\u001b[37m\u001b[0m \u001b[1m0s\u001b[0m 4ms/step - loss: 509.0222 - mae: 509.2144 - val_loss: 1658.3751 - val_mae: 1662.3408\n",
      "Epoch 23/100\n",
      "\u001b[1m23/23\u001b[0m \u001b[32m━━━━━━━━━━━━━━━━━━━━\u001b[0m\u001b[37m\u001b[0m \u001b[1m0s\u001b[0m 5ms/step - loss: 742.2264 - mae: 742.1901 - val_loss: 730.8519 - val_mae: 714.4346\n",
      "Epoch 24/100\n",
      "\u001b[1m23/23\u001b[0m \u001b[32m━━━━━━━━━━━━━━━━━━━━\u001b[0m\u001b[37m\u001b[0m \u001b[1m0s\u001b[0m 8ms/step - loss: 517.1618 - mae: 517.0117 - val_loss: 530.3621 - val_mae: 539.9333\n",
      "Epoch 25/100\n",
      "\u001b[1m23/23\u001b[0m \u001b[32m━━━━━━━━━━━━━━━━━━━━\u001b[0m\u001b[37m\u001b[0m \u001b[1m0s\u001b[0m 3ms/step - loss: 518.9421 - mae: 519.0888 - val_loss: 761.3504 - val_mae: 741.9233\n",
      "Epoch 26/100\n",
      "\u001b[1m23/23\u001b[0m \u001b[32m━━━━━━━━━━━━━━━━━━━━\u001b[0m\u001b[37m\u001b[0m \u001b[1m0s\u001b[0m 3ms/step - loss: 475.1829 - mae: 475.2426 - val_loss: 612.6371 - val_mae: 622.9222\n",
      "Epoch 27/100\n",
      "\u001b[1m23/23\u001b[0m \u001b[32m━━━━━━━━━━━━━━━━━━━━\u001b[0m\u001b[37m\u001b[0m \u001b[1m0s\u001b[0m 3ms/step - loss: 530.7656 - mae: 530.6833 - val_loss: 563.5945 - val_mae: 573.5406\n",
      "Epoch 28/100\n",
      "\u001b[1m23/23\u001b[0m \u001b[32m━━━━━━━━━━━━━━━━━━━━\u001b[0m\u001b[37m\u001b[0m \u001b[1m0s\u001b[0m 3ms/step - loss: 480.8709 - mae: 480.9690 - val_loss: 1159.6866 - val_mae: 1130.4436\n",
      "Epoch 29/100\n",
      "\u001b[1m23/23\u001b[0m \u001b[32m━━━━━━━━━━━━━━━━━━━━\u001b[0m\u001b[37m\u001b[0m \u001b[1m0s\u001b[0m 3ms/step - loss: 689.6630 - mae: 690.1369 - val_loss: 773.0324 - val_mae: 754.5328\n",
      "Epoch 30/100\n",
      "\u001b[1m23/23\u001b[0m \u001b[32m━━━━━━━━━━━━━━━━━━━━\u001b[0m\u001b[37m\u001b[0m \u001b[1m0s\u001b[0m 3ms/step - loss: 552.4365 - mae: 552.0190 - val_loss: 580.7099 - val_mae: 570.0861\n",
      "Epoch 31/100\n",
      "\u001b[1m23/23\u001b[0m \u001b[32m━━━━━━━━━━━━━━━━━━━━\u001b[0m\u001b[37m\u001b[0m \u001b[1m0s\u001b[0m 3ms/step - loss: 482.8673 - mae: 483.0533 - val_loss: 465.3372 - val_mae: 466.7000\n",
      "Epoch 32/100\n",
      "\u001b[1m23/23\u001b[0m \u001b[32m━━━━━━━━━━━━━━━━━━━━\u001b[0m\u001b[37m\u001b[0m \u001b[1m0s\u001b[0m 3ms/step - loss: 499.8774 - mae: 499.7186 - val_loss: 468.0930 - val_mae: 474.3501\n",
      "Epoch 33/100\n",
      "\u001b[1m23/23\u001b[0m \u001b[32m━━━━━━━━━━━━━━━━━━━━\u001b[0m\u001b[37m\u001b[0m \u001b[1m0s\u001b[0m 4ms/step - loss: 490.4747 - mae: 490.5043 - val_loss: 583.1895 - val_mae: 595.3086\n",
      "Epoch 34/100\n",
      "\u001b[1m23/23\u001b[0m \u001b[32m━━━━━━━━━━━━━━━━━━━━\u001b[0m\u001b[37m\u001b[0m \u001b[1m0s\u001b[0m 5ms/step - loss: 499.0180 - mae: 499.2334 - val_loss: 513.6968 - val_mae: 507.2812\n",
      "Epoch 35/100\n",
      "\u001b[1m23/23\u001b[0m \u001b[32m━━━━━━━━━━━━━━━━━━━━\u001b[0m\u001b[37m\u001b[0m \u001b[1m0s\u001b[0m 5ms/step - loss: 453.3265 - mae: 453.0254 - val_loss: 502.2704 - val_mae: 497.0406\n",
      "Epoch 36/100\n",
      "\u001b[1m23/23\u001b[0m \u001b[32m━━━━━━━━━━━━━━━━━━━━\u001b[0m\u001b[37m\u001b[0m \u001b[1m0s\u001b[0m 8ms/step - loss: 484.0047 - mae: 484.1996 - val_loss: 733.7793 - val_mae: 715.9980\n",
      "Epoch 37/100\n",
      "\u001b[1m23/23\u001b[0m \u001b[32m━━━━━━━━━━━━━━━━━━━━\u001b[0m\u001b[37m\u001b[0m \u001b[1m0s\u001b[0m 5ms/step - loss: 458.4901 - mae: 458.6168 - val_loss: 450.3957 - val_mae: 454.8557\n",
      "Epoch 38/100\n",
      "\u001b[1m23/23\u001b[0m \u001b[32m━━━━━━━━━━━━━━━━━━━━\u001b[0m\u001b[37m\u001b[0m \u001b[1m0s\u001b[0m 5ms/step - loss: 451.5006 - mae: 451.3556 - val_loss: 942.5731 - val_mae: 951.5389\n",
      "Epoch 39/100\n",
      "\u001b[1m23/23\u001b[0m \u001b[32m━━━━━━━━━━━━━━━━━━━━\u001b[0m\u001b[37m\u001b[0m \u001b[1m0s\u001b[0m 5ms/step - loss: 518.3833 - mae: 518.2321 - val_loss: 445.3702 - val_mae: 448.0806\n",
      "Epoch 40/100\n",
      "\u001b[1m23/23\u001b[0m \u001b[32m━━━━━━━━━━━━━━━━━━━━\u001b[0m\u001b[37m\u001b[0m \u001b[1m0s\u001b[0m 5ms/step - loss: 471.3293 - mae: 471.3568 - val_loss: 530.9542 - val_mae: 539.6680\n",
      "Epoch 41/100\n",
      "\u001b[1m23/23\u001b[0m \u001b[32m━━━━━━━━━━━━━━━━━━━━\u001b[0m\u001b[37m\u001b[0m \u001b[1m0s\u001b[0m 4ms/step - loss: 483.4683 - mae: 483.2311 - val_loss: 1072.9263 - val_mae: 1045.2717\n",
      "Epoch 42/100\n",
      "\u001b[1m23/23\u001b[0m \u001b[32m━━━━━━━━━━━━━━━━━━━━\u001b[0m\u001b[37m\u001b[0m \u001b[1m0s\u001b[0m 4ms/step - loss: 576.9765 - mae: 577.0594 - val_loss: 459.3805 - val_mae: 465.5205\n",
      "Epoch 43/100\n",
      "\u001b[1m23/23\u001b[0m \u001b[32m━━━━━━━━━━━━━━━━━━━━\u001b[0m\u001b[37m\u001b[0m \u001b[1m0s\u001b[0m 5ms/step - loss: 443.4607 - mae: 443.4638 - val_loss: 516.6791 - val_mae: 525.0954\n",
      "Epoch 44/100\n",
      "\u001b[1m23/23\u001b[0m \u001b[32m━━━━━━━━━━━━━━━━━━━━\u001b[0m\u001b[37m\u001b[0m \u001b[1m0s\u001b[0m 4ms/step - loss: 429.1729 - mae: 429.1503 - val_loss: 654.3146 - val_mae: 664.0831\n",
      "Epoch 45/100\n",
      "\u001b[1m23/23\u001b[0m \u001b[32m━━━━━━━━━━━━━━━━━━━━\u001b[0m\u001b[37m\u001b[0m \u001b[1m0s\u001b[0m 9ms/step - loss: 454.5254 - mae: 454.5218 - val_loss: 976.4375 - val_mae: 985.3426\n",
      "Epoch 46/100\n",
      "\u001b[1m23/23\u001b[0m \u001b[32m━━━━━━━━━━━━━━━━━━━━\u001b[0m\u001b[37m\u001b[0m \u001b[1m0s\u001b[0m 4ms/step - loss: 500.6503 - mae: 500.8235 - val_loss: 549.7854 - val_mae: 557.9047\n",
      "Epoch 47/100\n",
      "\u001b[1m23/23\u001b[0m \u001b[32m━━━━━━━━━━━━━━━━━━━━\u001b[0m\u001b[37m\u001b[0m \u001b[1m0s\u001b[0m 5ms/step - loss: 533.1855 - mae: 533.2038 - val_loss: 889.9014 - val_mae: 897.8568\n",
      "Epoch 48/100\n",
      "\u001b[1m23/23\u001b[0m \u001b[32m━━━━━━━━━━━━━━━━━━━━\u001b[0m\u001b[37m\u001b[0m \u001b[1m0s\u001b[0m 4ms/step - loss: 522.5986 - mae: 522.5016 - val_loss: 776.6208 - val_mae: 785.7524\n",
      "Epoch 49/100\n",
      "\u001b[1m23/23\u001b[0m \u001b[32m━━━━━━━━━━━━━━━━━━━━\u001b[0m\u001b[37m\u001b[0m \u001b[1m0s\u001b[0m 5ms/step - loss: 488.9442 - mae: 489.0306 - val_loss: 599.9741 - val_mae: 587.5236\n",
      "Epoch 50/100\n",
      "\u001b[1m23/23\u001b[0m \u001b[32m━━━━━━━━━━━━━━━━━━━━\u001b[0m\u001b[37m\u001b[0m \u001b[1m0s\u001b[0m 5ms/step - loss: 485.0803 - mae: 485.2920 - val_loss: 430.9542 - val_mae: 432.5267\n",
      "Epoch 51/100\n",
      "\u001b[1m23/23\u001b[0m \u001b[32m━━━━━━━━━━━━━━━━━━━━\u001b[0m\u001b[37m\u001b[0m \u001b[1m0s\u001b[0m 5ms/step - loss: 445.0842 - mae: 445.2756 - val_loss: 1142.6709 - val_mae: 1146.4368\n",
      "Epoch 52/100\n",
      "\u001b[1m23/23\u001b[0m \u001b[32m━━━━━━━━━━━━━━━━━━━━\u001b[0m\u001b[37m\u001b[0m \u001b[1m0s\u001b[0m 5ms/step - loss: 550.3641 - mae: 550.5860 - val_loss: 456.3050 - val_mae: 454.3756\n",
      "Epoch 53/100\n",
      "\u001b[1m23/23\u001b[0m \u001b[32m━━━━━━━━━━━━━━━━━━━━\u001b[0m\u001b[37m\u001b[0m \u001b[1m0s\u001b[0m 5ms/step - loss: 411.6933 - mae: 411.8422 - val_loss: 442.1852 - val_mae: 447.8503\n",
      "Epoch 54/100\n",
      "\u001b[1m23/23\u001b[0m \u001b[32m━━━━━━━━━━━━━━━━━━━━\u001b[0m\u001b[37m\u001b[0m \u001b[1m0s\u001b[0m 5ms/step - loss: 409.3961 - mae: 409.1840 - val_loss: 653.4412 - val_mae: 638.3546\n",
      "Epoch 55/100\n",
      "\u001b[1m23/23\u001b[0m \u001b[32m━━━━━━━━━━━━━━━━━━━━\u001b[0m\u001b[37m\u001b[0m \u001b[1m0s\u001b[0m 5ms/step - loss: 501.6497 - mae: 501.8982 - val_loss: 1055.0165 - val_mae: 1026.7567\n",
      "Epoch 56/100\n",
      "\u001b[1m23/23\u001b[0m \u001b[32m━━━━━━━━━━━━━━━━━━━━\u001b[0m\u001b[37m\u001b[0m \u001b[1m0s\u001b[0m 4ms/step - loss: 550.0245 - mae: 550.1440 - val_loss: 581.5759 - val_mae: 589.1971\n",
      "Epoch 57/100\n",
      "\u001b[1m23/23\u001b[0m \u001b[32m━━━━━━━━━━━━━━━━━━━━\u001b[0m\u001b[37m\u001b[0m \u001b[1m0s\u001b[0m 3ms/step - loss: 450.7386 - mae: 450.9359 - val_loss: 431.1392 - val_mae: 431.2133\n",
      "Epoch 58/100\n",
      "\u001b[1m23/23\u001b[0m \u001b[32m━━━━━━━━━━━━━━━━━━━━\u001b[0m\u001b[37m\u001b[0m \u001b[1m0s\u001b[0m 5ms/step - loss: 409.0118 - mae: 408.6948 - val_loss: 422.9321 - val_mae: 426.1841\n",
      "Epoch 59/100\n",
      "\u001b[1m23/23\u001b[0m \u001b[32m━━━━━━━━━━━━━━━━━━━━\u001b[0m\u001b[37m\u001b[0m \u001b[1m0s\u001b[0m 5ms/step - loss: 447.9032 - mae: 448.0074 - val_loss: 593.0314 - val_mae: 581.6248\n",
      "Epoch 60/100\n",
      "\u001b[1m23/23\u001b[0m \u001b[32m━━━━━━━━━━━━━━━━━━━━\u001b[0m\u001b[37m\u001b[0m \u001b[1m0s\u001b[0m 6ms/step - loss: 422.9730 - mae: 422.7764 - val_loss: 863.0520 - val_mae: 841.8218\n",
      "Epoch 61/100\n",
      "\u001b[1m23/23\u001b[0m \u001b[32m━━━━━━━━━━━━━━━━━━━━\u001b[0m\u001b[37m\u001b[0m \u001b[1m0s\u001b[0m 6ms/step - loss: 499.5999 - mae: 499.3999 - val_loss: 647.9130 - val_mae: 633.3932\n",
      "Epoch 62/100\n",
      "\u001b[1m23/23\u001b[0m \u001b[32m━━━━━━━━━━━━━━━━━━━━\u001b[0m\u001b[37m\u001b[0m \u001b[1m0s\u001b[0m 4ms/step - loss: 447.4083 - mae: 447.4991 - val_loss: 481.9610 - val_mae: 477.4597\n",
      "Epoch 63/100\n",
      "\u001b[1m23/23\u001b[0m \u001b[32m━━━━━━━━━━━━━━━━━━━━\u001b[0m\u001b[37m\u001b[0m \u001b[1m0s\u001b[0m 5ms/step - loss: 423.7487 - mae: 423.7788 - val_loss: 419.3627 - val_mae: 423.9057\n",
      "Epoch 64/100\n",
      "\u001b[1m23/23\u001b[0m \u001b[32m━━━━━━━━━━━━━━━━━━━━\u001b[0m\u001b[37m\u001b[0m \u001b[1m0s\u001b[0m 4ms/step - loss: 445.1387 - mae: 445.3254 - val_loss: 417.6577 - val_mae: 422.4554\n",
      "Epoch 65/100\n",
      "\u001b[1m23/23\u001b[0m \u001b[32m━━━━━━━━━━━━━━━━━━━━\u001b[0m\u001b[37m\u001b[0m \u001b[1m0s\u001b[0m 4ms/step - loss: 407.4892 - mae: 407.1615 - val_loss: 906.6164 - val_mae: 883.7435\n",
      "Epoch 66/100\n",
      "\u001b[1m23/23\u001b[0m \u001b[32m━━━━━━━━━━━━━━━━━━━━\u001b[0m\u001b[37m\u001b[0m \u001b[1m0s\u001b[0m 5ms/step - loss: 539.2543 - mae: 539.4169 - val_loss: 978.5068 - val_mae: 956.8049\n",
      "Epoch 67/100\n",
      "\u001b[1m23/23\u001b[0m \u001b[32m━━━━━━━━━━━━━━━━━━━━\u001b[0m\u001b[37m\u001b[0m \u001b[1m0s\u001b[0m 4ms/step - loss: 486.6255 - mae: 486.6841 - val_loss: 428.8761 - val_mae: 428.8843\n",
      "Epoch 68/100\n",
      "\u001b[1m23/23\u001b[0m \u001b[32m━━━━━━━━━━━━━━━━━━━━\u001b[0m\u001b[37m\u001b[0m \u001b[1m0s\u001b[0m 4ms/step - loss: 421.2067 - mae: 421.1975 - val_loss: 421.8247 - val_mae: 427.2827\n",
      "Epoch 69/100\n",
      "\u001b[1m23/23\u001b[0m \u001b[32m━━━━━━━━━━━━━━━━━━━━\u001b[0m\u001b[37m\u001b[0m \u001b[1m0s\u001b[0m 4ms/step - loss: 439.5128 - mae: 439.5550 - val_loss: 590.7676 - val_mae: 578.7367\n",
      "Epoch 70/100\n",
      "\u001b[1m23/23\u001b[0m \u001b[32m━━━━━━━━━━━━━━━━━━━━\u001b[0m\u001b[37m\u001b[0m \u001b[1m0s\u001b[0m 4ms/step - loss: 434.6083 - mae: 434.4869 - val_loss: 446.6225 - val_mae: 444.2404\n",
      "Epoch 71/100\n",
      "\u001b[1m23/23\u001b[0m \u001b[32m━━━━━━━━━━━━━━━━━━━━\u001b[0m\u001b[37m\u001b[0m \u001b[1m0s\u001b[0m 5ms/step - loss: 423.3844 - mae: 423.0882 - val_loss: 414.3240 - val_mae: 416.9484\n",
      "Epoch 72/100\n",
      "\u001b[1m23/23\u001b[0m \u001b[32m━━━━━━━━━━━━━━━━━━━━\u001b[0m\u001b[37m\u001b[0m \u001b[1m0s\u001b[0m 5ms/step - loss: 419.5863 - mae: 419.4915 - val_loss: 464.3136 - val_mae: 459.9391\n",
      "Epoch 73/100\n",
      "\u001b[1m23/23\u001b[0m \u001b[32m━━━━━━━━━━━━━━━━━━━━\u001b[0m\u001b[37m\u001b[0m \u001b[1m0s\u001b[0m 4ms/step - loss: 447.0195 - mae: 447.1930 - val_loss: 413.4829 - val_mae: 415.2125\n",
      "Epoch 74/100\n",
      "\u001b[1m23/23\u001b[0m \u001b[32m━━━━━━━━━━━━━━━━━━━━\u001b[0m\u001b[37m\u001b[0m \u001b[1m0s\u001b[0m 5ms/step - loss: 449.5128 - mae: 449.6714 - val_loss: 709.6777 - val_mae: 693.1012\n",
      "Epoch 75/100\n",
      "\u001b[1m23/23\u001b[0m \u001b[32m━━━━━━━━━━━━━━━━━━━━\u001b[0m\u001b[37m\u001b[0m \u001b[1m0s\u001b[0m 5ms/step - loss: 516.6638 - mae: 516.8845 - val_loss: 501.5095 - val_mae: 507.3793\n",
      "Epoch 76/100\n",
      "\u001b[1m23/23\u001b[0m \u001b[32m━━━━━━━━━━━━━━━━━━━━\u001b[0m\u001b[37m\u001b[0m \u001b[1m0s\u001b[0m 5ms/step - loss: 431.9470 - mae: 431.9056 - val_loss: 410.1175 - val_mae: 412.4595\n",
      "Epoch 77/100\n",
      "\u001b[1m23/23\u001b[0m \u001b[32m━━━━━━━━━━━━━━━━━━━━\u001b[0m\u001b[37m\u001b[0m \u001b[1m0s\u001b[0m 5ms/step - loss: 463.9699 - mae: 463.8184 - val_loss: 429.2158 - val_mae: 435.2870\n",
      "Epoch 78/100\n",
      "\u001b[1m23/23\u001b[0m \u001b[32m━━━━━━━━━━━━━━━━━━━━\u001b[0m\u001b[37m\u001b[0m \u001b[1m0s\u001b[0m 5ms/step - loss: 486.1717 - mae: 486.2075 - val_loss: 537.3187 - val_mae: 547.7375\n",
      "Epoch 79/100\n",
      "\u001b[1m23/23\u001b[0m \u001b[32m━━━━━━━━━━━━━━━━━━━━\u001b[0m\u001b[37m\u001b[0m \u001b[1m0s\u001b[0m 3ms/step - loss: 412.1194 - mae: 411.9206 - val_loss: 418.4455 - val_mae: 423.8902\n",
      "Epoch 80/100\n",
      "\u001b[1m23/23\u001b[0m \u001b[32m━━━━━━━━━━━━━━━━━━━━\u001b[0m\u001b[37m\u001b[0m \u001b[1m0s\u001b[0m 4ms/step - loss: 404.5627 - mae: 404.5811 - val_loss: 571.6487 - val_mae: 561.4305\n",
      "Epoch 81/100\n",
      "\u001b[1m23/23\u001b[0m \u001b[32m━━━━━━━━━━━━━━━━━━━━\u001b[0m\u001b[37m\u001b[0m \u001b[1m0s\u001b[0m 5ms/step - loss: 423.8864 - mae: 423.9785 - val_loss: 757.4460 - val_mae: 740.0796\n",
      "Epoch 82/100\n",
      "\u001b[1m23/23\u001b[0m \u001b[32m━━━━━━━━━━━━━━━━━━━━\u001b[0m\u001b[37m\u001b[0m \u001b[1m0s\u001b[0m 6ms/step - loss: 477.8688 - mae: 477.7188 - val_loss: 429.7036 - val_mae: 435.4904\n",
      "Epoch 83/100\n",
      "\u001b[1m23/23\u001b[0m \u001b[32m━━━━━━━━━━━━━━━━━━━━\u001b[0m\u001b[37m\u001b[0m \u001b[1m0s\u001b[0m 5ms/step - loss: 433.6132 - mae: 433.6690 - val_loss: 550.6649 - val_mae: 542.8873\n",
      "Epoch 84/100\n",
      "\u001b[1m23/23\u001b[0m \u001b[32m━━━━━━━━━━━━━━━━━━━━\u001b[0m\u001b[37m\u001b[0m \u001b[1m0s\u001b[0m 5ms/step - loss: 421.5117 - mae: 421.5273 - val_loss: 440.0196 - val_mae: 437.9985\n",
      "Epoch 85/100\n",
      "\u001b[1m23/23\u001b[0m \u001b[32m━━━━━━━━━━━━━━━━━━━━\u001b[0m\u001b[37m\u001b[0m \u001b[1m0s\u001b[0m 4ms/step - loss: 400.5704 - mae: 400.3516 - val_loss: 1586.2906 - val_mae: 1554.2004\n",
      "Epoch 86/100\n",
      "\u001b[1m23/23\u001b[0m \u001b[32m━━━━━━━━━━━━━━━━━━━━\u001b[0m\u001b[37m\u001b[0m \u001b[1m0s\u001b[0m 6ms/step - loss: 522.2720 - mae: 522.0667 - val_loss: 824.1787 - val_mae: 806.0565\n",
      "Epoch 87/100\n",
      "\u001b[1m23/23\u001b[0m \u001b[32m━━━━━━━━━━━━━━━━━━━━\u001b[0m\u001b[37m\u001b[0m \u001b[1m0s\u001b[0m 4ms/step - loss: 430.9775 - mae: 430.8905 - val_loss: 412.6730 - val_mae: 414.0784\n",
      "Epoch 88/100\n",
      "\u001b[1m23/23\u001b[0m \u001b[32m━━━━━━━━━━━━━━━━━━━━\u001b[0m\u001b[37m\u001b[0m \u001b[1m0s\u001b[0m 5ms/step - loss: 388.5137 - mae: 388.6071 - val_loss: 495.9630 - val_mae: 490.7167\n",
      "Epoch 89/100\n",
      "\u001b[1m23/23\u001b[0m \u001b[32m━━━━━━━━━━━━━━━━━━━━\u001b[0m\u001b[37m\u001b[0m \u001b[1m0s\u001b[0m 3ms/step - loss: 417.9885 - mae: 418.1483 - val_loss: 709.6382 - val_mae: 695.7115\n",
      "Epoch 90/100\n",
      "\u001b[1m23/23\u001b[0m \u001b[32m━━━━━━━━━━━━━━━━━━━━\u001b[0m\u001b[37m\u001b[0m \u001b[1m0s\u001b[0m 6ms/step - loss: 424.2168 - mae: 424.2124 - val_loss: 463.2167 - val_mae: 467.2129\n",
      "Epoch 91/100\n",
      "\u001b[1m23/23\u001b[0m \u001b[32m━━━━━━━━━━━━━━━━━━━━\u001b[0m\u001b[37m\u001b[0m \u001b[1m0s\u001b[0m 4ms/step - loss: 424.6357 - mae: 424.1611 - val_loss: 506.5269 - val_mae: 512.6319\n",
      "Epoch 92/100\n",
      "\u001b[1m23/23\u001b[0m \u001b[32m━━━━━━━━━━━━━━━━━━━━\u001b[0m\u001b[37m\u001b[0m \u001b[1m0s\u001b[0m 4ms/step - loss: 483.8957 - mae: 483.9139 - val_loss: 717.2263 - val_mae: 701.5617\n",
      "Epoch 93/100\n",
      "\u001b[1m23/23\u001b[0m \u001b[32m━━━━━━━━━━━━━━━━━━━━\u001b[0m\u001b[37m\u001b[0m \u001b[1m0s\u001b[0m 5ms/step - loss: 491.4567 - mae: 491.4451 - val_loss: 636.3044 - val_mae: 642.4759\n",
      "Epoch 94/100\n",
      "\u001b[1m23/23\u001b[0m \u001b[32m━━━━━━━━━━━━━━━━━━━━\u001b[0m\u001b[37m\u001b[0m \u001b[1m0s\u001b[0m 6ms/step - loss: 428.1840 - mae: 428.3748 - val_loss: 440.6273 - val_mae: 438.0923\n",
      "Epoch 95/100\n",
      "\u001b[1m23/23\u001b[0m \u001b[32m━━━━━━━━━━━━━━━━━━━━\u001b[0m\u001b[37m\u001b[0m \u001b[1m0s\u001b[0m 5ms/step - loss: 425.1551 - mae: 425.1110 - val_loss: 884.4930 - val_mae: 888.9781\n",
      "Epoch 96/100\n",
      "\u001b[1m23/23\u001b[0m \u001b[32m━━━━━━━━━━━━━━━━━━━━\u001b[0m\u001b[37m\u001b[0m \u001b[1m0s\u001b[0m 5ms/step - loss: 443.0133 - mae: 442.8700 - val_loss: 657.0031 - val_mae: 643.9378\n",
      "Epoch 97/100\n",
      "\u001b[1m23/23\u001b[0m \u001b[32m━━━━━━━━━━━━━━━━━━━━\u001b[0m\u001b[37m\u001b[0m \u001b[1m0s\u001b[0m 4ms/step - loss: 414.6981 - mae: 414.3779 - val_loss: 421.1121 - val_mae: 426.4628\n",
      "Epoch 98/100\n",
      "\u001b[1m23/23\u001b[0m \u001b[32m━━━━━━━━━━━━━━━━━━━━\u001b[0m\u001b[37m\u001b[0m \u001b[1m0s\u001b[0m 6ms/step - loss: 401.9021 - mae: 401.8700 - val_loss: 424.2183 - val_mae: 430.8713\n",
      "Epoch 99/100\n",
      "\u001b[1m23/23\u001b[0m \u001b[32m━━━━━━━━━━━━━━━━━━━━\u001b[0m\u001b[37m\u001b[0m \u001b[1m0s\u001b[0m 8ms/step - loss: 430.5325 - mae: 430.2893 - val_loss: 570.4758 - val_mae: 561.1506\n",
      "Epoch 100/100\n",
      "\u001b[1m23/23\u001b[0m \u001b[32m━━━━━━━━━━━━━━━━━━━━\u001b[0m\u001b[37m\u001b[0m \u001b[1m0s\u001b[0m 6ms/step - loss: 450.4259 - mae: 450.2289 - val_loss: 979.3354 - val_mae: 955.4671\n"
     ]
    },
    {
     "data": {
      "text/plain": [
       "<keras.src.callbacks.history.History at 0x245094d3310>"
      ]
     },
     "execution_count": 34,
     "metadata": {},
     "output_type": "execute_result"
    }
   ],
   "source": [
    "model_2.fit(train_windows_30, train_labels_30, epochs=100, batch_size=128, validation_data=(test_windows_30, test_labels_30))"
   ]
  },
  {
   "cell_type": "code",
   "execution_count": 35,
   "metadata": {
    "colab": {
     "base_uri": "https://localhost:8080/"
    },
    "id": "yhLDtc0cf_cc",
    "outputId": "4a0289b2-814a-4665-9396-010c8efb881d"
   },
   "outputs": [
    {
     "name": "stdout",
     "output_type": "stream",
     "text": [
      "\u001b[1m11/11\u001b[0m \u001b[32m━━━━━━━━━━━━━━━━━━━━\u001b[0m\u001b[37m\u001b[0m \u001b[1m0s\u001b[0m 2ms/step - loss: 872.6536 - mae: 858.7596 \n"
     ]
    },
    {
     "data": {
      "text/plain": [
       "[1038.830810546875, 955.4669799804688]"
      ]
     },
     "execution_count": 35,
     "metadata": {},
     "output_type": "execute_result"
    }
   ],
   "source": [
    "model_2.evaluate(test_windows_30, test_labels_30)"
   ]
  },
  {
   "cell_type": "markdown",
   "metadata": {
    "id": "TCQVTTO8qkC_"
   },
   "source": [
    "## 1D CNN (Conv1D)"
   ]
  },
  {
   "cell_type": "code",
   "execution_count": 36,
   "metadata": {
    "id": "ehGDz_v0p-lF"
   },
   "outputs": [],
   "source": [
    "HORIZON = 1\n",
    "WINDOW_SIZE = 14"
   ]
  },
  {
   "cell_type": "code",
   "execution_count": 37,
   "metadata": {
    "id": "BWNLVxxsrO3-"
   },
   "outputs": [],
   "source": [
    "windows, labels = create_windowed_dataset(y_train, horizon=1, window=14)"
   ]
  },
  {
   "cell_type": "code",
   "execution_count": 38,
   "metadata": {
    "id": "gwrhfxURrYbE"
   },
   "outputs": [],
   "source": [
    "train_windows, test_windows, train_labels, test_labels = window_train_test_split(windows=windows, labels=labels)"
   ]
  },
  {
   "cell_type": "code",
   "execution_count": 39,
   "metadata": {
    "colab": {
     "base_uri": "https://localhost:8080/"
    },
    "id": "AcF5kLB4r3X5",
    "outputId": "053961a1-5826-4113-db08-42dd970c41af"
   },
   "outputs": [
    {
     "data": {
      "text/plain": [
       "2906"
      ]
     },
     "execution_count": 39,
     "metadata": {},
     "output_type": "execute_result"
    }
   ],
   "source": [
    "len(train_windows)"
   ]
  },
  {
   "cell_type": "code",
   "execution_count": 40,
   "metadata": {
    "colab": {
     "base_uri": "https://localhost:8080/"
    },
    "id": "4F674dYSrqJi",
    "outputId": "db6a8fa3-064b-45c5-f08c-f9f8d5adc0e8"
   },
   "outputs": [
    {
     "data": {
      "text/plain": [
       "(14,)"
      ]
     },
     "execution_count": 40,
     "metadata": {},
     "output_type": "execute_result"
    }
   ],
   "source": [
    "train_windows[0].shape"
   ]
  },
  {
   "cell_type": "markdown",
   "metadata": {
    "id": "3HIBnr5StFUO"
   },
   "source": [
    "Conv1D needs an extra dimension as input, therefor we need to maniuplate the dimensions\n",
    "\n",
    "> we'll do it via lambda layer"
   ]
  },
  {
   "cell_type": "code",
   "execution_count": 41,
   "metadata": {
    "colab": {
     "base_uri": "https://localhost:8080/"
    },
    "id": "WgPh5POWrm-E",
    "outputId": "76d345f8-0fb1-4620-de99-ba4692c08d8f"
   },
   "outputs": [
    {
     "data": {
      "text/plain": [
       "<tf.Tensor: shape=(14,), dtype=float64, numpy=\n",
       "array([352.218994, 346.36499 , 350.506012, 352.541992, 347.376007,\n",
       "       351.631989, 345.345001, 327.062012, 319.776001, 311.395996,\n",
       "       317.842987, 329.955994, 320.842987, 331.885986])>"
      ]
     },
     "execution_count": 41,
     "metadata": {},
     "output_type": "execute_result"
    }
   ],
   "source": [
    "x = tf.constant(train_windows[0])\n",
    "x"
   ]
  },
  {
   "cell_type": "code",
   "execution_count": 42,
   "metadata": {
    "id": "KzvzH_-bt7Hy"
   },
   "outputs": [],
   "source": [
    "expand_dim_layer = tf.keras.layers.Lambda(lambda x: tf.expand_dims(x, axis=1))"
   ]
  },
  {
   "cell_type": "code",
   "execution_count": 43,
   "metadata": {
    "colab": {
     "base_uri": "https://localhost:8080/"
    },
    "id": "M3YMXIfeuLpW",
    "outputId": "5b20dd89-ea7f-46e7-9a63-02412609631f"
   },
   "outputs": [
    {
     "data": {
      "text/plain": [
       "TensorShape([14, 1])"
      ]
     },
     "execution_count": 43,
     "metadata": {},
     "output_type": "execute_result"
    }
   ],
   "source": [
    "expand_dim_layer(x).shape"
   ]
  },
  {
   "cell_type": "code",
   "execution_count": 44,
   "metadata": {
    "colab": {
     "base_uri": "https://localhost:8080/"
    },
    "id": "xDIOS8qRuOe7",
    "outputId": "f482ce81-7e6d-4e5a-d3c9-44be315a9243"
   },
   "outputs": [
    {
     "data": {
      "text/plain": [
       "<tf.Tensor: shape=(14, 1), dtype=float32, numpy=\n",
       "array([[352.219],\n",
       "       [346.365],\n",
       "       [350.506],\n",
       "       [352.542],\n",
       "       [347.376],\n",
       "       [351.632],\n",
       "       [345.345],\n",
       "       [327.062],\n",
       "       [319.776],\n",
       "       [311.396],\n",
       "       [317.843],\n",
       "       [329.956],\n",
       "       [320.843],\n",
       "       [331.886]], dtype=float32)>"
      ]
     },
     "execution_count": 44,
     "metadata": {},
     "output_type": "execute_result"
    }
   ],
   "source": [
    "expand_dim_layer(x)"
   ]
  },
  {
   "cell_type": "code",
   "execution_count": 46,
   "metadata": {
    "id": "fQJ623kfuVwh"
   },
   "outputs": [],
   "source": [
    "inputs = tf.keras.layers.Input(shape=train_windows[0].shape, batch_size=128)\n",
    "\n",
    "x = expand_dim_layer(inputs) # this layer we defined it above\n",
    "x = tf.keras.layers.Conv1D(filters=128, kernel_size=3, strides=1, padding='causal')(x) #causal for timeseries\n",
    "outputs = tf.keras.layers.Dense(units=HORIZON, activation=tf.keras.activations.linear)(x)\n",
    "\n",
    "model_3 = tf.keras.Model(inputs, outputs)"
   ]
  },
  {
   "cell_type": "code",
   "execution_count": 47,
   "metadata": {
    "id": "Q13deSh9wOCA"
   },
   "outputs": [],
   "source": [
    "model_3.compile(loss=tf.keras.losses.MAE,\n",
    "                optimizer=tf.keras.optimizers.Adam(),\n",
    "                metrics=['mae'])"
   ]
  },
  {
   "cell_type": "code",
   "execution_count": 48,
   "metadata": {
    "colab": {
     "base_uri": "https://localhost:8080/"
    },
    "id": "KSdU3m9kwvec",
    "outputId": "ebaedb24-6702-4206-828e-84599f2061a4",
    "scrolled": true
   },
   "outputs": [
    {
     "name": "stdout",
     "output_type": "stream",
     "text": [
      "Epoch 1/100\n",
      "\u001b[1m23/23\u001b[0m \u001b[32m━━━━━━━━━━━━━━━━━━━━\u001b[0m\u001b[37m\u001b[0m \u001b[1m2s\u001b[0m 13ms/step - loss: 8850.4404 - mae: 8853.9883 - val_loss: 2308.5173 - val_mae: 2293.9419\n",
      "Epoch 2/100\n",
      "\u001b[1m23/23\u001b[0m \u001b[32m━━━━━━━━━━━━━━━━━━━━\u001b[0m\u001b[37m\u001b[0m \u001b[1m0s\u001b[0m 4ms/step - loss: 1388.3662 - mae: 1388.7166 - val_loss: 1140.3859 - val_mae: 1139.5309\n",
      "Epoch 3/100\n",
      "\u001b[1m23/23\u001b[0m \u001b[32m━━━━━━━━━━━━━━━━━━━━\u001b[0m\u001b[37m\u001b[0m \u001b[1m0s\u001b[0m 5ms/step - loss: 976.9211 - mae: 977.0814 - val_loss: 1003.7879 - val_mae: 1006.3533\n",
      "Epoch 4/100\n",
      "\u001b[1m23/23\u001b[0m \u001b[32m━━━━━━━━━━━━━━━━━━━━\u001b[0m\u001b[37m\u001b[0m \u001b[1m0s\u001b[0m 4ms/step - loss: 835.7485 - mae: 835.5319 - val_loss: 1037.2350 - val_mae: 1045.0312\n",
      "Epoch 5/100\n",
      "\u001b[1m23/23\u001b[0m \u001b[32m━━━━━━━━━━━━━━━━━━━━\u001b[0m\u001b[37m\u001b[0m \u001b[1m0s\u001b[0m 4ms/step - loss: 826.0972 - mae: 826.2773 - val_loss: 864.3325 - val_mae: 857.2183\n",
      "Epoch 6/100\n",
      "\u001b[1m23/23\u001b[0m \u001b[32m━━━━━━━━━━━━━━━━━━━━\u001b[0m\u001b[37m\u001b[0m \u001b[1m0s\u001b[0m 9ms/step - loss: 698.3510 - mae: 698.3592 - val_loss: 736.8777 - val_mae: 731.2942\n",
      "Epoch 7/100\n",
      "\u001b[1m23/23\u001b[0m \u001b[32m━━━━━━━━━━━━━━━━━━━━\u001b[0m\u001b[37m\u001b[0m \u001b[1m0s\u001b[0m 7ms/step - loss: 615.7493 - mae: 615.6760 - val_loss: 783.8669 - val_mae: 789.6265\n",
      "Epoch 8/100\n",
      "\u001b[1m23/23\u001b[0m \u001b[32m━━━━━━━━━━━━━━━━━━━━\u001b[0m\u001b[37m\u001b[0m \u001b[1m0s\u001b[0m 6ms/step - loss: 594.5355 - mae: 594.4392 - val_loss: 834.2315 - val_mae: 820.0164\n",
      "Epoch 9/100\n",
      "\u001b[1m23/23\u001b[0m \u001b[32m━━━━━━━━━━━━━━━━━━━━\u001b[0m\u001b[37m\u001b[0m \u001b[1m0s\u001b[0m 4ms/step - loss: 553.9227 - mae: 553.9576 - val_loss: 832.8554 - val_mae: 846.0058\n",
      "Epoch 10/100\n",
      "\u001b[1m23/23\u001b[0m \u001b[32m━━━━━━━━━━━━━━━━━━━━\u001b[0m\u001b[37m\u001b[0m \u001b[1m0s\u001b[0m 5ms/step - loss: 583.2394 - mae: 583.3718 - val_loss: 598.8073 - val_mae: 592.0498\n",
      "Epoch 11/100\n",
      "\u001b[1m23/23\u001b[0m \u001b[32m━━━━━━━━━━━━━━━━━━━━\u001b[0m\u001b[37m\u001b[0m \u001b[1m0s\u001b[0m 4ms/step - loss: 542.6028 - mae: 542.4556 - val_loss: 673.7385 - val_mae: 661.6602\n",
      "Epoch 12/100\n",
      "\u001b[1m23/23\u001b[0m \u001b[32m━━━━━━━━━━━━━━━━━━━━\u001b[0m\u001b[37m\u001b[0m \u001b[1m0s\u001b[0m 7ms/step - loss: 552.9133 - mae: 552.8011 - val_loss: 536.5903 - val_mae: 535.2555\n",
      "Epoch 13/100\n",
      "\u001b[1m23/23\u001b[0m \u001b[32m━━━━━━━━━━━━━━━━━━━━\u001b[0m\u001b[37m\u001b[0m \u001b[1m0s\u001b[0m 6ms/step - loss: 547.6317 - mae: 547.5142 - val_loss: 556.0223 - val_mae: 548.4020\n",
      "Epoch 14/100\n",
      "\u001b[1m23/23\u001b[0m \u001b[32m━━━━━━━━━━━━━━━━━━━━\u001b[0m\u001b[37m\u001b[0m \u001b[1m0s\u001b[0m 9ms/step - loss: 545.3262 - mae: 545.4492 - val_loss: 506.0101 - val_mae: 504.1274\n",
      "Epoch 15/100\n",
      "\u001b[1m23/23\u001b[0m \u001b[32m━━━━━━━━━━━━━━━━━━━━\u001b[0m\u001b[37m\u001b[0m \u001b[1m0s\u001b[0m 5ms/step - loss: 514.3010 - mae: 514.3686 - val_loss: 899.6709 - val_mae: 911.0624\n",
      "Epoch 16/100\n",
      "\u001b[1m23/23\u001b[0m \u001b[32m━━━━━━━━━━━━━━━━━━━━\u001b[0m\u001b[37m\u001b[0m \u001b[1m0s\u001b[0m 6ms/step - loss: 521.2355 - mae: 521.1936 - val_loss: 484.5512 - val_mae: 480.8916\n",
      "Epoch 17/100\n",
      "\u001b[1m23/23\u001b[0m \u001b[32m━━━━━━━━━━━━━━━━━━━━\u001b[0m\u001b[37m\u001b[0m \u001b[1m0s\u001b[0m 6ms/step - loss: 473.6961 - mae: 473.8122 - val_loss: 516.1818 - val_mae: 508.8477\n",
      "Epoch 18/100\n",
      "\u001b[1m23/23\u001b[0m \u001b[32m━━━━━━━━━━━━━━━━━━━━\u001b[0m\u001b[37m\u001b[0m \u001b[1m0s\u001b[0m 4ms/step - loss: 483.7921 - mae: 483.9180 - val_loss: 639.1429 - val_mae: 626.8253\n",
      "Epoch 19/100\n",
      "\u001b[1m23/23\u001b[0m \u001b[32m━━━━━━━━━━━━━━━━━━━━\u001b[0m\u001b[37m\u001b[0m \u001b[1m0s\u001b[0m 4ms/step - loss: 476.2279 - mae: 476.2832 - val_loss: 687.8317 - val_mae: 673.0817\n",
      "Epoch 20/100\n",
      "\u001b[1m23/23\u001b[0m \u001b[32m━━━━━━━━━━━━━━━━━━━━\u001b[0m\u001b[37m\u001b[0m \u001b[1m0s\u001b[0m 4ms/step - loss: 495.1546 - mae: 495.2892 - val_loss: 454.3887 - val_mae: 452.4333\n",
      "Epoch 21/100\n",
      "\u001b[1m23/23\u001b[0m \u001b[32m━━━━━━━━━━━━━━━━━━━━\u001b[0m\u001b[37m\u001b[0m \u001b[1m0s\u001b[0m 4ms/step - loss: 522.7247 - mae: 522.7999 - val_loss: 531.7114 - val_mae: 536.7830\n",
      "Epoch 22/100\n",
      "\u001b[1m23/23\u001b[0m \u001b[32m━━━━━━━━━━━━━━━━━━━━\u001b[0m\u001b[37m\u001b[0m \u001b[1m0s\u001b[0m 4ms/step - loss: 461.2721 - mae: 461.2752 - val_loss: 707.9072 - val_mae: 693.2437\n",
      "Epoch 23/100\n",
      "\u001b[1m23/23\u001b[0m \u001b[32m━━━━━━━━━━━━━━━━━━━━\u001b[0m\u001b[37m\u001b[0m \u001b[1m0s\u001b[0m 5ms/step - loss: 485.5008 - mae: 485.4468 - val_loss: 627.4942 - val_mae: 615.8622\n",
      "Epoch 24/100\n",
      "\u001b[1m23/23\u001b[0m \u001b[32m━━━━━━━━━━━━━━━━━━━━\u001b[0m\u001b[37m\u001b[0m \u001b[1m0s\u001b[0m 4ms/step - loss: 460.3019 - mae: 460.2977 - val_loss: 916.1020 - val_mae: 894.3611\n",
      "Epoch 25/100\n",
      "\u001b[1m23/23\u001b[0m \u001b[32m━━━━━━━━━━━━━━━━━━━━\u001b[0m\u001b[37m\u001b[0m \u001b[1m0s\u001b[0m 6ms/step - loss: 517.9564 - mae: 518.0823 - val_loss: 634.3170 - val_mae: 622.2268\n",
      "Epoch 26/100\n",
      "\u001b[1m23/23\u001b[0m \u001b[32m━━━━━━━━━━━━━━━━━━━━\u001b[0m\u001b[37m\u001b[0m \u001b[1m0s\u001b[0m 13ms/step - loss: 450.9514 - mae: 451.0714 - val_loss: 450.8848 - val_mae: 453.6354\n",
      "Epoch 27/100\n",
      "\u001b[1m23/23\u001b[0m \u001b[32m━━━━━━━━━━━━━━━━━━━━\u001b[0m\u001b[37m\u001b[0m \u001b[1m0s\u001b[0m 4ms/step - loss: 435.9858 - mae: 436.0335 - val_loss: 523.5536 - val_mae: 516.6309\n",
      "Epoch 28/100\n",
      "\u001b[1m23/23\u001b[0m \u001b[32m━━━━━━━━━━━━━━━━━━━━\u001b[0m\u001b[37m\u001b[0m \u001b[1m0s\u001b[0m 4ms/step - loss: 414.4272 - mae: 414.4020 - val_loss: 574.0256 - val_mae: 579.4608\n",
      "Epoch 29/100\n",
      "\u001b[1m23/23\u001b[0m \u001b[32m━━━━━━━━━━━━━━━━━━━━\u001b[0m\u001b[37m\u001b[0m \u001b[1m0s\u001b[0m 5ms/step - loss: 398.7281 - mae: 398.6742 - val_loss: 426.0359 - val_mae: 426.1966\n",
      "Epoch 30/100\n",
      "\u001b[1m23/23\u001b[0m \u001b[32m━━━━━━━━━━━━━━━━━━━━\u001b[0m\u001b[37m\u001b[0m \u001b[1m0s\u001b[0m 5ms/step - loss: 494.0925 - mae: 494.2896 - val_loss: 1071.7832 - val_mae: 1077.6276\n",
      "Epoch 31/100\n",
      "\u001b[1m23/23\u001b[0m \u001b[32m━━━━━━━━━━━━━━━━━━━━\u001b[0m\u001b[37m\u001b[0m \u001b[1m0s\u001b[0m 4ms/step - loss: 543.0609 - mae: 543.0024 - val_loss: 592.1448 - val_mae: 582.3733\n",
      "Epoch 32/100\n",
      "\u001b[1m23/23\u001b[0m \u001b[32m━━━━━━━━━━━━━━━━━━━━\u001b[0m\u001b[37m\u001b[0m \u001b[1m0s\u001b[0m 5ms/step - loss: 488.4924 - mae: 488.5901 - val_loss: 1216.5935 - val_mae: 1191.7003\n",
      "Epoch 33/100\n",
      "\u001b[1m23/23\u001b[0m \u001b[32m━━━━━━━━━━━━━━━━━━━━\u001b[0m\u001b[37m\u001b[0m \u001b[1m0s\u001b[0m 5ms/step - loss: 534.7311 - mae: 534.7885 - val_loss: 679.7834 - val_mae: 667.0176\n",
      "Epoch 34/100\n",
      "\u001b[1m23/23\u001b[0m \u001b[32m━━━━━━━━━━━━━━━━━━━━\u001b[0m\u001b[37m\u001b[0m \u001b[1m0s\u001b[0m 5ms/step - loss: 432.9470 - mae: 432.8248 - val_loss: 753.3325 - val_mae: 738.3436\n",
      "Epoch 35/100\n",
      "\u001b[1m23/23\u001b[0m \u001b[32m━━━━━━━━━━━━━━━━━━━━\u001b[0m\u001b[37m\u001b[0m \u001b[1m0s\u001b[0m 5ms/step - loss: 513.2628 - mae: 513.3717 - val_loss: 777.6253 - val_mae: 761.8320\n",
      "Epoch 36/100\n",
      "\u001b[1m23/23\u001b[0m \u001b[32m━━━━━━━━━━━━━━━━━━━━\u001b[0m\u001b[37m\u001b[0m \u001b[1m0s\u001b[0m 5ms/step - loss: 427.1965 - mae: 427.2543 - val_loss: 557.6867 - val_mae: 562.8088\n",
      "Epoch 37/100\n",
      "\u001b[1m23/23\u001b[0m \u001b[32m━━━━━━━━━━━━━━━━━━━━\u001b[0m\u001b[37m\u001b[0m \u001b[1m0s\u001b[0m 5ms/step - loss: 423.2452 - mae: 423.1991 - val_loss: 464.4354 - val_mae: 461.0775\n",
      "Epoch 38/100\n",
      "\u001b[1m23/23\u001b[0m \u001b[32m━━━━━━━━━━━━━━━━━━━━\u001b[0m\u001b[37m\u001b[0m \u001b[1m0s\u001b[0m 5ms/step - loss: 443.7894 - mae: 443.8430 - val_loss: 409.3443 - val_mae: 408.7778\n",
      "Epoch 39/100\n",
      "\u001b[1m23/23\u001b[0m \u001b[32m━━━━━━━━━━━━━━━━━━━━\u001b[0m\u001b[37m\u001b[0m \u001b[1m0s\u001b[0m 5ms/step - loss: 396.6052 - mae: 396.6240 - val_loss: 405.8063 - val_mae: 405.6422\n",
      "Epoch 40/100\n",
      "\u001b[1m23/23\u001b[0m \u001b[32m━━━━━━━━━━━━━━━━━━━━\u001b[0m\u001b[37m\u001b[0m \u001b[1m0s\u001b[0m 4ms/step - loss: 409.1653 - mae: 409.2226 - val_loss: 502.1406 - val_mae: 497.4536\n",
      "Epoch 41/100\n",
      "\u001b[1m23/23\u001b[0m \u001b[32m━━━━━━━━━━━━━━━━━━━━\u001b[0m\u001b[37m\u001b[0m \u001b[1m0s\u001b[0m 5ms/step - loss: 396.1802 - mae: 396.0488 - val_loss: 474.4980 - val_mae: 471.1924\n",
      "Epoch 42/100\n",
      "\u001b[1m23/23\u001b[0m \u001b[32m━━━━━━━━━━━━━━━━━━━━\u001b[0m\u001b[37m\u001b[0m \u001b[1m0s\u001b[0m 4ms/step - loss: 432.2733 - mae: 432.2956 - val_loss: 473.9802 - val_mae: 478.2751\n",
      "Epoch 43/100\n",
      "\u001b[1m23/23\u001b[0m \u001b[32m━━━━━━━━━━━━━━━━━━━━\u001b[0m\u001b[37m\u001b[0m \u001b[1m0s\u001b[0m 4ms/step - loss: 416.9352 - mae: 417.0378 - val_loss: 575.9599 - val_mae: 567.3019\n",
      "Epoch 44/100\n",
      "\u001b[1m23/23\u001b[0m \u001b[32m━━━━━━━━━━━━━━━━━━━━\u001b[0m\u001b[37m\u001b[0m \u001b[1m0s\u001b[0m 4ms/step - loss: 433.5078 - mae: 433.3077 - val_loss: 905.1387 - val_mae: 886.4089\n",
      "Epoch 45/100\n",
      "\u001b[1m23/23\u001b[0m \u001b[32m━━━━━━━━━━━━━━━━━━━━\u001b[0m\u001b[37m\u001b[0m \u001b[1m0s\u001b[0m 4ms/step - loss: 548.9857 - mae: 548.7998 - val_loss: 1472.0122 - val_mae: 1445.7411\n",
      "Epoch 46/100\n",
      "\u001b[1m23/23\u001b[0m \u001b[32m━━━━━━━━━━━━━━━━━━━━\u001b[0m\u001b[37m\u001b[0m \u001b[1m0s\u001b[0m 4ms/step - loss: 564.2855 - mae: 564.3807 - val_loss: 761.3297 - val_mae: 746.9262\n",
      "Epoch 47/100\n",
      "\u001b[1m23/23\u001b[0m \u001b[32m━━━━━━━━━━━━━━━━━━━━\u001b[0m\u001b[37m\u001b[0m \u001b[1m0s\u001b[0m 4ms/step - loss: 421.7486 - mae: 421.8742 - val_loss: 737.5259 - val_mae: 741.8785\n",
      "Epoch 48/100\n",
      "\u001b[1m23/23\u001b[0m \u001b[32m━━━━━━━━━━━━━━━━━━━━\u001b[0m\u001b[37m\u001b[0m \u001b[1m0s\u001b[0m 6ms/step - loss: 434.0547 - mae: 433.9438 - val_loss: 456.3701 - val_mae: 460.8870\n",
      "Epoch 49/100\n",
      "\u001b[1m23/23\u001b[0m \u001b[32m━━━━━━━━━━━━━━━━━━━━\u001b[0m\u001b[37m\u001b[0m \u001b[1m0s\u001b[0m 5ms/step - loss: 435.0480 - mae: 435.1341 - val_loss: 684.3782 - val_mae: 690.1848\n",
      "Epoch 50/100\n",
      "\u001b[1m23/23\u001b[0m \u001b[32m━━━━━━━━━━━━━━━━━━━━\u001b[0m\u001b[37m\u001b[0m \u001b[1m0s\u001b[0m 4ms/step - loss: 466.8740 - mae: 466.8656 - val_loss: 650.9918 - val_mae: 655.6827\n",
      "Epoch 51/100\n",
      "\u001b[1m23/23\u001b[0m \u001b[32m━━━━━━━━━━━━━━━━━━━━\u001b[0m\u001b[37m\u001b[0m \u001b[1m0s\u001b[0m 5ms/step - loss: 467.1956 - mae: 467.2603 - val_loss: 635.3987 - val_mae: 640.5369\n",
      "Epoch 52/100\n",
      "\u001b[1m23/23\u001b[0m \u001b[32m━━━━━━━━━━━━━━━━━━━━\u001b[0m\u001b[37m\u001b[0m \u001b[1m0s\u001b[0m 5ms/step - loss: 444.0668 - mae: 444.0008 - val_loss: 415.1385 - val_mae: 419.1459\n",
      "Epoch 53/100\n",
      "\u001b[1m23/23\u001b[0m \u001b[32m━━━━━━━━━━━━━━━━━━━━\u001b[0m\u001b[37m\u001b[0m \u001b[1m0s\u001b[0m 5ms/step - loss: 439.3367 - mae: 439.3030 - val_loss: 455.1866 - val_mae: 460.1134\n",
      "Epoch 54/100\n",
      "\u001b[1m23/23\u001b[0m \u001b[32m━━━━━━━━━━━━━━━━━━━━\u001b[0m\u001b[37m\u001b[0m \u001b[1m0s\u001b[0m 5ms/step - loss: 439.3563 - mae: 439.3172 - val_loss: 499.0372 - val_mae: 503.6320\n",
      "Epoch 55/100\n",
      "\u001b[1m23/23\u001b[0m \u001b[32m━━━━━━━━━━━━━━━━━━━━\u001b[0m\u001b[37m\u001b[0m \u001b[1m0s\u001b[0m 5ms/step - loss: 429.6404 - mae: 429.6828 - val_loss: 398.8632 - val_mae: 399.3141\n",
      "Epoch 56/100\n",
      "\u001b[1m23/23\u001b[0m \u001b[32m━━━━━━━━━━━━━━━━━━━━\u001b[0m\u001b[37m\u001b[0m \u001b[1m0s\u001b[0m 5ms/step - loss: 402.8455 - mae: 402.8601 - val_loss: 396.0707 - val_mae: 396.6446\n",
      "Epoch 57/100\n",
      "\u001b[1m23/23\u001b[0m \u001b[32m━━━━━━━━━━━━━━━━━━━━\u001b[0m\u001b[37m\u001b[0m \u001b[1m0s\u001b[0m 7ms/step - loss: 406.0302 - mae: 405.9064 - val_loss: 781.5515 - val_mae: 766.7656\n",
      "Epoch 58/100\n",
      "\u001b[1m23/23\u001b[0m \u001b[32m━━━━━━━━━━━━━━━━━━━━\u001b[0m\u001b[37m\u001b[0m \u001b[1m0s\u001b[0m 7ms/step - loss: 437.6923 - mae: 437.6374 - val_loss: 490.0691 - val_mae: 494.7615\n",
      "Epoch 59/100\n",
      "\u001b[1m23/23\u001b[0m \u001b[32m━━━━━━━━━━━━━━━━━━━━\u001b[0m\u001b[37m\u001b[0m \u001b[1m0s\u001b[0m 6ms/step - loss: 428.7331 - mae: 428.8729 - val_loss: 902.6702 - val_mae: 885.0172\n",
      "Epoch 60/100\n",
      "\u001b[1m23/23\u001b[0m \u001b[32m━━━━━━━━━━━━━━━━━━━━\u001b[0m\u001b[37m\u001b[0m \u001b[1m0s\u001b[0m 5ms/step - loss: 445.2233 - mae: 445.3684 - val_loss: 515.4272 - val_mae: 510.4995\n",
      "Epoch 61/100\n",
      "\u001b[1m23/23\u001b[0m \u001b[32m━━━━━━━━━━━━━━━━━━━━\u001b[0m\u001b[37m\u001b[0m \u001b[1m0s\u001b[0m 5ms/step - loss: 395.1359 - mae: 395.1869 - val_loss: 407.8735 - val_mae: 407.8124\n",
      "Epoch 62/100\n",
      "\u001b[1m23/23\u001b[0m \u001b[32m━━━━━━━━━━━━━━━━━━━━\u001b[0m\u001b[37m\u001b[0m \u001b[1m0s\u001b[0m 5ms/step - loss: 406.8932 - mae: 406.9014 - val_loss: 472.7107 - val_mae: 477.5848\n",
      "Epoch 63/100\n",
      "\u001b[1m23/23\u001b[0m \u001b[32m━━━━━━━━━━━━━━━━━━━━\u001b[0m\u001b[37m\u001b[0m \u001b[1m0s\u001b[0m 8ms/step - loss: 403.4748 - mae: 403.5382 - val_loss: 419.6334 - val_mae: 424.0829\n",
      "Epoch 64/100\n",
      "\u001b[1m23/23\u001b[0m \u001b[32m━━━━━━━━━━━━━━━━━━━━\u001b[0m\u001b[37m\u001b[0m \u001b[1m0s\u001b[0m 6ms/step - loss: 392.0926 - mae: 392.1902 - val_loss: 389.5937 - val_mae: 390.5439\n",
      "Epoch 65/100\n",
      "\u001b[1m23/23\u001b[0m \u001b[32m━━━━━━━━━━━━━━━━━━━━\u001b[0m\u001b[37m\u001b[0m \u001b[1m0s\u001b[0m 4ms/step - loss: 387.9651 - mae: 388.0387 - val_loss: 1285.9727 - val_mae: 1262.2177\n",
      "Epoch 66/100\n",
      "\u001b[1m23/23\u001b[0m \u001b[32m━━━━━━━━━━━━━━━━━━━━\u001b[0m\u001b[37m\u001b[0m \u001b[1m0s\u001b[0m 6ms/step - loss: 458.6225 - mae: 458.7025 - val_loss: 437.5438 - val_mae: 442.3249\n",
      "Epoch 67/100\n",
      "\u001b[1m23/23\u001b[0m \u001b[32m━━━━━━━━━━━━━━━━━━━━\u001b[0m\u001b[37m\u001b[0m \u001b[1m0s\u001b[0m 5ms/step - loss: 391.6020 - mae: 391.5084 - val_loss: 411.9187 - val_mae: 416.2231\n",
      "Epoch 68/100\n",
      "\u001b[1m23/23\u001b[0m \u001b[32m━━━━━━━━━━━━━━━━━━━━\u001b[0m\u001b[37m\u001b[0m \u001b[1m0s\u001b[0m 5ms/step - loss: 382.3542 - mae: 382.4581 - val_loss: 426.9066 - val_mae: 431.4318\n",
      "Epoch 69/100\n",
      "\u001b[1m23/23\u001b[0m \u001b[32m━━━━━━━━━━━━━━━━━━━━\u001b[0m\u001b[37m\u001b[0m \u001b[1m0s\u001b[0m 4ms/step - loss: 396.6532 - mae: 396.6517 - val_loss: 386.5189 - val_mae: 389.0755\n",
      "Epoch 70/100\n",
      "\u001b[1m23/23\u001b[0m \u001b[32m━━━━━━━━━━━━━━━━━━━━\u001b[0m\u001b[37m\u001b[0m \u001b[1m0s\u001b[0m 5ms/step - loss: 396.7161 - mae: 396.6871 - val_loss: 393.8867 - val_mae: 397.4096\n",
      "Epoch 71/100\n",
      "\u001b[1m23/23\u001b[0m \u001b[32m━━━━━━━━━━━━━━━━━━━━\u001b[0m\u001b[37m\u001b[0m \u001b[1m0s\u001b[0m 7ms/step - loss: 384.1872 - mae: 384.0872 - val_loss: 382.8805 - val_mae: 385.1930\n",
      "Epoch 72/100\n",
      "\u001b[1m23/23\u001b[0m \u001b[32m━━━━━━━━━━━━━━━━━━━━\u001b[0m\u001b[37m\u001b[0m \u001b[1m0s\u001b[0m 5ms/step - loss: 423.5863 - mae: 423.4926 - val_loss: 476.3902 - val_mae: 473.9801\n",
      "Epoch 73/100\n",
      "\u001b[1m23/23\u001b[0m \u001b[32m━━━━━━━━━━━━━━━━━━━━\u001b[0m\u001b[37m\u001b[0m \u001b[1m0s\u001b[0m 5ms/step - loss: 424.8619 - mae: 424.6013 - val_loss: 653.5711 - val_mae: 643.5515\n",
      "Epoch 74/100\n",
      "\u001b[1m23/23\u001b[0m \u001b[32m━━━━━━━━━━━━━━━━━━━━\u001b[0m\u001b[37m\u001b[0m \u001b[1m0s\u001b[0m 5ms/step - loss: 452.8160 - mae: 452.9535 - val_loss: 971.9936 - val_mae: 974.9114\n",
      "Epoch 75/100\n",
      "\u001b[1m23/23\u001b[0m \u001b[32m━━━━━━━━━━━━━━━━━━━━\u001b[0m\u001b[37m\u001b[0m \u001b[1m0s\u001b[0m 5ms/step - loss: 525.1827 - mae: 525.2935 - val_loss: 610.0333 - val_mae: 615.1226\n",
      "Epoch 76/100\n",
      "\u001b[1m23/23\u001b[0m \u001b[32m━━━━━━━━━━━━━━━━━━━━\u001b[0m\u001b[37m\u001b[0m \u001b[1m0s\u001b[0m 5ms/step - loss: 483.8796 - mae: 483.6646 - val_loss: 610.0845 - val_mae: 601.5018\n",
      "Epoch 77/100\n",
      "\u001b[1m23/23\u001b[0m \u001b[32m━━━━━━━━━━━━━━━━━━━━\u001b[0m\u001b[37m\u001b[0m \u001b[1m0s\u001b[0m 5ms/step - loss: 583.9428 - mae: 584.0041 - val_loss: 741.0734 - val_mae: 745.6864\n",
      "Epoch 78/100\n",
      "\u001b[1m23/23\u001b[0m \u001b[32m━━━━━━━━━━━━━━━━━━━━\u001b[0m\u001b[37m\u001b[0m \u001b[1m0s\u001b[0m 5ms/step - loss: 416.1163 - mae: 416.2300 - val_loss: 425.0789 - val_mae: 429.8964\n",
      "Epoch 79/100\n",
      "\u001b[1m23/23\u001b[0m \u001b[32m━━━━━━━━━━━━━━━━━━━━\u001b[0m\u001b[37m\u001b[0m \u001b[1m0s\u001b[0m 5ms/step - loss: 397.0473 - mae: 396.9025 - val_loss: 396.4663 - val_mae: 397.1395\n",
      "Epoch 80/100\n",
      "\u001b[1m23/23\u001b[0m \u001b[32m━━━━━━━━━━━━━━━━━━━━\u001b[0m\u001b[37m\u001b[0m \u001b[1m0s\u001b[0m 4ms/step - loss: 369.5416 - mae: 369.6278 - val_loss: 580.6544 - val_mae: 573.0716\n",
      "Epoch 81/100\n",
      "\u001b[1m23/23\u001b[0m \u001b[32m━━━━━━━━━━━━━━━━━━━━\u001b[0m\u001b[37m\u001b[0m \u001b[1m0s\u001b[0m 5ms/step - loss: 402.9182 - mae: 402.9751 - val_loss: 384.9234 - val_mae: 387.8448\n",
      "Epoch 82/100\n",
      "\u001b[1m23/23\u001b[0m \u001b[32m━━━━━━━━━━━━━━━━━━━━\u001b[0m\u001b[37m\u001b[0m \u001b[1m0s\u001b[0m 4ms/step - loss: 388.8681 - mae: 388.8309 - val_loss: 660.8791 - val_mae: 665.2241\n",
      "Epoch 83/100\n",
      "\u001b[1m23/23\u001b[0m \u001b[32m━━━━━━━━━━━━━━━━━━━━\u001b[0m\u001b[37m\u001b[0m \u001b[1m0s\u001b[0m 6ms/step - loss: 436.2625 - mae: 436.2180 - val_loss: 408.1861 - val_mae: 412.4720\n",
      "Epoch 84/100\n",
      "\u001b[1m23/23\u001b[0m \u001b[32m━━━━━━━━━━━━━━━━━━━━\u001b[0m\u001b[37m\u001b[0m \u001b[1m0s\u001b[0m 6ms/step - loss: 372.3722 - mae: 372.2625 - val_loss: 381.2811 - val_mae: 383.3343\n",
      "Epoch 85/100\n",
      "\u001b[1m23/23\u001b[0m \u001b[32m━━━━━━━━━━━━━━━━━━━━\u001b[0m\u001b[37m\u001b[0m \u001b[1m0s\u001b[0m 4ms/step - loss: 391.9025 - mae: 391.8414 - val_loss: 389.7605 - val_mae: 393.6264\n",
      "Epoch 86/100\n",
      "\u001b[1m23/23\u001b[0m \u001b[32m━━━━━━━━━━━━━━━━━━━━\u001b[0m\u001b[37m\u001b[0m \u001b[1m0s\u001b[0m 4ms/step - loss: 402.1936 - mae: 402.1773 - val_loss: 384.7806 - val_mae: 388.3639\n",
      "Epoch 87/100\n",
      "\u001b[1m23/23\u001b[0m \u001b[32m━━━━━━━━━━━━━━━━━━━━\u001b[0m\u001b[37m\u001b[0m \u001b[1m0s\u001b[0m 4ms/step - loss: 396.0796 - mae: 396.1841 - val_loss: 474.2388 - val_mae: 479.3514\n",
      "Epoch 88/100\n",
      "\u001b[1m23/23\u001b[0m \u001b[32m━━━━━━━━━━━━━━━━━━━━\u001b[0m\u001b[37m\u001b[0m \u001b[1m0s\u001b[0m 4ms/step - loss: 439.2615 - mae: 439.3054 - val_loss: 420.9839 - val_mae: 421.1609\n",
      "Epoch 89/100\n",
      "\u001b[1m23/23\u001b[0m \u001b[32m━━━━━━━━━━━━━━━━━━━━\u001b[0m\u001b[37m\u001b[0m \u001b[1m0s\u001b[0m 4ms/step - loss: 417.1118 - mae: 417.1647 - val_loss: 486.9082 - val_mae: 492.1251\n",
      "Epoch 90/100\n",
      "\u001b[1m23/23\u001b[0m \u001b[32m━━━━━━━━━━━━━━━━━━━━\u001b[0m\u001b[37m\u001b[0m \u001b[1m0s\u001b[0m 4ms/step - loss: 416.0238 - mae: 416.1231 - val_loss: 417.9900 - val_mae: 418.2508\n",
      "Epoch 91/100\n",
      "\u001b[1m23/23\u001b[0m \u001b[32m━━━━━━━━━━━━━━━━━━━━\u001b[0m\u001b[37m\u001b[0m \u001b[1m0s\u001b[0m 7ms/step - loss: 397.5626 - mae: 397.6395 - val_loss: 410.8032 - val_mae: 411.3145\n",
      "Epoch 92/100\n",
      "\u001b[1m23/23\u001b[0m \u001b[32m━━━━━━━━━━━━━━━━━━━━\u001b[0m\u001b[37m\u001b[0m \u001b[1m0s\u001b[0m 7ms/step - loss: 389.0276 - mae: 389.0940 - val_loss: 618.4171 - val_mae: 623.1179\n",
      "Epoch 93/100\n",
      "\u001b[1m23/23\u001b[0m \u001b[32m━━━━━━━━━━━━━━━━━━━━\u001b[0m\u001b[37m\u001b[0m \u001b[1m0s\u001b[0m 7ms/step - loss: 408.7636 - mae: 408.5919 - val_loss: 469.4272 - val_mae: 467.4547\n",
      "Epoch 94/100\n",
      "\u001b[1m23/23\u001b[0m \u001b[32m━━━━━━━━━━━━━━━━━━━━\u001b[0m\u001b[37m\u001b[0m \u001b[1m0s\u001b[0m 6ms/step - loss: 412.1544 - mae: 412.2567 - val_loss: 396.6182 - val_mae: 400.9133\n",
      "Epoch 95/100\n",
      "\u001b[1m23/23\u001b[0m \u001b[32m━━━━━━━━━━━━━━━━━━━━\u001b[0m\u001b[37m\u001b[0m \u001b[1m0s\u001b[0m 5ms/step - loss: 383.2851 - mae: 383.0846 - val_loss: 449.2257 - val_mae: 454.2910\n",
      "Epoch 96/100\n",
      "\u001b[1m23/23\u001b[0m \u001b[32m━━━━━━━━━━━━━━━━━━━━\u001b[0m\u001b[37m\u001b[0m \u001b[1m0s\u001b[0m 4ms/step - loss: 427.2932 - mae: 427.3640 - val_loss: 428.5800 - val_mae: 428.1404\n",
      "Epoch 97/100\n",
      "\u001b[1m23/23\u001b[0m \u001b[32m━━━━━━━━━━━━━━━━━━━━\u001b[0m\u001b[37m\u001b[0m \u001b[1m0s\u001b[0m 5ms/step - loss: 364.1901 - mae: 364.1063 - val_loss: 378.5242 - val_mae: 381.5181\n",
      "Epoch 98/100\n",
      "\u001b[1m23/23\u001b[0m \u001b[32m━━━━━━━━━━━━━━━━━━━━\u001b[0m\u001b[37m\u001b[0m \u001b[1m0s\u001b[0m 6ms/step - loss: 399.7614 - mae: 399.8282 - val_loss: 742.1398 - val_mae: 729.3384\n",
      "Epoch 99/100\n",
      "\u001b[1m23/23\u001b[0m \u001b[32m━━━━━━━━━━━━━━━━━━━━\u001b[0m\u001b[37m\u001b[0m \u001b[1m0s\u001b[0m 7ms/step - loss: 440.3081 - mae: 440.3883 - val_loss: 598.9057 - val_mae: 590.9967\n",
      "Epoch 100/100\n",
      "\u001b[1m23/23\u001b[0m \u001b[32m━━━━━━━━━━━━━━━━━━━━\u001b[0m\u001b[37m\u001b[0m \u001b[1m0s\u001b[0m 4ms/step - loss: 433.6106 - mae: 433.7179 - val_loss: 623.1987 - val_mae: 614.2798\n"
     ]
    },
    {
     "data": {
      "text/plain": [
       "<keras.src.callbacks.history.History at 0x24508e36ed0>"
      ]
     },
     "execution_count": 48,
     "metadata": {},
     "output_type": "execute_result"
    }
   ],
   "source": [
    "model_3.fit(train_windows, train_labels, epochs=100, batch_size=128, validation_data=(test_windows, test_labels))"
   ]
  },
  {
   "cell_type": "code",
   "execution_count": 49,
   "metadata": {
    "colab": {
     "base_uri": "https://localhost:8080/"
    },
    "id": "OixupjIRw3En",
    "outputId": "1ae9425f-c781-4f54-e5e8-7270be6fb393"
   },
   "outputs": [
    {
     "name": "stdout",
     "output_type": "stream",
     "text": [
      "\u001b[1m11/11\u001b[0m \u001b[32m━━━━━━━━━━━━━━━━━━━━\u001b[0m\u001b[37m\u001b[0m \u001b[1m0s\u001b[0m 2ms/step - loss: 583.5425 - mae: 562.4871 \n"
     ]
    },
    {
     "data": {
      "text/plain": [
       "[740.6124877929688, 614.27978515625]"
      ]
     },
     "execution_count": 49,
     "metadata": {},
     "output_type": "execute_result"
    }
   ],
   "source": [
    "model_3.evaluate(test_windows, test_labels)"
   ]
  },
  {
   "cell_type": "markdown",
   "metadata": {
    "id": "0cP7LOaakAVU"
   },
   "source": [
    "## LSTM (RNN)"
   ]
  },
  {
   "cell_type": "code",
   "execution_count": 50,
   "metadata": {
    "id": "AQsqC9GvxUao"
   },
   "outputs": [],
   "source": [
    "windows, labels = create_windowed_dataset(y_train, horizon=1, window=14)"
   ]
  },
  {
   "cell_type": "code",
   "execution_count": 51,
   "metadata": {
    "id": "VlHTik_hkJ3w"
   },
   "outputs": [],
   "source": [
    "train_windows, test_windows, train_labels, test_labels = window_train_test_split(windows=windows, labels=labels)"
   ]
  },
  {
   "cell_type": "markdown",
   "metadata": {
    "id": "Ufnv9uCznhOv"
   },
   "source": [
    "**note**: Don't forget to change activation of LSTM layers to `relu` becasue their default activation is `tanh` and it doesn't work on our data."
   ]
  },
  {
   "cell_type": "code",
   "execution_count": 53,
   "metadata": {
    "colab": {
     "base_uri": "https://localhost:8080/"
    },
    "id": "dM9zyu7jkNXD",
    "outputId": "ed75144c-294a-4164-e4ac-37c1e6fb52f7"
   },
   "outputs": [],
   "source": [
    "inputs = tf.keras.layers.Input(shape=(WINDOW_SIZE,))\n",
    "x = tf.keras.layers.Lambda(lambda x: tf.expand_dims(x, axis=1))(inputs)\n",
    "\n",
    "x = tf.keras.layers.LSTM(units=128, return_sequences=True, activation='relu')(x)\n",
    "x = tf.keras.layers.LSTM(units=128, activation='relu')(x)\n",
    "\n",
    "x = tf.keras.layers.Dense(units=64, activation='relu')(x)\n",
    "\n",
    "outputs = tf.keras.layers.Dense(units=HORIZON, activation='linear')(x)\n",
    "\n",
    "model_4 = tf.keras.Model(inputs, outputs)"
   ]
  },
  {
   "cell_type": "code",
   "execution_count": 55,
   "metadata": {
    "id": "8wWrB5KBlYHE"
   },
   "outputs": [],
   "source": [
    "model_4.compile(loss=tf.keras.losses.MAE,\n",
    "                optimizer=tf.keras.optimizers.Adam(),\n",
    "                metrics=['mae'])"
   ]
  },
  {
   "cell_type": "code",
   "execution_count": 56,
   "metadata": {
    "colab": {
     "base_uri": "https://localhost:8080/"
    },
    "id": "979sE3tEl_9H",
    "outputId": "347e577e-af7b-49d4-b7b4-37c34a743a7f",
    "scrolled": true
   },
   "outputs": [
    {
     "name": "stdout",
     "output_type": "stream",
     "text": [
      "Epoch 1/100\n",
      "\u001b[1m23/23\u001b[0m \u001b[32m━━━━━━━━━━━━━━━━━━━━\u001b[0m\u001b[37m\u001b[0m \u001b[1m6s\u001b[0m 56ms/step - loss: 12623.9268 - mae: 12627.1025 - val_loss: 14515.6963 - val_mae: 14390.7666\n",
      "Epoch 2/100\n",
      "\u001b[1m23/23\u001b[0m \u001b[32m━━━━━━━━━━━━━━━━━━━━\u001b[0m\u001b[37m\u001b[0m \u001b[1m1s\u001b[0m 29ms/step - loss: 3928.7102 - mae: 3929.5222 - val_loss: 2895.6545 - val_mae: 2877.9565\n",
      "Epoch 3/100\n",
      "\u001b[1m23/23\u001b[0m \u001b[32m━━━━━━━━━━━━━━━━━━━━\u001b[0m\u001b[37m\u001b[0m \u001b[1m1s\u001b[0m 24ms/step - loss: 1208.6613 - mae: 1208.7739 - val_loss: 1116.9178 - val_mae: 1130.8273\n",
      "Epoch 4/100\n",
      "\u001b[1m23/23\u001b[0m \u001b[32m━━━━━━━━━━━━━━━━━━━━\u001b[0m\u001b[37m\u001b[0m \u001b[1m1s\u001b[0m 26ms/step - loss: 920.0720 - mae: 920.1323 - val_loss: 994.1849 - val_mae: 995.4474\n",
      "Epoch 5/100\n",
      "\u001b[1m23/23\u001b[0m \u001b[32m━━━━━━━━━━━━━━━━━━━━\u001b[0m\u001b[37m\u001b[0m \u001b[1m1s\u001b[0m 28ms/step - loss: 862.4839 - mae: 862.3969 - val_loss: 1024.9525 - val_mae: 1036.1298\n",
      "Epoch 6/100\n",
      "\u001b[1m23/23\u001b[0m \u001b[32m━━━━━━━━━━━━━━━━━━━━\u001b[0m\u001b[37m\u001b[0m \u001b[1m1s\u001b[0m 30ms/step - loss: 848.1360 - mae: 848.1973 - val_loss: 918.6912 - val_mae: 919.3325\n",
      "Epoch 7/100\n",
      "\u001b[1m23/23\u001b[0m \u001b[32m━━━━━━━━━━━━━━━━━━━━\u001b[0m\u001b[37m\u001b[0m \u001b[1m1s\u001b[0m 30ms/step - loss: 796.5236 - mae: 796.2192 - val_loss: 1110.7061 - val_mae: 1118.4207\n",
      "Epoch 8/100\n",
      "\u001b[1m23/23\u001b[0m \u001b[32m━━━━━━━━━━━━━━━━━━━━\u001b[0m\u001b[37m\u001b[0m \u001b[1m1s\u001b[0m 32ms/step - loss: 845.7463 - mae: 845.7543 - val_loss: 849.9771 - val_mae: 855.3570\n",
      "Epoch 9/100\n",
      "\u001b[1m23/23\u001b[0m \u001b[32m━━━━━━━━━━━━━━━━━━━━\u001b[0m\u001b[37m\u001b[0m \u001b[1m1s\u001b[0m 33ms/step - loss: 756.4155 - mae: 756.4350 - val_loss: 997.0285 - val_mae: 995.0825\n",
      "Epoch 10/100\n",
      "\u001b[1m23/23\u001b[0m \u001b[32m━━━━━━━━━━━━━━━━━━━━\u001b[0m\u001b[37m\u001b[0m \u001b[1m1s\u001b[0m 31ms/step - loss: 708.4482 - mae: 708.5366 - val_loss: 794.0796 - val_mae: 799.6818\n",
      "Epoch 11/100\n",
      "\u001b[1m23/23\u001b[0m \u001b[32m━━━━━━━━━━━━━━━━━━━━\u001b[0m\u001b[37m\u001b[0m \u001b[1m1s\u001b[0m 28ms/step - loss: 659.8982 - mae: 659.9777 - val_loss: 692.6137 - val_mae: 692.3286\n",
      "Epoch 12/100\n",
      "\u001b[1m23/23\u001b[0m \u001b[32m━━━━━━━━━━━━━━━━━━━━\u001b[0m\u001b[37m\u001b[0m \u001b[1m1s\u001b[0m 29ms/step - loss: 614.6139 - mae: 614.7125 - val_loss: 697.9567 - val_mae: 701.6036\n",
      "Epoch 13/100\n",
      "\u001b[1m23/23\u001b[0m \u001b[32m━━━━━━━━━━━━━━━━━━━━\u001b[0m\u001b[37m\u001b[0m \u001b[1m1s\u001b[0m 29ms/step - loss: 640.0245 - mae: 640.2443 - val_loss: 693.3337 - val_mae: 689.8418\n",
      "Epoch 14/100\n",
      "\u001b[1m23/23\u001b[0m \u001b[32m━━━━━━━━━━━━━━━━━━━━\u001b[0m\u001b[37m\u001b[0m \u001b[1m1s\u001b[0m 27ms/step - loss: 584.5037 - mae: 584.5650 - val_loss: 592.4782 - val_mae: 589.9356\n",
      "Epoch 15/100\n",
      "\u001b[1m23/23\u001b[0m \u001b[32m━━━━━━━━━━━━━━━━━━━━\u001b[0m\u001b[37m\u001b[0m \u001b[1m1s\u001b[0m 29ms/step - loss: 539.0771 - mae: 539.0622 - val_loss: 571.3931 - val_mae: 568.3689\n",
      "Epoch 16/100\n",
      "\u001b[1m23/23\u001b[0m \u001b[32m━━━━━━━━━━━━━━━━━━━━\u001b[0m\u001b[37m\u001b[0m \u001b[1m1s\u001b[0m 29ms/step - loss: 537.4605 - mae: 537.3445 - val_loss: 659.5262 - val_mae: 669.8273\n",
      "Epoch 17/100\n",
      "\u001b[1m23/23\u001b[0m \u001b[32m━━━━━━━━━━━━━━━━━━━━\u001b[0m\u001b[37m\u001b[0m \u001b[1m1s\u001b[0m 29ms/step - loss: 602.9759 - mae: 603.0664 - val_loss: 654.1366 - val_mae: 644.8854\n",
      "Epoch 18/100\n",
      "\u001b[1m23/23\u001b[0m \u001b[32m━━━━━━━━━━━━━━━━━━━━\u001b[0m\u001b[37m\u001b[0m \u001b[1m1s\u001b[0m 25ms/step - loss: 500.2446 - mae: 500.0988 - val_loss: 543.3036 - val_mae: 538.8325\n",
      "Epoch 19/100\n",
      "\u001b[1m23/23\u001b[0m \u001b[32m━━━━━━━━━━━━━━━━━━━━\u001b[0m\u001b[37m\u001b[0m \u001b[1m1s\u001b[0m 27ms/step - loss: 496.1160 - mae: 496.2601 - val_loss: 529.0287 - val_mae: 526.0519\n",
      "Epoch 20/100\n",
      "\u001b[1m23/23\u001b[0m \u001b[32m━━━━━━━━━━━━━━━━━━━━\u001b[0m\u001b[37m\u001b[0m \u001b[1m1s\u001b[0m 27ms/step - loss: 558.4197 - mae: 558.3034 - val_loss: 775.3064 - val_mae: 759.7997\n",
      "Epoch 21/100\n",
      "\u001b[1m23/23\u001b[0m \u001b[32m━━━━━━━━━━━━━━━━━━━━\u001b[0m\u001b[37m\u001b[0m \u001b[1m1s\u001b[0m 28ms/step - loss: 527.3127 - mae: 527.5343 - val_loss: 640.4271 - val_mae: 652.1935\n",
      "Epoch 22/100\n",
      "\u001b[1m23/23\u001b[0m \u001b[32m━━━━━━━━━━━━━━━━━━━━\u001b[0m\u001b[37m\u001b[0m \u001b[1m1s\u001b[0m 28ms/step - loss: 504.9291 - mae: 504.7533 - val_loss: 523.0154 - val_mae: 518.3377\n",
      "Epoch 23/100\n",
      "\u001b[1m23/23\u001b[0m \u001b[32m━━━━━━━━━━━━━━━━━━━━\u001b[0m\u001b[37m\u001b[0m \u001b[1m1s\u001b[0m 25ms/step - loss: 491.2864 - mae: 491.3399 - val_loss: 594.3159 - val_mae: 585.2612\n",
      "Epoch 24/100\n",
      "\u001b[1m23/23\u001b[0m \u001b[32m━━━━━━━━━━━━━━━━━━━━\u001b[0m\u001b[37m\u001b[0m \u001b[1m1s\u001b[0m 24ms/step - loss: 480.9901 - mae: 481.1018 - val_loss: 522.6207 - val_mae: 530.2788\n",
      "Epoch 25/100\n",
      "\u001b[1m23/23\u001b[0m \u001b[32m━━━━━━━━━━━━━━━━━━━━\u001b[0m\u001b[37m\u001b[0m \u001b[1m1s\u001b[0m 25ms/step - loss: 525.7760 - mae: 525.7593 - val_loss: 885.1936 - val_mae: 864.9868\n",
      "Epoch 26/100\n",
      "\u001b[1m23/23\u001b[0m \u001b[32m━━━━━━━━━━━━━━━━━━━━\u001b[0m\u001b[37m\u001b[0m \u001b[1m1s\u001b[0m 24ms/step - loss: 503.0997 - mae: 503.0607 - val_loss: 989.5891 - val_mae: 1000.2513\n",
      "Epoch 27/100\n",
      "\u001b[1m23/23\u001b[0m \u001b[32m━━━━━━━━━━━━━━━━━━━━\u001b[0m\u001b[37m\u001b[0m \u001b[1m1s\u001b[0m 25ms/step - loss: 539.4972 - mae: 539.4069 - val_loss: 477.9014 - val_mae: 477.5680\n",
      "Epoch 28/100\n",
      "\u001b[1m23/23\u001b[0m \u001b[32m━━━━━━━━━━━━━━━━━━━━\u001b[0m\u001b[37m\u001b[0m \u001b[1m1s\u001b[0m 25ms/step - loss: 439.4475 - mae: 439.4152 - val_loss: 490.8913 - val_mae: 487.4661\n",
      "Epoch 29/100\n",
      "\u001b[1m23/23\u001b[0m \u001b[32m━━━━━━━━━━━━━━━━━━━━\u001b[0m\u001b[37m\u001b[0m \u001b[1m1s\u001b[0m 47ms/step - loss: 498.2940 - mae: 498.3331 - val_loss: 1169.2731 - val_mae: 1143.0796\n",
      "Epoch 30/100\n",
      "\u001b[1m23/23\u001b[0m \u001b[32m━━━━━━━━━━━━━━━━━━━━\u001b[0m\u001b[37m\u001b[0m \u001b[1m1s\u001b[0m 32ms/step - loss: 560.5515 - mae: 560.5365 - val_loss: 788.7387 - val_mae: 771.0759\n",
      "Epoch 31/100\n",
      "\u001b[1m23/23\u001b[0m \u001b[32m━━━━━━━━━━━━━━━━━━━━\u001b[0m\u001b[37m\u001b[0m \u001b[1m1s\u001b[0m 33ms/step - loss: 482.4459 - mae: 482.5356 - val_loss: 469.8767 - val_mae: 474.8073\n",
      "Epoch 32/100\n",
      "\u001b[1m23/23\u001b[0m \u001b[32m━━━━━━━━━━━━━━━━━━━━\u001b[0m\u001b[37m\u001b[0m \u001b[1m1s\u001b[0m 30ms/step - loss: 473.9825 - mae: 474.0368 - val_loss: 487.2195 - val_mae: 483.4385\n",
      "Epoch 33/100\n",
      "\u001b[1m23/23\u001b[0m \u001b[32m━━━━━━━━━━━━━━━━━━━━\u001b[0m\u001b[37m\u001b[0m \u001b[1m1s\u001b[0m 30ms/step - loss: 446.0418 - mae: 446.0475 - val_loss: 516.0429 - val_mae: 509.9210\n",
      "Epoch 34/100\n",
      "\u001b[1m23/23\u001b[0m \u001b[32m━━━━━━━━━━━━━━━━━━━━\u001b[0m\u001b[37m\u001b[0m \u001b[1m1s\u001b[0m 30ms/step - loss: 467.3105 - mae: 467.1600 - val_loss: 461.7345 - val_mae: 460.1650\n",
      "Epoch 35/100\n",
      "\u001b[1m23/23\u001b[0m \u001b[32m━━━━━━━━━━━━━━━━━━━━\u001b[0m\u001b[37m\u001b[0m \u001b[1m1s\u001b[0m 25ms/step - loss: 420.4283 - mae: 420.1870 - val_loss: 698.4941 - val_mae: 708.0815\n",
      "Epoch 36/100\n",
      "\u001b[1m23/23\u001b[0m \u001b[32m━━━━━━━━━━━━━━━━━━━━\u001b[0m\u001b[37m\u001b[0m \u001b[1m1s\u001b[0m 35ms/step - loss: 464.5654 - mae: 464.7438 - val_loss: 444.7033 - val_mae: 448.4936\n",
      "Epoch 37/100\n",
      "\u001b[1m23/23\u001b[0m \u001b[32m━━━━━━━━━━━━━━━━━━━━\u001b[0m\u001b[37m\u001b[0m \u001b[1m1s\u001b[0m 34ms/step - loss: 423.1570 - mae: 423.0134 - val_loss: 606.2454 - val_mae: 595.8014\n",
      "Epoch 38/100\n",
      "\u001b[1m23/23\u001b[0m \u001b[32m━━━━━━━━━━━━━━━━━━━━\u001b[0m\u001b[37m\u001b[0m \u001b[1m1s\u001b[0m 30ms/step - loss: 474.8419 - mae: 474.7557 - val_loss: 940.9660 - val_mae: 949.3118\n",
      "Epoch 39/100\n",
      "\u001b[1m23/23\u001b[0m \u001b[32m━━━━━━━━━━━━━━━━━━━━\u001b[0m\u001b[37m\u001b[0m \u001b[1m1s\u001b[0m 33ms/step - loss: 513.0292 - mae: 513.1694 - val_loss: 432.9575 - val_mae: 435.9026\n",
      "Epoch 40/100\n",
      "\u001b[1m23/23\u001b[0m \u001b[32m━━━━━━━━━━━━━━━━━━━━\u001b[0m\u001b[37m\u001b[0m \u001b[1m1s\u001b[0m 30ms/step - loss: 465.1613 - mae: 465.2189 - val_loss: 456.3155 - val_mae: 454.2049\n",
      "Epoch 41/100\n",
      "\u001b[1m23/23\u001b[0m \u001b[32m━━━━━━━━━━━━━━━━━━━━\u001b[0m\u001b[37m\u001b[0m \u001b[1m1s\u001b[0m 31ms/step - loss: 443.9430 - mae: 443.9627 - val_loss: 568.8661 - val_mae: 576.1384\n",
      "Epoch 42/100\n",
      "\u001b[1m23/23\u001b[0m \u001b[32m━━━━━━━━━━━━━━━━━━━━\u001b[0m\u001b[37m\u001b[0m \u001b[1m1s\u001b[0m 31ms/step - loss: 462.1199 - mae: 462.1499 - val_loss: 619.9332 - val_mae: 628.2458\n",
      "Epoch 43/100\n",
      "\u001b[1m23/23\u001b[0m \u001b[32m━━━━━━━━━━━━━━━━━━━━\u001b[0m\u001b[37m\u001b[0m \u001b[1m1s\u001b[0m 29ms/step - loss: 432.4041 - mae: 432.4037 - val_loss: 596.6391 - val_mae: 586.2454\n",
      "Epoch 44/100\n",
      "\u001b[1m23/23\u001b[0m \u001b[32m━━━━━━━━━━━━━━━━━━━━\u001b[0m\u001b[37m\u001b[0m \u001b[1m1s\u001b[0m 24ms/step - loss: 449.8471 - mae: 449.7225 - val_loss: 509.0129 - val_mae: 503.3444\n",
      "Epoch 45/100\n",
      "\u001b[1m23/23\u001b[0m \u001b[32m━━━━━━━━━━━━━━━━━━━━\u001b[0m\u001b[37m\u001b[0m \u001b[1m1s\u001b[0m 24ms/step - loss: 431.5708 - mae: 431.4318 - val_loss: 425.5096 - val_mae: 429.7874\n",
      "Epoch 46/100\n",
      "\u001b[1m23/23\u001b[0m \u001b[32m━━━━━━━━━━━━━━━━━━━━\u001b[0m\u001b[37m\u001b[0m \u001b[1m1s\u001b[0m 27ms/step - loss: 416.1378 - mae: 416.2619 - val_loss: 466.4540 - val_mae: 462.8680\n",
      "Epoch 47/100\n",
      "\u001b[1m23/23\u001b[0m \u001b[32m━━━━━━━━━━━━━━━━━━━━\u001b[0m\u001b[37m\u001b[0m \u001b[1m1s\u001b[0m 24ms/step - loss: 431.4951 - mae: 431.5057 - val_loss: 635.6330 - val_mae: 643.4058\n",
      "Epoch 48/100\n",
      "\u001b[1m23/23\u001b[0m \u001b[32m━━━━━━━━━━━━━━━━━━━━\u001b[0m\u001b[37m\u001b[0m \u001b[1m1s\u001b[0m 22ms/step - loss: 438.0707 - mae: 437.9915 - val_loss: 696.7193 - val_mae: 682.2729\n",
      "Epoch 49/100\n",
      "\u001b[1m23/23\u001b[0m \u001b[32m━━━━━━━━━━━━━━━━━━━━\u001b[0m\u001b[37m\u001b[0m \u001b[1m1s\u001b[0m 26ms/step - loss: 491.6768 - mae: 491.8435 - val_loss: 723.5627 - val_mae: 730.9019\n",
      "Epoch 50/100\n",
      "\u001b[1m23/23\u001b[0m \u001b[32m━━━━━━━━━━━━━━━━━━━━\u001b[0m\u001b[37m\u001b[0m \u001b[1m1s\u001b[0m 24ms/step - loss: 460.9157 - mae: 461.0494 - val_loss: 411.6009 - val_mae: 413.5037\n",
      "Epoch 51/100\n",
      "\u001b[1m23/23\u001b[0m \u001b[32m━━━━━━━━━━━━━━━━━━━━\u001b[0m\u001b[37m\u001b[0m \u001b[1m1s\u001b[0m 24ms/step - loss: 419.2351 - mae: 419.3363 - val_loss: 627.5941 - val_mae: 615.7748\n",
      "Epoch 52/100\n",
      "\u001b[1m23/23\u001b[0m \u001b[32m━━━━━━━━━━━━━━━━━━━━\u001b[0m\u001b[37m\u001b[0m \u001b[1m1s\u001b[0m 23ms/step - loss: 439.8299 - mae: 439.8842 - val_loss: 448.6112 - val_mae: 445.8657\n",
      "Epoch 53/100\n",
      "\u001b[1m23/23\u001b[0m \u001b[32m━━━━━━━━━━━━━━━━━━━━\u001b[0m\u001b[37m\u001b[0m \u001b[1m1s\u001b[0m 26ms/step - loss: 433.6613 - mae: 433.6754 - val_loss: 494.5562 - val_mae: 500.4898\n",
      "Epoch 54/100\n",
      "\u001b[1m23/23\u001b[0m \u001b[32m━━━━━━━━━━━━━━━━━━━━\u001b[0m\u001b[37m\u001b[0m \u001b[1m1s\u001b[0m 25ms/step - loss: 442.3052 - mae: 442.3594 - val_loss: 407.1497 - val_mae: 408.6405\n",
      "Epoch 55/100\n",
      "\u001b[1m23/23\u001b[0m \u001b[32m━━━━━━━━━━━━━━━━━━━━\u001b[0m\u001b[37m\u001b[0m \u001b[1m1s\u001b[0m 25ms/step - loss: 409.9646 - mae: 409.7278 - val_loss: 643.9193 - val_mae: 651.3543\n",
      "Epoch 56/100\n",
      "\u001b[1m23/23\u001b[0m \u001b[32m━━━━━━━━━━━━━━━━━━━━\u001b[0m\u001b[37m\u001b[0m \u001b[1m1s\u001b[0m 24ms/step - loss: 393.8793 - mae: 393.7691 - val_loss: 412.8990 - val_mae: 417.1919\n",
      "Epoch 57/100\n",
      "\u001b[1m23/23\u001b[0m \u001b[32m━━━━━━━━━━━━━━━━━━━━\u001b[0m\u001b[37m\u001b[0m \u001b[1m1s\u001b[0m 23ms/step - loss: 408.6361 - mae: 408.6393 - val_loss: 406.5296 - val_mae: 410.3664\n",
      "Epoch 58/100\n",
      "\u001b[1m23/23\u001b[0m \u001b[32m━━━━━━━━━━━━━━━━━━━━\u001b[0m\u001b[37m\u001b[0m \u001b[1m1s\u001b[0m 25ms/step - loss: 400.9282 - mae: 400.8687 - val_loss: 461.1444 - val_mae: 457.7299\n",
      "Epoch 59/100\n",
      "\u001b[1m23/23\u001b[0m \u001b[32m━━━━━━━━━━━━━━━━━━━━\u001b[0m\u001b[37m\u001b[0m \u001b[1m1s\u001b[0m 26ms/step - loss: 421.9525 - mae: 421.9861 - val_loss: 467.5150 - val_mae: 463.8610\n",
      "Epoch 60/100\n",
      "\u001b[1m23/23\u001b[0m \u001b[32m━━━━━━━━━━━━━━━━━━━━\u001b[0m\u001b[37m\u001b[0m \u001b[1m1s\u001b[0m 25ms/step - loss: 414.4637 - mae: 414.3134 - val_loss: 476.9465 - val_mae: 482.6469\n",
      "Epoch 61/100\n",
      "\u001b[1m23/23\u001b[0m \u001b[32m━━━━━━━━━━━━━━━━━━━━\u001b[0m\u001b[37m\u001b[0m \u001b[1m1s\u001b[0m 26ms/step - loss: 458.5454 - mae: 458.5892 - val_loss: 455.5840 - val_mae: 452.5282\n",
      "Epoch 62/100\n",
      "\u001b[1m23/23\u001b[0m \u001b[32m━━━━━━━━━━━━━━━━━━━━\u001b[0m\u001b[37m\u001b[0m \u001b[1m1s\u001b[0m 24ms/step - loss: 399.8119 - mae: 399.8329 - val_loss: 537.4300 - val_mae: 530.2259\n",
      "Epoch 63/100\n",
      "\u001b[1m23/23\u001b[0m \u001b[32m━━━━━━━━━━━━━━━━━━━━\u001b[0m\u001b[37m\u001b[0m \u001b[1m1s\u001b[0m 23ms/step - loss: 436.0948 - mae: 436.2627 - val_loss: 620.1050 - val_mae: 626.2361\n",
      "Epoch 64/100\n",
      "\u001b[1m23/23\u001b[0m \u001b[32m━━━━━━━━━━━━━━━━━━━━\u001b[0m\u001b[37m\u001b[0m \u001b[1m1s\u001b[0m 23ms/step - loss: 424.9077 - mae: 425.0304 - val_loss: 402.1276 - val_mae: 402.6801\n",
      "Epoch 65/100\n",
      "\u001b[1m23/23\u001b[0m \u001b[32m━━━━━━━━━━━━━━━━━━━━\u001b[0m\u001b[37m\u001b[0m \u001b[1m1s\u001b[0m 24ms/step - loss: 405.0833 - mae: 405.1710 - val_loss: 575.7524 - val_mae: 566.3624\n",
      "Epoch 66/100\n",
      "\u001b[1m23/23\u001b[0m \u001b[32m━━━━━━━━━━━━━━━━━━━━\u001b[0m\u001b[37m\u001b[0m \u001b[1m1s\u001b[0m 28ms/step - loss: 453.9329 - mae: 453.7491 - val_loss: 572.2104 - val_mae: 578.7468\n",
      "Epoch 67/100\n",
      "\u001b[1m23/23\u001b[0m \u001b[32m━━━━━━━━━━━━━━━━━━━━\u001b[0m\u001b[37m\u001b[0m \u001b[1m1s\u001b[0m 25ms/step - loss: 403.2498 - mae: 403.2583 - val_loss: 438.2422 - val_mae: 435.8539\n",
      "Epoch 68/100\n",
      "\u001b[1m23/23\u001b[0m \u001b[32m━━━━━━━━━━━━━━━━━━━━\u001b[0m\u001b[37m\u001b[0m \u001b[1m1s\u001b[0m 27ms/step - loss: 420.1357 - mae: 420.2339 - val_loss: 912.6609 - val_mae: 894.5137\n",
      "Epoch 69/100\n",
      "\u001b[1m23/23\u001b[0m \u001b[32m━━━━━━━━━━━━━━━━━━━━\u001b[0m\u001b[37m\u001b[0m \u001b[1m1s\u001b[0m 23ms/step - loss: 491.4250 - mae: 491.5570 - val_loss: 391.3828 - val_mae: 393.9844\n",
      "Epoch 70/100\n",
      "\u001b[1m23/23\u001b[0m \u001b[32m━━━━━━━━━━━━━━━━━━━━\u001b[0m\u001b[37m\u001b[0m \u001b[1m1s\u001b[0m 24ms/step - loss: 402.6311 - mae: 402.7155 - val_loss: 561.5618 - val_mae: 553.0782\n",
      "Epoch 71/100\n",
      "\u001b[1m23/23\u001b[0m \u001b[32m━━━━━━━━━━━━━━━━━━━━\u001b[0m\u001b[37m\u001b[0m \u001b[1m1s\u001b[0m 23ms/step - loss: 429.0200 - mae: 429.0906 - val_loss: 645.0881 - val_mae: 650.8793\n",
      "Epoch 72/100\n",
      "\u001b[1m23/23\u001b[0m \u001b[32m━━━━━━━━━━━━━━━━━━━━\u001b[0m\u001b[37m\u001b[0m \u001b[1m1s\u001b[0m 25ms/step - loss: 433.3580 - mae: 433.4013 - val_loss: 390.5722 - val_mae: 393.4340\n",
      "Epoch 73/100\n",
      "\u001b[1m23/23\u001b[0m \u001b[32m━━━━━━━━━━━━━━━━━━━━\u001b[0m\u001b[37m\u001b[0m \u001b[1m1s\u001b[0m 22ms/step - loss: 391.2118 - mae: 391.2577 - val_loss: 438.9019 - val_mae: 443.7836\n",
      "Epoch 74/100\n",
      "\u001b[1m23/23\u001b[0m \u001b[32m━━━━━━━━━━━━━━━━━━━━\u001b[0m\u001b[37m\u001b[0m \u001b[1m1s\u001b[0m 27ms/step - loss: 402.1296 - mae: 401.8752 - val_loss: 605.4422 - val_mae: 595.0584\n",
      "Epoch 75/100\n",
      "\u001b[1m23/23\u001b[0m \u001b[32m━━━━━━━━━━━━━━━━━━━━\u001b[0m\u001b[37m\u001b[0m \u001b[1m1s\u001b[0m 27ms/step - loss: 418.1475 - mae: 418.2462 - val_loss: 422.6278 - val_mae: 420.9264\n",
      "Epoch 76/100\n",
      "\u001b[1m23/23\u001b[0m \u001b[32m━━━━━━━━━━━━━━━━━━━━\u001b[0m\u001b[37m\u001b[0m \u001b[1m1s\u001b[0m 29ms/step - loss: 403.6596 - mae: 403.7313 - val_loss: 685.4954 - val_mae: 690.8989\n",
      "Epoch 77/100\n",
      "\u001b[1m23/23\u001b[0m \u001b[32m━━━━━━━━━━━━━━━━━━━━\u001b[0m\u001b[37m\u001b[0m \u001b[1m1s\u001b[0m 26ms/step - loss: 455.8065 - mae: 455.7780 - val_loss: 389.2091 - val_mae: 391.5429\n",
      "Epoch 78/100\n",
      "\u001b[1m23/23\u001b[0m \u001b[32m━━━━━━━━━━━━━━━━━━━━\u001b[0m\u001b[37m\u001b[0m \u001b[1m1s\u001b[0m 28ms/step - loss: 400.1759 - mae: 400.0326 - val_loss: 388.2786 - val_mae: 390.6241\n",
      "Epoch 79/100\n",
      "\u001b[1m23/23\u001b[0m \u001b[32m━━━━━━━━━━━━━━━━━━━━\u001b[0m\u001b[37m\u001b[0m \u001b[1m1s\u001b[0m 26ms/step - loss: 449.9869 - mae: 450.0679 - val_loss: 549.9983 - val_mae: 556.2217\n",
      "Epoch 80/100\n",
      "\u001b[1m23/23\u001b[0m \u001b[32m━━━━━━━━━━━━━━━━━━━━\u001b[0m\u001b[37m\u001b[0m \u001b[1m1s\u001b[0m 24ms/step - loss: 372.8972 - mae: 372.9825 - val_loss: 506.0385 - val_mae: 512.0624\n",
      "Epoch 81/100\n",
      "\u001b[1m23/23\u001b[0m \u001b[32m━━━━━━━━━━━━━━━━━━━━\u001b[0m\u001b[37m\u001b[0m \u001b[1m1s\u001b[0m 28ms/step - loss: 397.7598 - mae: 397.8758 - val_loss: 399.9424 - val_mae: 399.9539\n",
      "Epoch 82/100\n",
      "\u001b[1m23/23\u001b[0m \u001b[32m━━━━━━━━━━━━━━━━━━━━\u001b[0m\u001b[37m\u001b[0m \u001b[1m1s\u001b[0m 27ms/step - loss: 407.5414 - mae: 407.5909 - val_loss: 408.0562 - val_mae: 407.2184\n",
      "Epoch 83/100\n",
      "\u001b[1m23/23\u001b[0m \u001b[32m━━━━━━━━━━━━━━━━━━━━\u001b[0m\u001b[37m\u001b[0m \u001b[1m1s\u001b[0m 25ms/step - loss: 381.7661 - mae: 381.7177 - val_loss: 393.7013 - val_mae: 394.5318\n",
      "Epoch 84/100\n",
      "\u001b[1m23/23\u001b[0m \u001b[32m━━━━━━━━━━━━━━━━━━━━\u001b[0m\u001b[37m\u001b[0m \u001b[1m1s\u001b[0m 25ms/step - loss: 358.3932 - mae: 358.2991 - val_loss: 570.8065 - val_mae: 576.6501\n",
      "Epoch 85/100\n",
      "\u001b[1m23/23\u001b[0m \u001b[32m━━━━━━━━━━━━━━━━━━━━\u001b[0m\u001b[37m\u001b[0m \u001b[1m1s\u001b[0m 26ms/step - loss: 402.0632 - mae: 402.0990 - val_loss: 551.6306 - val_mae: 557.9808\n",
      "Epoch 86/100\n",
      "\u001b[1m23/23\u001b[0m \u001b[32m━━━━━━━━━━━━━━━━━━━━\u001b[0m\u001b[37m\u001b[0m \u001b[1m1s\u001b[0m 24ms/step - loss: 405.7695 - mae: 405.7808 - val_loss: 422.4694 - val_mae: 427.0439\n",
      "Epoch 87/100\n",
      "\u001b[1m23/23\u001b[0m \u001b[32m━━━━━━━━━━━━━━━━━━━━\u001b[0m\u001b[37m\u001b[0m \u001b[1m1s\u001b[0m 24ms/step - loss: 368.5457 - mae: 368.5463 - val_loss: 444.9053 - val_mae: 442.5661\n",
      "Epoch 88/100\n",
      "\u001b[1m23/23\u001b[0m \u001b[32m━━━━━━━━━━━━━━━━━━━━\u001b[0m\u001b[37m\u001b[0m \u001b[1m1s\u001b[0m 24ms/step - loss: 386.7376 - mae: 386.7783 - val_loss: 598.8732 - val_mae: 589.5042\n",
      "Epoch 89/100\n",
      "\u001b[1m23/23\u001b[0m \u001b[32m━━━━━━━━━━━━━━━━━━━━\u001b[0m\u001b[37m\u001b[0m \u001b[1m1s\u001b[0m 25ms/step - loss: 396.0058 - mae: 395.9987 - val_loss: 702.9014 - val_mae: 690.3688\n",
      "Epoch 90/100\n",
      "\u001b[1m23/23\u001b[0m \u001b[32m━━━━━━━━━━━━━━━━━━━━\u001b[0m\u001b[37m\u001b[0m \u001b[1m1s\u001b[0m 25ms/step - loss: 432.5590 - mae: 432.5359 - val_loss: 395.0642 - val_mae: 395.5146\n",
      "Epoch 91/100\n",
      "\u001b[1m23/23\u001b[0m \u001b[32m━━━━━━━━━━━━━━━━━━━━\u001b[0m\u001b[37m\u001b[0m \u001b[1m1s\u001b[0m 24ms/step - loss: 402.7637 - mae: 402.7243 - val_loss: 448.8499 - val_mae: 453.5620\n",
      "Epoch 92/100\n",
      "\u001b[1m23/23\u001b[0m \u001b[32m━━━━━━━━━━━━━━━━━━━━\u001b[0m\u001b[37m\u001b[0m \u001b[1m1s\u001b[0m 23ms/step - loss: 389.3056 - mae: 389.3653 - val_loss: 602.4977 - val_mae: 607.6702\n",
      "Epoch 93/100\n",
      "\u001b[1m23/23\u001b[0m \u001b[32m━━━━━━━━━━━━━━━━━━━━\u001b[0m\u001b[37m\u001b[0m \u001b[1m1s\u001b[0m 23ms/step - loss: 377.6772 - mae: 377.6666 - val_loss: 426.8081 - val_mae: 425.3922\n",
      "Epoch 94/100\n",
      "\u001b[1m23/23\u001b[0m \u001b[32m━━━━━━━━━━━━━━━━━━━━\u001b[0m\u001b[37m\u001b[0m \u001b[1m1s\u001b[0m 23ms/step - loss: 394.6182 - mae: 394.7014 - val_loss: 532.6855 - val_mae: 526.5018\n",
      "Epoch 95/100\n",
      "\u001b[1m23/23\u001b[0m \u001b[32m━━━━━━━━━━━━━━━━━━━━\u001b[0m\u001b[37m\u001b[0m \u001b[1m1s\u001b[0m 21ms/step - loss: 402.0208 - mae: 401.9467 - val_loss: 607.2558 - val_mae: 597.7405\n",
      "Epoch 96/100\n",
      "\u001b[1m23/23\u001b[0m \u001b[32m━━━━━━━━━━━━━━━━━━━━\u001b[0m\u001b[37m\u001b[0m \u001b[1m1s\u001b[0m 24ms/step - loss: 394.9288 - mae: 394.9352 - val_loss: 452.3004 - val_mae: 457.0442\n",
      "Epoch 97/100\n",
      "\u001b[1m23/23\u001b[0m \u001b[32m━━━━━━━━━━━━━━━━━━━━\u001b[0m\u001b[37m\u001b[0m \u001b[1m1s\u001b[0m 25ms/step - loss: 399.5361 - mae: 399.5405 - val_loss: 442.6932 - val_mae: 447.3057\n",
      "Epoch 98/100\n",
      "\u001b[1m23/23\u001b[0m \u001b[32m━━━━━━━━━━━━━━━━━━━━\u001b[0m\u001b[37m\u001b[0m \u001b[1m1s\u001b[0m 24ms/step - loss: 422.7438 - mae: 422.8592 - val_loss: 681.8310 - val_mae: 670.1732\n",
      "Epoch 99/100\n",
      "\u001b[1m23/23\u001b[0m \u001b[32m━━━━━━━━━━━━━━━━━━━━\u001b[0m\u001b[37m\u001b[0m \u001b[1m1s\u001b[0m 28ms/step - loss: 425.1565 - mae: 425.2087 - val_loss: 1186.4596 - val_mae: 1188.7776\n",
      "Epoch 100/100\n",
      "\u001b[1m23/23\u001b[0m \u001b[32m━━━━━━━━━━━━━━━━━━━━\u001b[0m\u001b[37m\u001b[0m \u001b[1m1s\u001b[0m 23ms/step - loss: 516.2438 - mae: 516.2717 - val_loss: 391.5392 - val_mae: 392.5276\n"
     ]
    },
    {
     "data": {
      "text/plain": [
       "<keras.src.callbacks.history.History at 0x2450badfbd0>"
      ]
     },
     "execution_count": 56,
     "metadata": {},
     "output_type": "execute_result"
    }
   ],
   "source": [
    "model_4.fit(train_windows, train_labels, epochs=100, batch_size=128, validation_data=(test_windows, test_labels))"
   ]
  },
  {
   "cell_type": "code",
   "execution_count": 57,
   "metadata": {
    "colab": {
     "base_uri": "https://localhost:8080/"
    },
    "id": "qrK_fcjCmHJe",
    "outputId": "ddfaa268-a5b0-4116-cf79-e5a44a1dadf1"
   },
   "outputs": [
    {
     "name": "stdout",
     "output_type": "stream",
     "text": [
      "\u001b[1m11/11\u001b[0m \u001b[32m━━━━━━━━━━━━━━━━━━━━\u001b[0m\u001b[37m\u001b[0m \u001b[1m0s\u001b[0m 4ms/step - loss: 388.9699 - mae: 369.7593 \n"
     ]
    },
    {
     "data": {
      "text/plain": [
       "[507.79119873046875, 392.52752685546875]"
      ]
     },
     "execution_count": 57,
     "metadata": {},
     "output_type": "execute_result"
    }
   ],
   "source": [
    "model_4.evaluate(test_windows, test_labels)"
   ]
  },
  {
   "cell_type": "markdown",
   "metadata": {
    "id": "ufVkgqUtpuCj"
   },
   "source": [
    "## Making Multivariate dataset"
   ]
  },
  {
   "cell_type": "code",
   "execution_count": 58,
   "metadata": {
    "colab": {
     "base_uri": "https://localhost:8080/",
     "height": 269
    },
    "id": "rSNU1OKAoWTa",
    "outputId": "c082a08f-060d-42bf-c5e3-9bffa475dd2a"
   },
   "outputs": [
    {
     "data": {
      "text/html": [
       "<div>\n",
       "<style scoped>\n",
       "    .dataframe tbody tr th:only-of-type {\n",
       "        vertical-align: middle;\n",
       "    }\n",
       "\n",
       "    .dataframe tbody tr th {\n",
       "        vertical-align: top;\n",
       "    }\n",
       "\n",
       "    .dataframe thead th {\n",
       "        text-align: right;\n",
       "    }\n",
       "</style>\n",
       "<table border=\"1\" class=\"dataframe\">\n",
       "  <thead>\n",
       "    <tr style=\"text-align: right;\">\n",
       "      <th></th>\n",
       "      <th>Close</th>\n",
       "    </tr>\n",
       "    <tr>\n",
       "      <th>Date</th>\n",
       "      <th></th>\n",
       "    </tr>\n",
       "  </thead>\n",
       "  <tbody>\n",
       "    <tr>\n",
       "      <th>2014-12-09</th>\n",
       "      <td>352.218994</td>\n",
       "    </tr>\n",
       "    <tr>\n",
       "      <th>2014-12-10</th>\n",
       "      <td>346.364990</td>\n",
       "    </tr>\n",
       "    <tr>\n",
       "      <th>2014-12-11</th>\n",
       "      <td>350.506012</td>\n",
       "    </tr>\n",
       "    <tr>\n",
       "      <th>2014-12-12</th>\n",
       "      <td>352.541992</td>\n",
       "    </tr>\n",
       "    <tr>\n",
       "      <th>2014-12-13</th>\n",
       "      <td>347.376007</td>\n",
       "    </tr>\n",
       "    <tr>\n",
       "      <th>2014-12-14</th>\n",
       "      <td>351.631989</td>\n",
       "    </tr>\n",
       "  </tbody>\n",
       "</table>\n",
       "</div>"
      ],
      "text/plain": [
       "                 Close\n",
       "Date                  \n",
       "2014-12-09  352.218994\n",
       "2014-12-10  346.364990\n",
       "2014-12-11  350.506012\n",
       "2014-12-12  352.541992\n",
       "2014-12-13  347.376007\n",
       "2014-12-14  351.631989"
      ]
     },
     "execution_count": 58,
     "metadata": {},
     "output_type": "execute_result"
    }
   ],
   "source": [
    "df.head(6)"
   ]
  },
  {
   "cell_type": "code",
   "execution_count": 59,
   "metadata": {
    "id": "OTQIrZpTrHyx"
   },
   "outputs": [],
   "source": [
    "block_reward_1 = 25     #8th Nov 2012\n",
    "block_reward_2 = 12.5   #9th Jul 2016\n",
    "block_reward_3 = 6.25   #18th May 2020\n",
    "block_reward_4 = 3.125  #20th April 2024"
   ]
  },
  {
   "cell_type": "code",
   "execution_count": 60,
   "metadata": {
    "id": "VzSDN0mLuj9y"
   },
   "outputs": [
    {
     "name": "stderr",
     "output_type": "stream",
     "text": [
      "C:\\Users\\X\\AppData\\Local\\Temp\\ipykernel_6688\\3807077206.py:5: FutureWarning: Setting an item of incompatible dtype is deprecated and will raise in a future error of pandas. Value '12.5' has dtype incompatible with int64, please explicitly cast to a compatible dtype first.\n",
      "  df.loc[(df.index > '2016-07-09') & (df.index <= '2020-05-18'), 'block_reward'] = block_reward_2\n"
     ]
    }
   ],
   "source": [
    "import datetime\n",
    "\n",
    "df['block_reward'] = 0\n",
    "df.loc[(df.index > '2012-11-08') & (df.index <= '2016-07-09'), 'block_reward'] = block_reward_1\n",
    "df.loc[(df.index > '2016-07-09') & (df.index <= '2020-05-18'), 'block_reward'] = block_reward_2\n",
    "df.loc[(df.index > '2020-05-18') & (df.index <= '2024-04-20'), 'block_reward'] = block_reward_3"
   ]
  },
  {
   "cell_type": "code",
   "execution_count": 61,
   "metadata": {
    "colab": {
     "base_uri": "https://localhost:8080/",
     "height": 237
    },
    "id": "1R3bynG7vr0K",
    "outputId": "9b84a848-322e-4283-bee1-8ffd7ca912ec"
   },
   "outputs": [
    {
     "data": {
      "text/html": [
       "<div>\n",
       "<style scoped>\n",
       "    .dataframe tbody tr th:only-of-type {\n",
       "        vertical-align: middle;\n",
       "    }\n",
       "\n",
       "    .dataframe tbody tr th {\n",
       "        vertical-align: top;\n",
       "    }\n",
       "\n",
       "    .dataframe thead th {\n",
       "        text-align: right;\n",
       "    }\n",
       "</style>\n",
       "<table border=\"1\" class=\"dataframe\">\n",
       "  <thead>\n",
       "    <tr style=\"text-align: right;\">\n",
       "      <th></th>\n",
       "      <th>Close</th>\n",
       "      <th>block_reward</th>\n",
       "    </tr>\n",
       "    <tr>\n",
       "      <th>Date</th>\n",
       "      <th></th>\n",
       "      <th></th>\n",
       "    </tr>\n",
       "  </thead>\n",
       "  <tbody>\n",
       "    <tr>\n",
       "      <th>2014-12-09</th>\n",
       "      <td>352.218994</td>\n",
       "      <td>25.0</td>\n",
       "    </tr>\n",
       "    <tr>\n",
       "      <th>2014-12-10</th>\n",
       "      <td>346.364990</td>\n",
       "      <td>25.0</td>\n",
       "    </tr>\n",
       "    <tr>\n",
       "      <th>2014-12-11</th>\n",
       "      <td>350.506012</td>\n",
       "      <td>25.0</td>\n",
       "    </tr>\n",
       "    <tr>\n",
       "      <th>2014-12-12</th>\n",
       "      <td>352.541992</td>\n",
       "      <td>25.0</td>\n",
       "    </tr>\n",
       "    <tr>\n",
       "      <th>2014-12-13</th>\n",
       "      <td>347.376007</td>\n",
       "      <td>25.0</td>\n",
       "    </tr>\n",
       "  </tbody>\n",
       "</table>\n",
       "</div>"
      ],
      "text/plain": [
       "                 Close  block_reward\n",
       "Date                                \n",
       "2014-12-09  352.218994          25.0\n",
       "2014-12-10  346.364990          25.0\n",
       "2014-12-11  350.506012          25.0\n",
       "2014-12-12  352.541992          25.0\n",
       "2014-12-13  347.376007          25.0"
      ]
     },
     "execution_count": 61,
     "metadata": {},
     "output_type": "execute_result"
    }
   ],
   "source": [
    "df.head()"
   ]
  },
  {
   "cell_type": "code",
   "execution_count": 62,
   "metadata": {
    "colab": {
     "base_uri": "https://localhost:8080/",
     "height": 237
    },
    "id": "Or0NmT-cvPL6",
    "outputId": "6ba7f730-3aec-4eda-a77d-9a025d950552"
   },
   "outputs": [
    {
     "data": {
      "text/html": [
       "<div>\n",
       "<style scoped>\n",
       "    .dataframe tbody tr th:only-of-type {\n",
       "        vertical-align: middle;\n",
       "    }\n",
       "\n",
       "    .dataframe tbody tr th {\n",
       "        vertical-align: top;\n",
       "    }\n",
       "\n",
       "    .dataframe thead th {\n",
       "        text-align: right;\n",
       "    }\n",
       "</style>\n",
       "<table border=\"1\" class=\"dataframe\">\n",
       "  <thead>\n",
       "    <tr style=\"text-align: right;\">\n",
       "      <th></th>\n",
       "      <th>Close</th>\n",
       "      <th>block_reward</th>\n",
       "    </tr>\n",
       "    <tr>\n",
       "      <th>Date</th>\n",
       "      <th></th>\n",
       "      <th></th>\n",
       "    </tr>\n",
       "  </thead>\n",
       "  <tbody>\n",
       "    <tr>\n",
       "      <th>2024-04-09</th>\n",
       "      <td>69139.015625</td>\n",
       "      <td>6.25</td>\n",
       "    </tr>\n",
       "    <tr>\n",
       "      <th>2024-04-10</th>\n",
       "      <td>70587.882813</td>\n",
       "      <td>6.25</td>\n",
       "    </tr>\n",
       "    <tr>\n",
       "      <th>2024-04-11</th>\n",
       "      <td>70060.609375</td>\n",
       "      <td>6.25</td>\n",
       "    </tr>\n",
       "    <tr>\n",
       "      <th>2024-04-12</th>\n",
       "      <td>67195.867188</td>\n",
       "      <td>6.25</td>\n",
       "    </tr>\n",
       "    <tr>\n",
       "      <th>2024-04-13</th>\n",
       "      <td>66972.726563</td>\n",
       "      <td>6.25</td>\n",
       "    </tr>\n",
       "  </tbody>\n",
       "</table>\n",
       "</div>"
      ],
      "text/plain": [
       "                   Close  block_reward\n",
       "Date                                  \n",
       "2024-04-09  69139.015625          6.25\n",
       "2024-04-10  70587.882813          6.25\n",
       "2024-04-11  70060.609375          6.25\n",
       "2024-04-12  67195.867188          6.25\n",
       "2024-04-13  66972.726563          6.25"
      ]
     },
     "execution_count": 62,
     "metadata": {},
     "output_type": "execute_result"
    }
   ],
   "source": [
    "df.tail()"
   ]
  },
  {
   "cell_type": "code",
   "execution_count": 63,
   "metadata": {
    "colab": {
     "base_uri": "https://localhost:8080/",
     "height": 545
    },
    "id": "yAsgcJ-Atzbg",
    "outputId": "4030ca92-2a78-43c6-98d3-97d4bf1a2e45"
   },
   "outputs": [
    {
     "data": {
      "image/png": "[encoded data removed]",
      "text/plain": [
       "<Figure size 1200x600 with 2 Axes>"
      ]
     },
     "metadata": {},
     "output_type": "display_data"
    }
   ],
   "source": [
    "fig, ax1 = plt.subplots(figsize=(12, 6))\n",
    "\n",
    "ax1.plot(df.index, df.Close, color='red', label='Price')\n",
    "ax1.set_ylabel('Price', color='red')\n",
    "ax1.tick_params(axis='y', labelcolor='red')\n",
    "\n",
    "ax2 = ax1.twinx()\n",
    "ax2.plot(df.index, df.block_reward, color='blue', label='Block Reward')\n",
    "ax2.set_ylabel('Block Reward', color='blue')\n",
    "ax2.tick_params(axis='y', labelcolor='blue')\n",
    "\n",
    "plt.title('BTC-USD Price and Block Reward')\n",
    "plt.xlabel('Date')\n",
    "plt.grid(True)\n",
    "plt.legend()\n",
    "plt.show()"
   ]
  },
  {
   "cell_type": "markdown",
   "metadata": {
    "id": "9OcJ5aFTw7GD"
   },
   "source": [
    "## Making windowed dataset for Multivariate data\n",
    "with `pandas shift method`"
   ]
  },
  {
   "cell_type": "code",
   "execution_count": 64,
   "metadata": {
    "id": "Jd0-ieQlwAxH"
   },
   "outputs": [],
   "source": [
    "df_windowed = df.copy()"
   ]
  },
  {
   "cell_type": "code",
   "execution_count": 65,
   "metadata": {
    "colab": {
     "base_uri": "https://localhost:8080/",
     "height": 237
    },
    "id": "Vetkd8JaxxZV",
    "outputId": "06270acd-772a-4ffe-aa91-ffa51d080894"
   },
   "outputs": [
    {
     "data": {
      "text/html": [
       "<div>\n",
       "<style scoped>\n",
       "    .dataframe tbody tr th:only-of-type {\n",
       "        vertical-align: middle;\n",
       "    }\n",
       "\n",
       "    .dataframe tbody tr th {\n",
       "        vertical-align: top;\n",
       "    }\n",
       "\n",
       "    .dataframe thead th {\n",
       "        text-align: right;\n",
       "    }\n",
       "</style>\n",
       "<table border=\"1\" class=\"dataframe\">\n",
       "  <thead>\n",
       "    <tr style=\"text-align: right;\">\n",
       "      <th></th>\n",
       "      <th>Close</th>\n",
       "      <th>block_reward</th>\n",
       "    </tr>\n",
       "    <tr>\n",
       "      <th>Date</th>\n",
       "      <th></th>\n",
       "      <th></th>\n",
       "    </tr>\n",
       "  </thead>\n",
       "  <tbody>\n",
       "    <tr>\n",
       "      <th>2014-12-09</th>\n",
       "      <td>352.218994</td>\n",
       "      <td>25.0</td>\n",
       "    </tr>\n",
       "    <tr>\n",
       "      <th>2014-12-10</th>\n",
       "      <td>346.364990</td>\n",
       "      <td>25.0</td>\n",
       "    </tr>\n",
       "    <tr>\n",
       "      <th>2014-12-11</th>\n",
       "      <td>350.506012</td>\n",
       "      <td>25.0</td>\n",
       "    </tr>\n",
       "    <tr>\n",
       "      <th>2014-12-12</th>\n",
       "      <td>352.541992</td>\n",
       "      <td>25.0</td>\n",
       "    </tr>\n",
       "    <tr>\n",
       "      <th>2014-12-13</th>\n",
       "      <td>347.376007</td>\n",
       "      <td>25.0</td>\n",
       "    </tr>\n",
       "  </tbody>\n",
       "</table>\n",
       "</div>"
      ],
      "text/plain": [
       "                 Close  block_reward\n",
       "Date                                \n",
       "2014-12-09  352.218994          25.0\n",
       "2014-12-10  346.364990          25.0\n",
       "2014-12-11  350.506012          25.0\n",
       "2014-12-12  352.541992          25.0\n",
       "2014-12-13  347.376007          25.0"
      ]
     },
     "execution_count": 65,
     "metadata": {},
     "output_type": "execute_result"
    }
   ],
   "source": [
    "df_windowed.head()"
   ]
  },
  {
   "cell_type": "code",
   "execution_count": 66,
   "metadata": {
    "id": "RxnQtCBpxzaB"
   },
   "outputs": [],
   "source": [
    "for i in range(WINDOW_SIZE):\n",
    "  df_windowed[f\"Price+{i+1}\"] = df_windowed[\"Close\"].shift(periods=i+1)"
   ]
  },
  {
   "cell_type": "code",
   "execution_count": 67,
   "metadata": {
    "colab": {
     "base_uri": "https://localhost:8080/",
     "height": 588
    },
    "id": "gS-tBLjdzGYC",
    "outputId": "5445954a-084d-41a9-9b2e-482c4d5bffb3"
   },
   "outputs": [
    {
     "data": {
      "text/html": [
       "<div>\n",
       "<style scoped>\n",
       "    .dataframe tbody tr th:only-of-type {\n",
       "        vertical-align: middle;\n",
       "    }\n",
       "\n",
       "    .dataframe tbody tr th {\n",
       "        vertical-align: top;\n",
       "    }\n",
       "\n",
       "    .dataframe thead th {\n",
       "        text-align: right;\n",
       "    }\n",
       "</style>\n",
       "<table border=\"1\" class=\"dataframe\">\n",
       "  <thead>\n",
       "    <tr style=\"text-align: right;\">\n",
       "      <th></th>\n",
       "      <th>Close</th>\n",
       "      <th>block_reward</th>\n",
       "      <th>Price+1</th>\n",
       "      <th>Price+2</th>\n",
       "      <th>Price+3</th>\n",
       "      <th>Price+4</th>\n",
       "      <th>Price+5</th>\n",
       "      <th>Price+6</th>\n",
       "      <th>Price+7</th>\n",
       "      <th>Price+8</th>\n",
       "      <th>Price+9</th>\n",
       "      <th>Price+10</th>\n",
       "      <th>Price+11</th>\n",
       "      <th>Price+12</th>\n",
       "      <th>Price+13</th>\n",
       "      <th>Price+14</th>\n",
       "    </tr>\n",
       "    <tr>\n",
       "      <th>Date</th>\n",
       "      <th></th>\n",
       "      <th></th>\n",
       "      <th></th>\n",
       "      <th></th>\n",
       "      <th></th>\n",
       "      <th></th>\n",
       "      <th></th>\n",
       "      <th></th>\n",
       "      <th></th>\n",
       "      <th></th>\n",
       "      <th></th>\n",
       "      <th></th>\n",
       "      <th></th>\n",
       "      <th></th>\n",
       "      <th></th>\n",
       "      <th></th>\n",
       "    </tr>\n",
       "  </thead>\n",
       "  <tbody>\n",
       "    <tr>\n",
       "      <th>2014-12-09</th>\n",
       "      <td>352.218994</td>\n",
       "      <td>25.0</td>\n",
       "      <td>NaN</td>\n",
       "      <td>NaN</td>\n",
       "      <td>NaN</td>\n",
       "      <td>NaN</td>\n",
       "      <td>NaN</td>\n",
       "      <td>NaN</td>\n",
       "      <td>NaN</td>\n",
       "      <td>NaN</td>\n",
       "      <td>NaN</td>\n",
       "      <td>NaN</td>\n",
       "      <td>NaN</td>\n",
       "      <td>NaN</td>\n",
       "      <td>NaN</td>\n",
       "      <td>NaN</td>\n",
       "    </tr>\n",
       "    <tr>\n",
       "      <th>2014-12-10</th>\n",
       "      <td>346.364990</td>\n",
       "      <td>25.0</td>\n",
       "      <td>352.218994</td>\n",
       "      <td>NaN</td>\n",
       "      <td>NaN</td>\n",
       "      <td>NaN</td>\n",
       "      <td>NaN</td>\n",
       "      <td>NaN</td>\n",
       "      <td>NaN</td>\n",
       "      <td>NaN</td>\n",
       "      <td>NaN</td>\n",
       "      <td>NaN</td>\n",
       "      <td>NaN</td>\n",
       "      <td>NaN</td>\n",
       "      <td>NaN</td>\n",
       "      <td>NaN</td>\n",
       "    </tr>\n",
       "    <tr>\n",
       "      <th>2014-12-11</th>\n",
       "      <td>350.506012</td>\n",
       "      <td>25.0</td>\n",
       "      <td>346.364990</td>\n",
       "      <td>352.218994</td>\n",
       "      <td>NaN</td>\n",
       "      <td>NaN</td>\n",
       "      <td>NaN</td>\n",
       "      <td>NaN</td>\n",
       "      <td>NaN</td>\n",
       "      <td>NaN</td>\n",
       "      <td>NaN</td>\n",
       "      <td>NaN</td>\n",
       "      <td>NaN</td>\n",
       "      <td>NaN</td>\n",
       "      <td>NaN</td>\n",
       "      <td>NaN</td>\n",
       "    </tr>\n",
       "    <tr>\n",
       "      <th>2014-12-12</th>\n",
       "      <td>352.541992</td>\n",
       "      <td>25.0</td>\n",
       "      <td>350.506012</td>\n",
       "      <td>346.364990</td>\n",
       "      <td>352.218994</td>\n",
       "      <td>NaN</td>\n",
       "      <td>NaN</td>\n",
       "      <td>NaN</td>\n",
       "      <td>NaN</td>\n",
       "      <td>NaN</td>\n",
       "      <td>NaN</td>\n",
       "      <td>NaN</td>\n",
       "      <td>NaN</td>\n",
       "      <td>NaN</td>\n",
       "      <td>NaN</td>\n",
       "      <td>NaN</td>\n",
       "    </tr>\n",
       "    <tr>\n",
       "      <th>2014-12-13</th>\n",
       "      <td>347.376007</td>\n",
       "      <td>25.0</td>\n",
       "      <td>352.541992</td>\n",
       "      <td>350.506012</td>\n",
       "      <td>346.364990</td>\n",
       "      <td>352.218994</td>\n",
       "      <td>NaN</td>\n",
       "      <td>NaN</td>\n",
       "      <td>NaN</td>\n",
       "      <td>NaN</td>\n",
       "      <td>NaN</td>\n",
       "      <td>NaN</td>\n",
       "      <td>NaN</td>\n",
       "      <td>NaN</td>\n",
       "      <td>NaN</td>\n",
       "      <td>NaN</td>\n",
       "    </tr>\n",
       "    <tr>\n",
       "      <th>2014-12-14</th>\n",
       "      <td>351.631989</td>\n",
       "      <td>25.0</td>\n",
       "      <td>347.376007</td>\n",
       "      <td>352.541992</td>\n",
       "      <td>350.506012</td>\n",
       "      <td>346.364990</td>\n",
       "      <td>352.218994</td>\n",
       "      <td>NaN</td>\n",
       "      <td>NaN</td>\n",
       "      <td>NaN</td>\n",
       "      <td>NaN</td>\n",
       "      <td>NaN</td>\n",
       "      <td>NaN</td>\n",
       "      <td>NaN</td>\n",
       "      <td>NaN</td>\n",
       "      <td>NaN</td>\n",
       "    </tr>\n",
       "    <tr>\n",
       "      <th>2014-12-15</th>\n",
       "      <td>345.345001</td>\n",
       "      <td>25.0</td>\n",
       "      <td>351.631989</td>\n",
       "      <td>347.376007</td>\n",
       "      <td>352.541992</td>\n",
       "      <td>350.506012</td>\n",
       "      <td>346.364990</td>\n",
       "      <td>352.218994</td>\n",
       "      <td>NaN</td>\n",
       "      <td>NaN</td>\n",
       "      <td>NaN</td>\n",
       "      <td>NaN</td>\n",
       "      <td>NaN</td>\n",
       "      <td>NaN</td>\n",
       "      <td>NaN</td>\n",
       "      <td>NaN</td>\n",
       "    </tr>\n",
       "    <tr>\n",
       "      <th>2014-12-16</th>\n",
       "      <td>327.062012</td>\n",
       "      <td>25.0</td>\n",
       "      <td>345.345001</td>\n",
       "      <td>351.631989</td>\n",
       "      <td>347.376007</td>\n",
       "      <td>352.541992</td>\n",
       "      <td>350.506012</td>\n",
       "      <td>346.364990</td>\n",
       "      <td>352.218994</td>\n",
       "      <td>NaN</td>\n",
       "      <td>NaN</td>\n",
       "      <td>NaN</td>\n",
       "      <td>NaN</td>\n",
       "      <td>NaN</td>\n",
       "      <td>NaN</td>\n",
       "      <td>NaN</td>\n",
       "    </tr>\n",
       "    <tr>\n",
       "      <th>2014-12-17</th>\n",
       "      <td>319.776001</td>\n",
       "      <td>25.0</td>\n",
       "      <td>327.062012</td>\n",
       "      <td>345.345001</td>\n",
       "      <td>351.631989</td>\n",
       "      <td>347.376007</td>\n",
       "      <td>352.541992</td>\n",
       "      <td>350.506012</td>\n",
       "      <td>346.364990</td>\n",
       "      <td>352.218994</td>\n",
       "      <td>NaN</td>\n",
       "      <td>NaN</td>\n",
       "      <td>NaN</td>\n",
       "      <td>NaN</td>\n",
       "      <td>NaN</td>\n",
       "      <td>NaN</td>\n",
       "    </tr>\n",
       "    <tr>\n",
       "      <th>2014-12-18</th>\n",
       "      <td>311.395996</td>\n",
       "      <td>25.0</td>\n",
       "      <td>319.776001</td>\n",
       "      <td>327.062012</td>\n",
       "      <td>345.345001</td>\n",
       "      <td>351.631989</td>\n",
       "      <td>347.376007</td>\n",
       "      <td>352.541992</td>\n",
       "      <td>350.506012</td>\n",
       "      <td>346.364990</td>\n",
       "      <td>352.218994</td>\n",
       "      <td>NaN</td>\n",
       "      <td>NaN</td>\n",
       "      <td>NaN</td>\n",
       "      <td>NaN</td>\n",
       "      <td>NaN</td>\n",
       "    </tr>\n",
       "  </tbody>\n",
       "</table>\n",
       "</div>"
      ],
      "text/plain": [
       "                 Close  block_reward     Price+1     Price+2     Price+3  \\\n",
       "Date                                                                       \n",
       "2014-12-09  352.218994          25.0         NaN         NaN         NaN   \n",
       "2014-12-10  346.364990          25.0  352.218994         NaN         NaN   \n",
       "2014-12-11  350.506012          25.0  346.364990  352.218994         NaN   \n",
       "2014-12-12  352.541992          25.0  350.506012  346.364990  352.218994   \n",
       "2014-12-13  347.376007          25.0  352.541992  350.506012  346.364990   \n",
       "2014-12-14  351.631989          25.0  347.376007  352.541992  350.506012   \n",
       "2014-12-15  345.345001          25.0  351.631989  347.376007  352.541992   \n",
       "2014-12-16  327.062012          25.0  345.345001  351.631989  347.376007   \n",
       "2014-12-17  319.776001          25.0  327.062012  345.345001  351.631989   \n",
       "2014-12-18  311.395996          25.0  319.776001  327.062012  345.345001   \n",
       "\n",
       "               Price+4     Price+5     Price+6     Price+7     Price+8  \\\n",
       "Date                                                                     \n",
       "2014-12-09         NaN         NaN         NaN         NaN         NaN   \n",
       "2014-12-10         NaN         NaN         NaN         NaN         NaN   \n",
       "2014-12-11         NaN         NaN         NaN         NaN         NaN   \n",
       "2014-12-12         NaN         NaN         NaN         NaN         NaN   \n",
       "2014-12-13  352.218994         NaN         NaN         NaN         NaN   \n",
       "2014-12-14  346.364990  352.218994         NaN         NaN         NaN   \n",
       "2014-12-15  350.506012  346.364990  352.218994         NaN         NaN   \n",
       "2014-12-16  352.541992  350.506012  346.364990  352.218994         NaN   \n",
       "2014-12-17  347.376007  352.541992  350.506012  346.364990  352.218994   \n",
       "2014-12-18  351.631989  347.376007  352.541992  350.506012  346.364990   \n",
       "\n",
       "               Price+9  Price+10  Price+11  Price+12  Price+13  Price+14  \n",
       "Date                                                                      \n",
       "2014-12-09         NaN       NaN       NaN       NaN       NaN       NaN  \n",
       "2014-12-10         NaN       NaN       NaN       NaN       NaN       NaN  \n",
       "2014-12-11         NaN       NaN       NaN       NaN       NaN       NaN  \n",
       "2014-12-12         NaN       NaN       NaN       NaN       NaN       NaN  \n",
       "2014-12-13         NaN       NaN       NaN       NaN       NaN       NaN  \n",
       "2014-12-14         NaN       NaN       NaN       NaN       NaN       NaN  \n",
       "2014-12-15         NaN       NaN       NaN       NaN       NaN       NaN  \n",
       "2014-12-16         NaN       NaN       NaN       NaN       NaN       NaN  \n",
       "2014-12-17         NaN       NaN       NaN       NaN       NaN       NaN  \n",
       "2014-12-18  352.218994       NaN       NaN       NaN       NaN       NaN  "
      ]
     },
     "execution_count": 67,
     "metadata": {},
     "output_type": "execute_result"
    }
   ],
   "source": [
    "df_windowed.head(10)"
   ]
  },
  {
   "cell_type": "code",
   "execution_count": 68,
   "metadata": {
    "colab": {
     "base_uri": "https://localhost:8080/",
     "height": 344
    },
    "id": "OlYbVQgTz6NQ",
    "outputId": "bd081078-660a-4498-8e2c-a5bd284aa7fb"
   },
   "outputs": [
    {
     "data": {
      "text/html": [
       "<div>\n",
       "<style scoped>\n",
       "    .dataframe tbody tr th:only-of-type {\n",
       "        vertical-align: middle;\n",
       "    }\n",
       "\n",
       "    .dataframe tbody tr th {\n",
       "        vertical-align: top;\n",
       "    }\n",
       "\n",
       "    .dataframe thead th {\n",
       "        text-align: right;\n",
       "    }\n",
       "</style>\n",
       "<table border=\"1\" class=\"dataframe\">\n",
       "  <thead>\n",
       "    <tr style=\"text-align: right;\">\n",
       "      <th></th>\n",
       "      <th>Close</th>\n",
       "      <th>block_reward</th>\n",
       "      <th>Price+1</th>\n",
       "      <th>Price+2</th>\n",
       "      <th>Price+3</th>\n",
       "      <th>Price+4</th>\n",
       "      <th>Price+5</th>\n",
       "      <th>Price+6</th>\n",
       "      <th>Price+7</th>\n",
       "      <th>Price+8</th>\n",
       "      <th>Price+9</th>\n",
       "      <th>Price+10</th>\n",
       "      <th>Price+11</th>\n",
       "      <th>Price+12</th>\n",
       "      <th>Price+13</th>\n",
       "      <th>Price+14</th>\n",
       "    </tr>\n",
       "    <tr>\n",
       "      <th>Date</th>\n",
       "      <th></th>\n",
       "      <th></th>\n",
       "      <th></th>\n",
       "      <th></th>\n",
       "      <th></th>\n",
       "      <th></th>\n",
       "      <th></th>\n",
       "      <th></th>\n",
       "      <th></th>\n",
       "      <th></th>\n",
       "      <th></th>\n",
       "      <th></th>\n",
       "      <th></th>\n",
       "      <th></th>\n",
       "      <th></th>\n",
       "      <th></th>\n",
       "    </tr>\n",
       "  </thead>\n",
       "  <tbody>\n",
       "    <tr>\n",
       "      <th>2024-04-09</th>\n",
       "      <td>69139.015625</td>\n",
       "      <td>6.25</td>\n",
       "      <td>71631.359375</td>\n",
       "      <td>69362.554688</td>\n",
       "      <td>68896.109375</td>\n",
       "      <td>67837.640625</td>\n",
       "      <td>68508.843750</td>\n",
       "      <td>65980.812500</td>\n",
       "      <td>65446.972656</td>\n",
       "      <td>69702.148438</td>\n",
       "      <td>71333.648438</td>\n",
       "      <td>69645.304688</td>\n",
       "      <td>69892.828125</td>\n",
       "      <td>70744.953125</td>\n",
       "      <td>69455.343750</td>\n",
       "      <td>69987.835938</td>\n",
       "    </tr>\n",
       "    <tr>\n",
       "      <th>2024-04-10</th>\n",
       "      <td>70587.882813</td>\n",
       "      <td>6.25</td>\n",
       "      <td>69139.015625</td>\n",
       "      <td>71631.359375</td>\n",
       "      <td>69362.554688</td>\n",
       "      <td>68896.109375</td>\n",
       "      <td>67837.640625</td>\n",
       "      <td>68508.843750</td>\n",
       "      <td>65980.812500</td>\n",
       "      <td>65446.972656</td>\n",
       "      <td>69702.148438</td>\n",
       "      <td>71333.648438</td>\n",
       "      <td>69645.304688</td>\n",
       "      <td>69892.828125</td>\n",
       "      <td>70744.953125</td>\n",
       "      <td>69455.343750</td>\n",
       "    </tr>\n",
       "    <tr>\n",
       "      <th>2024-04-11</th>\n",
       "      <td>70060.609375</td>\n",
       "      <td>6.25</td>\n",
       "      <td>70587.882813</td>\n",
       "      <td>69139.015625</td>\n",
       "      <td>71631.359375</td>\n",
       "      <td>69362.554688</td>\n",
       "      <td>68896.109375</td>\n",
       "      <td>67837.640625</td>\n",
       "      <td>68508.843750</td>\n",
       "      <td>65980.812500</td>\n",
       "      <td>65446.972656</td>\n",
       "      <td>69702.148438</td>\n",
       "      <td>71333.648438</td>\n",
       "      <td>69645.304688</td>\n",
       "      <td>69892.828125</td>\n",
       "      <td>70744.953125</td>\n",
       "    </tr>\n",
       "    <tr>\n",
       "      <th>2024-04-12</th>\n",
       "      <td>67195.867188</td>\n",
       "      <td>6.25</td>\n",
       "      <td>70060.609375</td>\n",
       "      <td>70587.882813</td>\n",
       "      <td>69139.015625</td>\n",
       "      <td>71631.359375</td>\n",
       "      <td>69362.554688</td>\n",
       "      <td>68896.109375</td>\n",
       "      <td>67837.640625</td>\n",
       "      <td>68508.843750</td>\n",
       "      <td>65980.812500</td>\n",
       "      <td>65446.972656</td>\n",
       "      <td>69702.148438</td>\n",
       "      <td>71333.648438</td>\n",
       "      <td>69645.304688</td>\n",
       "      <td>69892.828125</td>\n",
       "    </tr>\n",
       "    <tr>\n",
       "      <th>2024-04-13</th>\n",
       "      <td>66972.726563</td>\n",
       "      <td>6.25</td>\n",
       "      <td>67195.867188</td>\n",
       "      <td>70060.609375</td>\n",
       "      <td>70587.882813</td>\n",
       "      <td>69139.015625</td>\n",
       "      <td>71631.359375</td>\n",
       "      <td>69362.554688</td>\n",
       "      <td>68896.109375</td>\n",
       "      <td>67837.640625</td>\n",
       "      <td>68508.843750</td>\n",
       "      <td>65980.812500</td>\n",
       "      <td>65446.972656</td>\n",
       "      <td>69702.148438</td>\n",
       "      <td>71333.648438</td>\n",
       "      <td>69645.304688</td>\n",
       "    </tr>\n",
       "  </tbody>\n",
       "</table>\n",
       "</div>"
      ],
      "text/plain": [
       "                   Close  block_reward       Price+1       Price+2  \\\n",
       "Date                                                                 \n",
       "2024-04-09  69139.015625          6.25  71631.359375  69362.554688   \n",
       "2024-04-10  70587.882813          6.25  69139.015625  71631.359375   \n",
       "2024-04-11  70060.609375          6.25  70587.882813  69139.015625   \n",
       "2024-04-12  67195.867188          6.25  70060.609375  70587.882813   \n",
       "2024-04-13  66972.726563          6.25  67195.867188  70060.609375   \n",
       "\n",
       "                 Price+3       Price+4       Price+5       Price+6  \\\n",
       "Date                                                                 \n",
       "2024-04-09  68896.109375  67837.640625  68508.843750  65980.812500   \n",
       "2024-04-10  69362.554688  68896.109375  67837.640625  68508.843750   \n",
       "2024-04-11  71631.359375  69362.554688  68896.109375  67837.640625   \n",
       "2024-04-12  69139.015625  71631.359375  69362.554688  68896.109375   \n",
       "2024-04-13  70587.882813  69139.015625  71631.359375  69362.554688   \n",
       "\n",
       "                 Price+7       Price+8       Price+9      Price+10  \\\n",
       "Date                                                                 \n",
       "2024-04-09  65446.972656  69702.148438  71333.648438  69645.304688   \n",
       "2024-04-10  65980.812500  65446.972656  69702.148438  71333.648438   \n",
       "2024-04-11  68508.843750  65980.812500  65446.972656  69702.148438   \n",
       "2024-04-12  67837.640625  68508.843750  65980.812500  65446.972656   \n",
       "2024-04-13  68896.109375  67837.640625  68508.843750  65980.812500   \n",
       "\n",
       "                Price+11      Price+12      Price+13      Price+14  \n",
       "Date                                                                \n",
       "2024-04-09  69892.828125  70744.953125  69455.343750  69987.835938  \n",
       "2024-04-10  69645.304688  69892.828125  70744.953125  69455.343750  \n",
       "2024-04-11  71333.648438  69645.304688  69892.828125  70744.953125  \n",
       "2024-04-12  69702.148438  71333.648438  69645.304688  69892.828125  \n",
       "2024-04-13  65446.972656  69702.148438  71333.648438  69645.304688  "
      ]
     },
     "execution_count": 68,
     "metadata": {},
     "output_type": "execute_result"
    }
   ],
   "source": [
    "df_windowed.tail()"
   ]
  },
  {
   "cell_type": "markdown",
   "metadata": {
    "id": "Cezo84gpznUM"
   },
   "source": [
    "## Creating X(Windows) and Y(Horizons)"
   ]
  },
  {
   "cell_type": "code",
   "execution_count": 69,
   "metadata": {
    "id": "evoFrtutzIv2"
   },
   "outputs": [],
   "source": [
    "X = df_windowed.dropna().drop('Close', axis=1).astype('float32') #dropping Close column bcz we have price columns now(we shifted) and now it is our target\n",
    "y = df_windowed.dropna()['Close'].astype('float32')"
   ]
  },
  {
   "cell_type": "code",
   "execution_count": 70,
   "metadata": {
    "colab": {
     "base_uri": "https://localhost:8080/",
     "height": 247
    },
    "id": "ksJb4vPl0i59",
    "outputId": "3ae5c376-248c-4594-d7bb-4d4cac7ba452"
   },
   "outputs": [
    {
     "data": {
      "text/html": [
       "<div>\n",
       "<style scoped>\n",
       "    .dataframe tbody tr th:only-of-type {\n",
       "        vertical-align: middle;\n",
       "    }\n",
       "\n",
       "    .dataframe tbody tr th {\n",
       "        vertical-align: top;\n",
       "    }\n",
       "\n",
       "    .dataframe thead th {\n",
       "        text-align: right;\n",
       "    }\n",
       "</style>\n",
       "<table border=\"1\" class=\"dataframe\">\n",
       "  <thead>\n",
       "    <tr style=\"text-align: right;\">\n",
       "      <th></th>\n",
       "      <th>block_reward</th>\n",
       "      <th>Price+1</th>\n",
       "      <th>Price+2</th>\n",
       "      <th>Price+3</th>\n",
       "      <th>Price+4</th>\n",
       "      <th>Price+5</th>\n",
       "      <th>Price+6</th>\n",
       "      <th>Price+7</th>\n",
       "      <th>Price+8</th>\n",
       "      <th>Price+9</th>\n",
       "      <th>Price+10</th>\n",
       "      <th>Price+11</th>\n",
       "      <th>Price+12</th>\n",
       "      <th>Price+13</th>\n",
       "      <th>Price+14</th>\n",
       "    </tr>\n",
       "    <tr>\n",
       "      <th>Date</th>\n",
       "      <th></th>\n",
       "      <th></th>\n",
       "      <th></th>\n",
       "      <th></th>\n",
       "      <th></th>\n",
       "      <th></th>\n",
       "      <th></th>\n",
       "      <th></th>\n",
       "      <th></th>\n",
       "      <th></th>\n",
       "      <th></th>\n",
       "      <th></th>\n",
       "      <th></th>\n",
       "      <th></th>\n",
       "      <th></th>\n",
       "    </tr>\n",
       "  </thead>\n",
       "  <tbody>\n",
       "    <tr>\n",
       "      <th>2014-12-23</th>\n",
       "      <td>25.0</td>\n",
       "      <td>331.885986</td>\n",
       "      <td>320.842987</td>\n",
       "      <td>329.955994</td>\n",
       "      <td>317.842987</td>\n",
       "      <td>311.395996</td>\n",
       "      <td>319.776001</td>\n",
       "      <td>327.062012</td>\n",
       "      <td>345.345001</td>\n",
       "      <td>351.631989</td>\n",
       "      <td>347.376007</td>\n",
       "      <td>352.541992</td>\n",
       "      <td>350.506012</td>\n",
       "      <td>346.364990</td>\n",
       "      <td>352.218994</td>\n",
       "    </tr>\n",
       "    <tr>\n",
       "      <th>2014-12-24</th>\n",
       "      <td>25.0</td>\n",
       "      <td>334.571991</td>\n",
       "      <td>331.885986</td>\n",
       "      <td>320.842987</td>\n",
       "      <td>329.955994</td>\n",
       "      <td>317.842987</td>\n",
       "      <td>311.395996</td>\n",
       "      <td>319.776001</td>\n",
       "      <td>327.062012</td>\n",
       "      <td>345.345001</td>\n",
       "      <td>351.631989</td>\n",
       "      <td>347.376007</td>\n",
       "      <td>352.541992</td>\n",
       "      <td>350.506012</td>\n",
       "      <td>346.364990</td>\n",
       "    </tr>\n",
       "    <tr>\n",
       "      <th>2014-12-25</th>\n",
       "      <td>25.0</td>\n",
       "      <td>322.533997</td>\n",
       "      <td>334.571991</td>\n",
       "      <td>331.885986</td>\n",
       "      <td>320.842987</td>\n",
       "      <td>329.955994</td>\n",
       "      <td>317.842987</td>\n",
       "      <td>311.395996</td>\n",
       "      <td>319.776001</td>\n",
       "      <td>327.062012</td>\n",
       "      <td>345.345001</td>\n",
       "      <td>351.631989</td>\n",
       "      <td>347.376007</td>\n",
       "      <td>352.541992</td>\n",
       "      <td>350.506012</td>\n",
       "    </tr>\n",
       "  </tbody>\n",
       "</table>\n",
       "</div>"
      ],
      "text/plain": [
       "            block_reward     Price+1     Price+2     Price+3     Price+4  \\\n",
       "Date                                                                       \n",
       "2014-12-23          25.0  331.885986  320.842987  329.955994  317.842987   \n",
       "2014-12-24          25.0  334.571991  331.885986  320.842987  329.955994   \n",
       "2014-12-25          25.0  322.533997  334.571991  331.885986  320.842987   \n",
       "\n",
       "               Price+5     Price+6     Price+7     Price+8     Price+9  \\\n",
       "Date                                                                     \n",
       "2014-12-23  311.395996  319.776001  327.062012  345.345001  351.631989   \n",
       "2014-12-24  317.842987  311.395996  319.776001  327.062012  345.345001   \n",
       "2014-12-25  329.955994  317.842987  311.395996  319.776001  327.062012   \n",
       "\n",
       "              Price+10    Price+11    Price+12    Price+13    Price+14  \n",
       "Date                                                                    \n",
       "2014-12-23  347.376007  352.541992  350.506012  346.364990  352.218994  \n",
       "2014-12-24  351.631989  347.376007  352.541992  350.506012  346.364990  \n",
       "2014-12-25  345.345001  351.631989  347.376007  352.541992  350.506012  "
      ]
     },
     "execution_count": 70,
     "metadata": {},
     "output_type": "execute_result"
    }
   ],
   "source": [
    "X.head(3)"
   ]
  },
  {
   "cell_type": "code",
   "execution_count": 71,
   "metadata": {
    "colab": {
     "base_uri": "https://localhost:8080/"
    },
    "id": "2dBgsrB10kv6",
    "outputId": "77d7a5f5-7951-42e1-8980-8db5a499bd1c"
   },
   "outputs": [
    {
     "data": {
      "text/plain": [
       "Date\n",
       "2014-12-23    334.571991\n",
       "2014-12-24    322.533997\n",
       "2014-12-25    319.007996\n",
       "Name: Close, dtype: float32"
      ]
     },
     "execution_count": 71,
     "metadata": {},
     "output_type": "execute_result"
    }
   ],
   "source": [
    "y.head(3)"
   ]
  },
  {
   "cell_type": "markdown",
   "metadata": {
    "id": "L7Lz6ZGe1NoU"
   },
   "source": [
    "## Splitting data to Train/Test sets"
   ]
  },
  {
   "cell_type": "code",
   "execution_count": 72,
   "metadata": {
    "colab": {
     "base_uri": "https://localhost:8080/"
    },
    "id": "HpN-GhRU002r",
    "outputId": "ebebbf3f-ac43-428a-8fed-51bf4befa482"
   },
   "outputs": [
    {
     "data": {
      "text/plain": [
       "3060"
      ]
     },
     "execution_count": 72,
     "metadata": {},
     "output_type": "execute_result"
    }
   ],
   "source": [
    "SPLIT_SIZE = int(len(X)*0.9)\n",
    "SPLIT_SIZE"
   ]
  },
  {
   "cell_type": "code",
   "execution_count": 73,
   "metadata": {
    "id": "2Xt172VU1SRM"
   },
   "outputs": [],
   "source": [
    "X_train = X[:SPLIT_SIZE]\n",
    "y_train = y[:SPLIT_SIZE]"
   ]
  },
  {
   "cell_type": "code",
   "execution_count": 74,
   "metadata": {
    "id": "i6j-1EQw1eHT"
   },
   "outputs": [],
   "source": [
    "X_test = X[SPLIT_SIZE:]\n",
    "y_test = y[SPLIT_SIZE:]"
   ]
  },
  {
   "cell_type": "markdown",
   "metadata": {
    "id": "URoiDf0d6zsY"
   },
   "source": [
    "## Multi inputs model"
   ]
  },
  {
   "cell_type": "code",
   "execution_count": 78,
   "metadata": {
    "id": "MI0-guEi6T-x"
   },
   "outputs": [],
   "source": [
    "input_1 = X_train['block_reward'].values\n",
    "input_2 = X_train.drop('block_reward', axis=1).values"
   ]
  },
  {
   "cell_type": "code",
   "execution_count": 79,
   "metadata": {
    "colab": {
     "base_uri": "https://localhost:8080/"
    },
    "id": "9KFqo7_j67GW",
    "outputId": "e426659c-c266-4c04-c3b1-74e249b7d7e6"
   },
   "outputs": [
    {
     "data": {
      "text/plain": [
       "((), (14,))"
      ]
     },
     "execution_count": 79,
     "metadata": {},
     "output_type": "execute_result"
    }
   ],
   "source": [
    "input_1[0].shape, input_2[0].shape"
   ]
  },
  {
   "cell_type": "code",
   "execution_count": 81,
   "metadata": {
    "colab": {
     "base_uri": "https://localhost:8080/"
    },
    "id": "cdL1-hLt4N-i",
    "outputId": "a8775035-59f2-4f48-b834-9c16c945b2df",
    "scrolled": true
   },
   "outputs": [
    {
     "ename": "ValueError",
     "evalue": "A KerasTensor cannot be used as input to a TensorFlow function. A KerasTensor is a symbolic placeholder for a shape and dtype, used when constructing Keras Functional models or Keras Functions. You can only use it as input to a Keras layer or a Keras operation (from the namespaces `keras.layers` and `keras.operations`). You are likely doing something like:\n\n```\nx = Input(...)\n...\ntf_fn(x)  # Invalid.\n```\n\nWhat you should do instead is wrap `tf_fn` in a layer:\n\n```\nclass MyLayer(Layer):\n    def call(self, x):\n        return tf_fn(x)\n\nx = MyLayer()(x)\n```\n",
     "output_type": "error",
     "traceback": [
      "\u001b[1;31m---------------------------------------------------------------------------\u001b[0m",
      "\u001b[1;31mValueError\u001b[0m                                Traceback (most recent call last)",
      "Cell \u001b[1;32mIn[81], line 6\u001b[0m\n\u001b[0;32m      3\u001b[0m inputs_2 \u001b[38;5;241m=\u001b[39m tf\u001b[38;5;241m.\u001b[39mkeras\u001b[38;5;241m.\u001b[39mlayers\u001b[38;5;241m.\u001b[39mInput(shape\u001b[38;5;241m=\u001b[39m(\u001b[38;5;241m14\u001b[39m,))  \u001b[38;5;66;03m# 1D array with 14 elements\u001b[39;00m\n\u001b[0;32m      5\u001b[0m \u001b[38;5;66;03m# Step 2: Expand Dimension of Input 1\u001b[39;00m\n\u001b[1;32m----> 6\u001b[0m inputs_1_expanded \u001b[38;5;241m=\u001b[39m tf\u001b[38;5;241m.\u001b[39mexpand_dims(inputs_1, axis\u001b[38;5;241m=\u001b[39m\u001b[38;5;241m-\u001b[39m\u001b[38;5;241m1\u001b[39m)  \u001b[38;5;66;03m# Add an extra dimension\u001b[39;00m\n\u001b[0;32m      8\u001b[0m \u001b[38;5;66;03m# Step 3: Concatenate Inputs\u001b[39;00m\n\u001b[0;32m      9\u001b[0m concatenated_inputs \u001b[38;5;241m=\u001b[39m tf\u001b[38;5;241m.\u001b[39mkeras\u001b[38;5;241m.\u001b[39mlayers\u001b[38;5;241m.\u001b[39mConcatenate()([inputs_1_expanded, inputs_2])\n",
      "File \u001b[1;32m~\\anaconda3\\Lib\\site-packages\\tensorflow\\python\\ops\\weak_tensor_ops.py:88\u001b[0m, in \u001b[0;36mweak_tensor_unary_op_wrapper.<locals>.wrapper\u001b[1;34m(*args, **kwargs)\u001b[0m\n\u001b[0;32m     86\u001b[0m \u001b[38;5;28;01mdef\u001b[39;00m \u001b[38;5;21mwrapper\u001b[39m(\u001b[38;5;241m*\u001b[39margs, \u001b[38;5;241m*\u001b[39m\u001b[38;5;241m*\u001b[39mkwargs):\n\u001b[0;32m     87\u001b[0m   \u001b[38;5;28;01mif\u001b[39;00m \u001b[38;5;129;01mnot\u001b[39;00m ops\u001b[38;5;241m.\u001b[39mis_auto_dtype_conversion_enabled():\n\u001b[1;32m---> 88\u001b[0m     \u001b[38;5;28;01mreturn\u001b[39;00m op(\u001b[38;5;241m*\u001b[39margs, \u001b[38;5;241m*\u001b[39m\u001b[38;5;241m*\u001b[39mkwargs)\n\u001b[0;32m     89\u001b[0m   bound_arguments \u001b[38;5;241m=\u001b[39m signature\u001b[38;5;241m.\u001b[39mbind(\u001b[38;5;241m*\u001b[39margs, \u001b[38;5;241m*\u001b[39m\u001b[38;5;241m*\u001b[39mkwargs)\n\u001b[0;32m     90\u001b[0m   bound_arguments\u001b[38;5;241m.\u001b[39mapply_defaults()\n",
      "File \u001b[1;32m~\\anaconda3\\Lib\\site-packages\\tensorflow\\python\\util\\traceback_utils.py:153\u001b[0m, in \u001b[0;36mfilter_traceback.<locals>.error_handler\u001b[1;34m(*args, **kwargs)\u001b[0m\n\u001b[0;32m    151\u001b[0m \u001b[38;5;28;01mexcept\u001b[39;00m \u001b[38;5;167;01mException\u001b[39;00m \u001b[38;5;28;01mas\u001b[39;00m e:\n\u001b[0;32m    152\u001b[0m   filtered_tb \u001b[38;5;241m=\u001b[39m _process_traceback_frames(e\u001b[38;5;241m.\u001b[39m__traceback__)\n\u001b[1;32m--> 153\u001b[0m   \u001b[38;5;28;01mraise\u001b[39;00m e\u001b[38;5;241m.\u001b[39mwith_traceback(filtered_tb) \u001b[38;5;28;01mfrom\u001b[39;00m \u001b[38;5;28;01mNone\u001b[39;00m\n\u001b[0;32m    154\u001b[0m \u001b[38;5;28;01mfinally\u001b[39;00m:\n\u001b[0;32m    155\u001b[0m   \u001b[38;5;28;01mdel\u001b[39;00m filtered_tb\n",
      "File \u001b[1;32m~\\anaconda3\\Lib\\site-packages\\keras\\src\\backend\\common\\keras_tensor.py:91\u001b[0m, in \u001b[0;36mKerasTensor.__tf_tensor__\u001b[1;34m(self, dtype, name)\u001b[0m\n\u001b[0;32m     90\u001b[0m \u001b[38;5;28;01mdef\u001b[39;00m \u001b[38;5;21m__tf_tensor__\u001b[39m(\u001b[38;5;28mself\u001b[39m, dtype\u001b[38;5;241m=\u001b[39m\u001b[38;5;28;01mNone\u001b[39;00m, name\u001b[38;5;241m=\u001b[39m\u001b[38;5;28;01mNone\u001b[39;00m):\n\u001b[1;32m---> 91\u001b[0m     \u001b[38;5;28;01mraise\u001b[39;00m \u001b[38;5;167;01mValueError\u001b[39;00m(\n\u001b[0;32m     92\u001b[0m         \u001b[38;5;124m\"\u001b[39m\u001b[38;5;124mA KerasTensor cannot be used as input to a TensorFlow function. \u001b[39m\u001b[38;5;124m\"\u001b[39m\n\u001b[0;32m     93\u001b[0m         \u001b[38;5;124m\"\u001b[39m\u001b[38;5;124mA KerasTensor is a symbolic placeholder for a shape and dtype, \u001b[39m\u001b[38;5;124m\"\u001b[39m\n\u001b[0;32m     94\u001b[0m         \u001b[38;5;124m\"\u001b[39m\u001b[38;5;124mused when constructing Keras Functional models \u001b[39m\u001b[38;5;124m\"\u001b[39m\n\u001b[0;32m     95\u001b[0m         \u001b[38;5;124m\"\u001b[39m\u001b[38;5;124mor Keras Functions. You can only use it as input to a Keras layer \u001b[39m\u001b[38;5;124m\"\u001b[39m\n\u001b[0;32m     96\u001b[0m         \u001b[38;5;124m\"\u001b[39m\u001b[38;5;124mor a Keras operation (from the namespaces `keras.layers` \u001b[39m\u001b[38;5;124m\"\u001b[39m\n\u001b[0;32m     97\u001b[0m         \u001b[38;5;124m\"\u001b[39m\u001b[38;5;124mand `keras.operations`). \u001b[39m\u001b[38;5;124m\"\u001b[39m\n\u001b[0;32m     98\u001b[0m         \u001b[38;5;124m\"\u001b[39m\u001b[38;5;124mYou are likely doing something like:\u001b[39m\u001b[38;5;130;01m\\n\u001b[39;00m\u001b[38;5;130;01m\\n\u001b[39;00m\u001b[38;5;124m\"\u001b[39m\n\u001b[0;32m     99\u001b[0m         \u001b[38;5;124m\"\u001b[39m\u001b[38;5;124m```\u001b[39m\u001b[38;5;130;01m\\n\u001b[39;00m\u001b[38;5;124m\"\u001b[39m\n\u001b[0;32m    100\u001b[0m         \u001b[38;5;124m\"\u001b[39m\u001b[38;5;124mx = Input(...)\u001b[39m\u001b[38;5;130;01m\\n\u001b[39;00m\u001b[38;5;124m\"\u001b[39m\n\u001b[0;32m    101\u001b[0m         \u001b[38;5;124m\"\u001b[39m\u001b[38;5;124m...\u001b[39m\u001b[38;5;130;01m\\n\u001b[39;00m\u001b[38;5;124m\"\u001b[39m\n\u001b[0;32m    102\u001b[0m         \u001b[38;5;124m\"\u001b[39m\u001b[38;5;124mtf_fn(x)  # Invalid.\u001b[39m\u001b[38;5;130;01m\\n\u001b[39;00m\u001b[38;5;124m\"\u001b[39m\n\u001b[0;32m    103\u001b[0m         \u001b[38;5;124m\"\u001b[39m\u001b[38;5;124m```\u001b[39m\u001b[38;5;130;01m\\n\u001b[39;00m\u001b[38;5;130;01m\\n\u001b[39;00m\u001b[38;5;124m\"\u001b[39m\n\u001b[0;32m    104\u001b[0m         \u001b[38;5;124m\"\u001b[39m\u001b[38;5;124mWhat you should do instead is wrap `tf_fn` in a layer:\u001b[39m\u001b[38;5;130;01m\\n\u001b[39;00m\u001b[38;5;130;01m\\n\u001b[39;00m\u001b[38;5;124m\"\u001b[39m\n\u001b[0;32m    105\u001b[0m         \u001b[38;5;124m\"\u001b[39m\u001b[38;5;124m```\u001b[39m\u001b[38;5;130;01m\\n\u001b[39;00m\u001b[38;5;124m\"\u001b[39m\n\u001b[0;32m    106\u001b[0m         \u001b[38;5;124m\"\u001b[39m\u001b[38;5;124mclass MyLayer(Layer):\u001b[39m\u001b[38;5;130;01m\\n\u001b[39;00m\u001b[38;5;124m\"\u001b[39m\n\u001b[0;32m    107\u001b[0m         \u001b[38;5;124m\"\u001b[39m\u001b[38;5;124m    def call(self, x):\u001b[39m\u001b[38;5;130;01m\\n\u001b[39;00m\u001b[38;5;124m\"\u001b[39m\n\u001b[0;32m    108\u001b[0m         \u001b[38;5;124m\"\u001b[39m\u001b[38;5;124m        return tf_fn(x)\u001b[39m\u001b[38;5;130;01m\\n\u001b[39;00m\u001b[38;5;130;01m\\n\u001b[39;00m\u001b[38;5;124m\"\u001b[39m\n\u001b[0;32m    109\u001b[0m         \u001b[38;5;124m\"\u001b[39m\u001b[38;5;124mx = MyLayer()(x)\u001b[39m\u001b[38;5;130;01m\\n\u001b[39;00m\u001b[38;5;124m\"\u001b[39m\n\u001b[0;32m    110\u001b[0m         \u001b[38;5;124m\"\u001b[39m\u001b[38;5;124m```\u001b[39m\u001b[38;5;130;01m\\n\u001b[39;00m\u001b[38;5;124m\"\u001b[39m\n\u001b[0;32m    111\u001b[0m     )\n",
      "\u001b[1;31mValueError\u001b[0m: A KerasTensor cannot be used as input to a TensorFlow function. A KerasTensor is a symbolic placeholder for a shape and dtype, used when constructing Keras Functional models or Keras Functions. You can only use it as input to a Keras layer or a Keras operation (from the namespaces `keras.layers` and `keras.operations`). You are likely doing something like:\n\n```\nx = Input(...)\n...\ntf_fn(x)  # Invalid.\n```\n\nWhat you should do instead is wrap `tf_fn` in a layer:\n\n```\nclass MyLayer(Layer):\n    def call(self, x):\n        return tf_fn(x)\n\nx = MyLayer()(x)\n```\n"
     ]
    }
   ],
   "source": [
    "# Step 1: Define Input Layers\n",
    "inputs_1 = tf.keras.layers.Input(shape=())  # Scalar input\n",
    "inputs_2 = tf.keras.layers.Input(shape=(14,))  # 1D array with 14 elements\n",
    "\n",
    "# Step 2: Expand Dimension of Input 1\n",
    "inputs_1_expanded = tf.expand_dims(inputs_1, axis=-1)  # Add an extra dimension\n",
    "\n",
    "# Step 3: Concatenate Inputs\n",
    "concatenated_inputs = tf.keras.layers.Concatenate()([inputs_1_expanded, inputs_2])\n",
    "\n",
    "# Step 4: Define Model Architecture\n",
    "x = tf.keras.layers.Lambda(lambda x: tf.expand_dims(x, axis=1))(concatenated_inputs)\n",
    "x = tf.keras.layers.GRU(units=128, return_sequences=True, activation='relu')(x)\n",
    "x = tf.keras.layers.GRU(units=128, activation='relu')(x)\n",
    "x = tf.keras.layers.Dense(units=64, activation='relu')(x)\n",
    "\n",
    "# Step 5: Define Output Layer\n",
    "outputs = tf.keras.layers.Dense(units=HORIZON, activation='linear')(x)  # HORIZON is the number of time steps to forecast\n",
    "\n",
    "# Step 6: Create Model\n",
    "model_5 = tf.keras.Model([inputs_1, inputs_2], outputs)"
   ]
  },
  {
   "cell_type": "code",
   "execution_count": null,
   "metadata": {
    "id": "Sk78WpxX8AmU"
   },
   "outputs": [],
   "source": [
    "model_5.compile(loss=tf.keras.losses.MAE,\n",
    "                optimizer=tf.keras.optimizers.Adam(),\n",
    "                metrics=['mae'])"
   ]
  },
  {
   "cell_type": "code",
   "execution_count": null,
   "metadata": {
    "colab": {
     "base_uri": "https://localhost:8080/"
    },
    "id": "Fehvtf1SCz2m",
    "outputId": "4e2bba1a-0e4d-42ab-d26d-67e8f99ac3dc"
   },
   "outputs": [],
   "source": [
    "model_5.fit([input_1, input_2], y_train, epochs=100, batch_size=128)"
   ]
  },
  {
   "cell_type": "code",
   "execution_count": null,
   "metadata": {
    "id": "QTXWeBToDHyI"
   },
   "outputs": [],
   "source": [
    "input_1_test = X_test['block_reward'].values\n",
    "input_2_test = X_test.drop('block_reward', axis=1).values"
   ]
  },
  {
   "cell_type": "code",
   "execution_count": null,
   "metadata": {
    "colab": {
     "base_uri": "https://localhost:8080/"
    },
    "id": "XJhY0DZ9DZRh",
    "outputId": "2c97d3db-6258-4d49-af35-eae2813dc0c8"
   },
   "outputs": [],
   "source": [
    "model_5.evaluate([input_1_test, input_2_test], y_test)"
   ]
  }
 ],
 "metadata": {
  "accelerator": "GPU",
  "colab": {
   "gpuType": "T4",
   "provenance": []
  },
  "kernelspec": {
   "display_name": "Python 3 (ipykernel)",
   "language": "python",
   "name": "python3"
  },
  "language_info": {
   "codemirror_mode": {
    "name": "ipython",
    "version": 3
   },
   "file_extension": ".py",
   "mimetype": "text/x-python",
   "name": "python",
   "nbconvert_exporter": "python",
   "pygments_lexer": "ipython3",
   "version": "3.11.7"
  }
 },
 "nbformat": 4,
 "nbformat_minor": 4
}
